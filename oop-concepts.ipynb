{
 "cells": [
  {
   "cell_type": "markdown",
   "id": "7ce1a75c",
   "metadata": {},
   "source": [
    "# Object Oriented Programing Fundamentals"
   ]
  },
  {
   "cell_type": "markdown",
   "id": "6eab106b",
   "metadata": {},
   "source": [
    "## Classes and Instances"
   ]
  },
  {
   "cell_type": "code",
   "execution_count": 1,
   "id": "ab91f165",
   "metadata": {
    "ExecuteTime": {
     "end_time": "2023-02-03T21:23:23.335401Z",
     "start_time": "2023-02-03T21:23:23.330057Z"
    }
   },
   "outputs": [],
   "source": [
    "# An empty class. A class is a blueprint to construct objects\n",
    "\n",
    "class Employee:\n",
    "    pass"
   ]
  },
  {
   "cell_type": "code",
   "execution_count": 2,
   "id": "b490e072",
   "metadata": {
    "ExecuteTime": {
     "end_time": "2023-02-03T21:23:23.343830Z",
     "start_time": "2023-02-03T21:23:23.338860Z"
    }
   },
   "outputs": [
    {
     "name": "stdout",
     "output_type": "stream",
     "text": [
      "<__main__.Employee object at 0x14b3b9ff13d0> <__main__.Employee object at 0x14b3b9ff1370>\n"
     ]
    }
   ],
   "source": [
    "# Creating two instances of a class (objects). Notice those instances are saved in different memory spots \n",
    "\n",
    "emp_1 = Employee()\n",
    "emp_2 = Employee()\n",
    "\n",
    "print(emp_1, emp_2)"
   ]
  },
  {
   "cell_type": "code",
   "execution_count": 3,
   "id": "04d4845c",
   "metadata": {
    "ExecuteTime": {
     "end_time": "2023-02-03T21:23:23.351512Z",
     "start_time": "2023-02-03T21:23:23.346529Z"
    }
   },
   "outputs": [
    {
     "name": "stdout",
     "output_type": "stream",
     "text": [
      "Billy Venkman\n"
     ]
    }
   ],
   "source": [
    "# We can manually add attributes to a object\n",
    "\n",
    "emp_1.name = 'Billy'\n",
    "emp_2.name = 'Venkman'\n",
    "\n",
    "print(emp_1.name, emp_2.name)"
   ]
  },
  {
   "cell_type": "code",
   "execution_count": 4,
   "id": "879f06dd",
   "metadata": {
    "ExecuteTime": {
     "end_time": "2023-02-03T21:23:23.360353Z",
     "start_time": "2023-02-03T21:23:23.354715Z"
    }
   },
   "outputs": [
    {
     "name": "stdout",
     "output_type": "stream",
     "text": [
      "Patrick Macnamara\n"
     ]
    }
   ],
   "source": [
    "# Initialized method (Constructor)\n",
    "# __init__ method runs automatically. The self argument brings those attributes to the object created\n",
    "\n",
    "class Employee:\n",
    "    def __init__(self, first, last):\n",
    "        self.first = first             \n",
    "        self.last = last\n",
    "        \n",
    "emp_1 = Employee('Patrick', 'Macnamara')\n",
    "\n",
    "print(emp_1.first, emp_1.last)"
   ]
  },
  {
   "cell_type": "code",
   "execution_count": 5,
   "id": "d52fab5e",
   "metadata": {
    "ExecuteTime": {
     "end_time": "2023-02-03T21:23:23.372014Z",
     "start_time": "2023-02-03T21:23:23.362718Z"
    }
   },
   "outputs": [
    {
     "name": "stdout",
     "output_type": "stream",
     "text": [
      "Patrick Macnamara\n",
      "Willian Faraday\n"
     ]
    }
   ],
   "source": [
    "# Adding methods\n",
    "\n",
    "class Employee:\n",
    "    def __init__(self, first, last):\n",
    "        self.first = first             \n",
    "        self.last = last\n",
    "    \n",
    "    def full_name(self):  # Using the object as input and it is passed automatically\n",
    "        return self.first + ' ' + self.last \n",
    "        \n",
    "        \n",
    "        \n",
    "emp_1 = Employee('Patrick', 'Macnamara')\n",
    "emp_2 = Employee('Willian', 'Faraday')\n",
    "\n",
    "print(emp_1.full_name())  # We need the parenthesis since this is a method\n",
    "print(emp_2.full_name())"
   ]
  },
  {
   "cell_type": "markdown",
   "id": "f642d61f",
   "metadata": {},
   "source": [
    "## Class Variables"
   ]
  },
  {
   "cell_type": "code",
   "execution_count": 6,
   "id": "3db45a31",
   "metadata": {
    "ExecuteTime": {
     "end_time": "2023-02-03T21:23:23.384684Z",
     "start_time": "2023-02-03T21:23:23.374998Z"
    }
   },
   "outputs": [
    {
     "name": "stdout",
     "output_type": "stream",
     "text": [
      "100\n",
      "104\n"
     ]
    }
   ],
   "source": [
    "# Besides our instance variables, we may want to use shared class variables\n",
    "\n",
    "class Employee:\n",
    "    \n",
    "    raise_amount = 1.04  # Class variable\n",
    "    \n",
    "    def __init__(self, first, last, pay):\n",
    "        self.first = first             \n",
    "        self.last = last\n",
    "        self.pay = pay\n",
    "    \n",
    "    def full_name(self):  # Using the object as input and it is passed automatically\n",
    "        return self.first + ' ' + self.last\n",
    "    \n",
    "    def apply_raise(self):\n",
    "        self.pay = int(self.pay * self.raise_amount) # Acessing raise_amount through the object to the class\n",
    "        \n",
    "emp_1 = Employee('Thomas', 'Faraday', 100)\n",
    "\n",
    "print(emp_1.pay)\n",
    "emp_1.apply_raise()\n",
    "print(emp_1.pay)"
   ]
  },
  {
   "cell_type": "code",
   "execution_count": 7,
   "id": "cc7e4122",
   "metadata": {
    "ExecuteTime": {
     "end_time": "2023-02-03T21:23:23.397717Z",
     "start_time": "2023-02-03T21:23:23.392872Z"
    }
   },
   "outputs": [
    {
     "name": "stdout",
     "output_type": "stream",
     "text": [
      "{'first': 'Thomas', 'last': 'Faraday', 'pay': 104}\n",
      "{'__module__': '__main__', 'raise_amount': 1.04, '__init__': <function Employee.__init__ at 0x14b3b9f83820>, 'full_name': <function Employee.full_name at 0x14b3b9f838b0>, 'apply_raise': <function Employee.apply_raise at 0x14b3b9f83940>, '__dict__': <attribute '__dict__' of 'Employee' objects>, '__weakref__': <attribute '__weakref__' of 'Employee' objects>, '__doc__': None}\n"
     ]
    }
   ],
   "source": [
    "# Notice raise_amount isn't in the name space of the object. Therefore, when called it will get the class variable\n",
    "\n",
    "print(emp_1.__dict__)\n",
    "print(Employee.__dict__)"
   ]
  },
  {
   "cell_type": "code",
   "execution_count": 8,
   "id": "38bf2f6a",
   "metadata": {
    "ExecuteTime": {
     "end_time": "2023-02-03T21:23:23.406292Z",
     "start_time": "2023-02-03T21:23:23.401582Z"
    }
   },
   "outputs": [
    {
     "name": "stdout",
     "output_type": "stream",
     "text": [
      "104\n",
      "109\n"
     ]
    }
   ],
   "source": [
    "# We can add raise_amount manually to the object and override the class variable\n",
    "\n",
    "emp_1.raise_amount = 1.05\n",
    "print(emp_1.pay)\n",
    "emp_1.apply_raise()\n",
    "print(emp_1.pay)"
   ]
  },
  {
   "cell_type": "code",
   "execution_count": 9,
   "id": "67d2a943",
   "metadata": {
    "ExecuteTime": {
     "end_time": "2023-02-03T21:23:23.419743Z",
     "start_time": "2023-02-03T21:23:23.409081Z"
    }
   },
   "outputs": [
    {
     "name": "stdout",
     "output_type": "stream",
     "text": [
      "100\n",
      "104\n"
     ]
    }
   ],
   "source": [
    "# But notice we didn't messed up the class variable for future instances\n",
    "\n",
    "emp_2 = Employee('Thomas', 'Faraday', 100)\n",
    "print(emp_2.pay)\n",
    "emp_2.apply_raise()\n",
    "print(emp_2.pay)"
   ]
  },
  {
   "cell_type": "code",
   "execution_count": 10,
   "id": "96295d2c",
   "metadata": {
    "ExecuteTime": {
     "end_time": "2023-02-03T21:23:23.431172Z",
     "start_time": "2023-02-03T21:23:23.423402Z"
    }
   },
   "outputs": [
    {
     "name": "stdout",
     "output_type": "stream",
     "text": [
      "0\n",
      "3\n"
     ]
    }
   ],
   "source": [
    "# Sometimes it is useful to pull class variables directly from the class\n",
    "\n",
    "class Employee:\n",
    "    num_emps = 0\n",
    "    \n",
    "    def __init__(self, first, last, pay):\n",
    "        self.first = first             \n",
    "        self.last = last\n",
    "        self.pay = pay\n",
    "        \n",
    "        Employee.num_emps += 1  # Add one every new instance created \n",
    "        \n",
    "    def full_name(self):\n",
    "        return self.first + ' ' + self.last\n",
    "    \n",
    "print(Employee.num_emps) # Before creating instances\n",
    "    \n",
    "emp_1 = Employee('Thomas', 'Faraday', 100)\n",
    "emp_2 = Employee('Willian', 'Faraday', 100)\n",
    "emp_3 = Employee('Patrick', 'Macnamara', 150)\n",
    " \n",
    "print(Employee.num_emps) # After creating instances"
   ]
  },
  {
   "cell_type": "markdown",
   "id": "c152641b",
   "metadata": {},
   "source": [
    "## Regular methods, class methods and staticmethods"
   ]
  },
  {
   "cell_type": "code",
   "execution_count": 11,
   "id": "9e1df6c4",
   "metadata": {
    "ExecuteTime": {
     "end_time": "2023-02-03T21:23:23.446005Z",
     "start_time": "2023-02-03T21:23:23.433826Z"
    }
   },
   "outputs": [
    {
     "name": "stdout",
     "output_type": "stream",
     "text": [
      "1.04\n",
      "1.06\n"
     ]
    }
   ],
   "source": [
    "# The regular methods we've been using take the object as input using self\n",
    "# But now we want to create a method that take the class as a input\n",
    "\n",
    "class Employee:\n",
    "    \n",
    "    raise_amount = 1.04  # Class variable\n",
    "    \n",
    "    def __init__(self, first, last, pay):\n",
    "        self.first = first             \n",
    "        self.last = last\n",
    "        self.pay = pay\n",
    "    \n",
    "    def full_name(self):\n",
    "        return self.first + ' ' + self.last\n",
    "    \n",
    "    def apply_raise(self):\n",
    "        self.pay = int(self.pay * self.raise_amount)\n",
    "        \n",
    "    @classmethod    # Create a class method\n",
    "    def change_raise_amount(cls, amount):\n",
    "        cls.raise_amount = amount\n",
    "        \n",
    "emp_1 = Employee('Thomas', 'Faraday', 100)\n",
    "\n",
    "print(Employee.raise_amount)\n",
    "Employee.change_raise_amount(1.06)\n",
    "print(Employee.raise_amount)"
   ]
  },
  {
   "cell_type": "code",
   "execution_count": 12,
   "id": "ff5de546",
   "metadata": {
    "ExecuteTime": {
     "end_time": "2023-02-03T21:23:23.457433Z",
     "start_time": "2023-02-03T21:23:23.449761Z"
    }
   },
   "outputs": [
    {
     "name": "stdout",
     "output_type": "stream",
     "text": [
      "Willian Faraday\n"
     ]
    }
   ],
   "source": [
    "# We can use class methods as an alternative constructor\n",
    "# Suppose our input would be something like 'Thomas-Faraday' and we want to parse it automatically\n",
    "\n",
    "class Employee:\n",
    "    \n",
    "    def __init__(self, first, last):\n",
    "        self.first = first             \n",
    "        self.last = last\n",
    "    \n",
    "    def full_name(self):\n",
    "        return self.first + ' ' + self.last\n",
    "        \n",
    "    @classmethod                             # Create a class method to be our alternative constructor\n",
    "    def from_string(cls, emp_string):        # Using from_ is a convention\n",
    "        first, last = emp_string.split('-')  # Spliting the string\n",
    "        return cls(first, last)              # Creating the instance\n",
    "    \n",
    "emp_1 = Employee.from_string('Willian-Faraday')\n",
    "print(emp_1.full_name())        "
   ]
  },
  {
   "cell_type": "code",
   "execution_count": 13,
   "id": "3c778b88",
   "metadata": {
    "ExecuteTime": {
     "end_time": "2023-02-03T21:23:23.481878Z",
     "start_time": "2023-02-03T21:23:23.462135Z"
    }
   },
   "outputs": [
    {
     "data": {
      "text/plain": [
       "True"
      ]
     },
     "execution_count": 13,
     "metadata": {},
     "output_type": "execute_result"
    }
   ],
   "source": [
    "# Static methods don't pass neither objects (regular method) or classes (class method) automatically\n",
    "# We use staticmethods if we don't need the instance or class but it's somehow related\n",
    "\n",
    "class Employee:\n",
    "    \n",
    "    raise_amount = 1.05\n",
    "    \n",
    "    def __init__(self, first, last, pay):               # Our constructor\n",
    "        self.first = first             \n",
    "        self.last = last\n",
    "        self.pay = pay\n",
    "    \n",
    "    def apply_raise(self):       \n",
    "        self.pay = self.pay * raise_amount              # A regular method \n",
    "        \n",
    "    @classmethod\n",
    "    def change_raise_amount(cls, amount):               # A class method\n",
    "        cls.raise_amount = amount\n",
    "        \n",
    "    @staticmethod                                       # A static method\n",
    "    def is_workday(day):                                # Doesn't take object or classes. It's a simple function.\n",
    "        if day == 5 or day == 6:\n",
    "            return False\n",
    "        else:\n",
    "            return True\n",
    "        \n",
    "Employee.is_workday(3)"
   ]
  },
  {
   "cell_type": "markdown",
   "id": "29bc2463",
   "metadata": {},
   "source": [
    "## Inheritance and subclasses"
   ]
  },
  {
   "cell_type": "code",
   "execution_count": 14,
   "id": "04316cdb",
   "metadata": {
    "ExecuteTime": {
     "end_time": "2023-02-03T21:23:23.495231Z",
     "start_time": "2023-02-03T21:23:23.484499Z"
    }
   },
   "outputs": [
    {
     "name": "stdout",
     "output_type": "stream",
     "text": [
      "Azaghal\n"
     ]
    }
   ],
   "source": [
    "# We can extend a class using inheritance\n",
    "\n",
    "# Parent class\n",
    "class Employee:\n",
    "    \n",
    "    raise_amount = 1.04\n",
    "    \n",
    "    def __init__(self, first, last, pay):\n",
    "        self.first = first             \n",
    "        self.last = last\n",
    "        self.pay = pay\n",
    "    \n",
    "    def full_name(self):\n",
    "        return self.first + ' ' + self.last\n",
    "    \n",
    "    def apply_raise(self):\n",
    "        self.pay = int(self.pay * self.raise_amount)\n",
    "        \n",
    "        \n",
    "# Child class will inherit all methods and attributes from parent\n",
    "\n",
    "class Developer(Employee):\n",
    "    pass\n",
    "\n",
    "dev = Developer('Don', 'Azaghal', 200)\n",
    "print(dev.last)"
   ]
  },
  {
   "cell_type": "code",
   "execution_count": 15,
   "id": "279e4097",
   "metadata": {
    "ExecuteTime": {
     "end_time": "2023-02-03T21:23:23.512643Z",
     "start_time": "2023-02-03T21:23:23.502059Z"
    }
   },
   "outputs": [
    {
     "name": "stdout",
     "output_type": "stream",
     "text": [
      "Don Azaghal Java 1.1\n"
     ]
    }
   ],
   "source": [
    "# Better, we can add and modify our class by creating a new __init__\n",
    "\n",
    "class Developer(Employee):\n",
    "    \n",
    "    raise_amount = 1.1                                  # Changed a class variable\n",
    "    \n",
    "    def __init__(self, first, last, pay, prog_lang):    # Added programing language as input\n",
    "        super().__init__(first, last, pay)              # Parent class handle their inputs\n",
    "        self.prog_lang = prog_lang\n",
    "\n",
    "dev = Developer('Don', 'Azaghal', 200, 'Java')\n",
    "print(dev.full_name(), dev.prog_lang, dev.raise_amount)"
   ]
  },
  {
   "cell_type": "code",
   "execution_count": 16,
   "id": "ca939630",
   "metadata": {
    "ExecuteTime": {
     "end_time": "2023-02-03T21:23:23.525767Z",
     "start_time": "2023-02-03T21:23:23.518135Z"
    }
   },
   "outputs": [
    {
     "name": "stdout",
     "output_type": "stream",
     "text": [
      "True\n",
      "True\n",
      "True\n",
      "False\n"
     ]
    }
   ],
   "source": [
    "# Some tools to analyse inheritance\n",
    "\n",
    "print(isinstance(dev, Developer))\n",
    "print(isinstance(dev, Employee))\n",
    "print(issubclass(Developer, Employee))\n",
    "print(issubclass(Employee, Developer))"
   ]
  },
  {
   "cell_type": "code",
   "execution_count": 17,
   "id": "e3d80eea",
   "metadata": {
    "ExecuteTime": {
     "end_time": "2023-02-03T21:23:23.536208Z",
     "start_time": "2023-02-03T21:23:23.528647Z"
    }
   },
   "outputs": [
    {
     "name": "stdout",
     "output_type": "stream",
     "text": [
      "Help on class Developer in module __main__:\n",
      "\n",
      "class Developer(Employee)\n",
      " |  Developer(first, last, pay, prog_lang)\n",
      " |  \n",
      " |  Method resolution order:\n",
      " |      Developer\n",
      " |      Employee\n",
      " |      builtins.object\n",
      " |  \n",
      " |  Methods defined here:\n",
      " |  \n",
      " |  __init__(self, first, last, pay, prog_lang)\n",
      " |      Initialize self.  See help(type(self)) for accurate signature.\n",
      " |  \n",
      " |  ----------------------------------------------------------------------\n",
      " |  Data and other attributes defined here:\n",
      " |  \n",
      " |  raise_amount = 1.1\n",
      " |  \n",
      " |  ----------------------------------------------------------------------\n",
      " |  Methods inherited from Employee:\n",
      " |  \n",
      " |  apply_raise(self)\n",
      " |  \n",
      " |  full_name(self)\n",
      " |  \n",
      " |  ----------------------------------------------------------------------\n",
      " |  Data descriptors inherited from Employee:\n",
      " |  \n",
      " |  __dict__\n",
      " |      dictionary for instance variables (if defined)\n",
      " |  \n",
      " |  __weakref__\n",
      " |      list of weak references to the object (if defined)\n",
      "\n"
     ]
    }
   ],
   "source": [
    "help(Developer)"
   ]
  },
  {
   "cell_type": "markdown",
   "id": "f95ab432",
   "metadata": {},
   "source": [
    "## Special methods"
   ]
  },
  {
   "cell_type": "code",
   "execution_count": 18,
   "id": "436c8cd5",
   "metadata": {
    "ExecuteTime": {
     "end_time": "2023-02-03T21:23:23.548033Z",
     "start_time": "2023-02-03T21:23:23.538652Z"
    }
   },
   "outputs": [
    {
     "data": {
      "text/plain": [
       "<__main__.Employee at 0x14b3b9f94e50>"
      ]
     },
     "execution_count": 18,
     "metadata": {},
     "output_type": "execute_result"
    }
   ],
   "source": [
    "class Employee:\n",
    "    \n",
    "    raise_amount = 1.04\n",
    "    \n",
    "    def __init__(self, first, last, pay):\n",
    "        self.first = first             \n",
    "        self.last = last\n",
    "        self.pay = pay\n",
    "    \n",
    "    def full_name(self):\n",
    "        return self.first + ' ' + self.last\n",
    "    \n",
    "    def apply_raise(self):\n",
    "        self.pay = int(self.pay * self.raise_amount)\n",
    "        \n",
    "\n",
    "emp = Employee('Stephen', 'Venkman', 90)\n",
    "emp"
   ]
  },
  {
   "cell_type": "code",
   "execution_count": 19,
   "id": "84074dfb",
   "metadata": {
    "ExecuteTime": {
     "end_time": "2023-02-03T21:23:23.560816Z",
     "start_time": "2023-02-03T21:23:23.550997Z"
    }
   },
   "outputs": [
    {
     "name": "stdout",
     "output_type": "stream",
     "text": [
      "Stephen Venkman\n",
      "Employee('Stephen', 'Venkman', '90')\n"
     ]
    }
   ],
   "source": [
    "# __repr__ method changes what is returned from the object (help for devs)\n",
    "# __str__ method is a human readable string representation of an object. If not present, __repr__ is called.\n",
    "# Tipically we want __repr__ to return something that we can copy and run it again\n",
    "\n",
    "class Employee:\n",
    "    \n",
    "    raise_amount = 1.04\n",
    "    \n",
    "    def __init__(self, first, last, pay):\n",
    "        self.first = first             \n",
    "        self.last = last\n",
    "        self.pay = pay\n",
    "    \n",
    "    def full_name(self):\n",
    "        return self.first + ' ' + self.last\n",
    "    \n",
    "    def apply_raise(self):\n",
    "        self.pay = int(self.pay * self.raise_amount)\n",
    "    \n",
    "    def __repr__(self):\n",
    "        return f\"Employee('{self.first}', '{self.last}', '{self.pay}')\"\n",
    "    \n",
    "    def __str__(self):\n",
    "        return f\"{self.full_name()}\"\n",
    "        \n",
    "\n",
    "emp = Employee('Stephen', 'Venkman', 90)\n",
    "print(emp.__str__())\n",
    "print(emp.__repr__())"
   ]
  },
  {
   "cell_type": "markdown",
   "id": "2aff4113",
   "metadata": {},
   "source": [
    "## Property decorators"
   ]
  },
  {
   "cell_type": "code",
   "execution_count": 20,
   "id": "acdc6b61",
   "metadata": {
    "ExecuteTime": {
     "end_time": "2023-02-03T21:23:23.573912Z",
     "start_time": "2023-02-03T21:23:23.564222Z"
    }
   },
   "outputs": [
    {
     "name": "stdout",
     "output_type": "stream",
     "text": [
      "Pam\n",
      "Beesly\n",
      "Pam Beesly\n",
      "Pam.Beesly@company.com\n",
      "--------\n",
      "Pam\n",
      "Halpert\n",
      "Pam Halpert\n",
      "Pam.Beesly@company.com\n"
     ]
    }
   ],
   "source": [
    "# Consider this situation\n",
    "\n",
    "class Employee:\n",
    "    \n",
    "    def __init__(self, first, last):\n",
    "        self.first = first             \n",
    "        self.last = last\n",
    "        self.email = first + '.' + last + '@company.com'\n",
    "    \n",
    "    def full_name(self):\n",
    "        return self.first + ' ' + self.last\n",
    "    \n",
    "emp = Employee('Pam', 'Beesly')\n",
    "\n",
    "print(emp.first)\n",
    "print(emp.last)\n",
    "print(emp.full_name())\n",
    "print(emp.email)\n",
    "\n",
    "# Notice what happens when we change the last attribute from the object\n",
    "\n",
    "print('--------')\n",
    "\n",
    "emp.last = 'Halpert'\n",
    "\n",
    "print(emp.first)\n",
    "print(emp.last)\n",
    "print(emp.full_name())\n",
    "print(emp.email)"
   ]
  },
  {
   "cell_type": "code",
   "execution_count": 21,
   "id": "e3af5752",
   "metadata": {
    "ExecuteTime": {
     "end_time": "2023-02-03T21:23:23.579400Z",
     "start_time": "2023-02-03T21:23:23.576487Z"
    }
   },
   "outputs": [],
   "source": [
    "# The full_name gets updated because it uses the actual self parameters. But the email attribute don't\n",
    "# We could create a method for the email, but is better to use the @property decorator\n",
    "# It will make a method, that can be accessed as a attribute"
   ]
  },
  {
   "cell_type": "code",
   "execution_count": 22,
   "id": "adf5fdd0",
   "metadata": {
    "ExecuteTime": {
     "end_time": "2023-02-03T21:23:23.595244Z",
     "start_time": "2023-02-03T21:23:23.586200Z"
    }
   },
   "outputs": [
    {
     "name": "stdout",
     "output_type": "stream",
     "text": [
      "Pam\n",
      "Beesly\n",
      "Pam Beesly\n",
      "Pam.Beesly@company.com\n",
      "--------\n",
      "Pam\n",
      "Halpert\n",
      "Pam Halpert\n",
      "Pam.Halpert@company.com\n"
     ]
    }
   ],
   "source": [
    "class Employee:\n",
    "    \n",
    "    def __init__(self, first, last):\n",
    "        self.first = first             \n",
    "        self.last = last\n",
    "    \n",
    "    def full_name(self):\n",
    "        return self.first + ' ' + self.last\n",
    "    \n",
    "    @property\n",
    "    def email(self):\n",
    "        return self.first + '.' + self.last + '@company.com'\n",
    "    \n",
    "emp = Employee('Pam', 'Beesly')\n",
    "\n",
    "print(emp.first)\n",
    "print(emp.last)\n",
    "print(emp.full_name())\n",
    "print(emp.email)\n",
    "\n",
    "# Now email is a method, but accessed like a method. We don't break anyone code.\n",
    "\n",
    "print('--------')\n",
    "\n",
    "emp.last = 'Halpert'\n",
    "\n",
    "print(emp.first)\n",
    "print(emp.last)\n",
    "print(emp.full_name())\n",
    "print(emp.email)"
   ]
  },
  {
   "cell_type": "code",
   "execution_count": 23,
   "id": "7bfad9dd",
   "metadata": {
    "ExecuteTime": {
     "end_time": "2023-02-03T21:23:23.605024Z",
     "start_time": "2023-02-03T21:23:23.598754Z"
    }
   },
   "outputs": [],
   "source": [
    "# But we can do it using the setter\n",
    "\n",
    "class Employee:\n",
    "    \n",
    "    def __init__(self, first, last):\n",
    "        self.first = first             \n",
    "        self.last = last\n",
    "    \n",
    "    @property                                 # Made full_name a property attribute\n",
    "    def full_name(self):\n",
    "        return self.first + ' ' + self.last\n",
    "    \n",
    "    @property\n",
    "    def email(self):\n",
    "        return self.first + '.' + self.last + '@company.com'\n",
    "    \n",
    "emp = Employee('Pam', 'Beesly')\n",
    "\n",
    "# This won't work\n",
    "# emp.full_name = 'Pam Halpert'"
   ]
  },
  {
   "cell_type": "code",
   "execution_count": 24,
   "id": "3836a64c",
   "metadata": {
    "ExecuteTime": {
     "end_time": "2023-02-03T21:23:23.617315Z",
     "start_time": "2023-02-03T21:23:23.607472Z"
    }
   },
   "outputs": [
    {
     "data": {
      "text/plain": [
       "'Halpert'"
      ]
     },
     "execution_count": 24,
     "metadata": {},
     "output_type": "execute_result"
    }
   ],
   "source": [
    "# We can't set a property attribute by default\n",
    "\n",
    "class Employee:\n",
    "    \n",
    "    def __init__(self, first, last):\n",
    "        self.first = first             \n",
    "        self.last = last\n",
    "    \n",
    "    @property                               \n",
    "    def full_name(self):\n",
    "        return self.first + ' ' + self.last\n",
    "    \n",
    "    # Defining our setter\n",
    "    @full_name.setter\n",
    "    def full_name(self, name):\n",
    "        first, last = name.split(' ')\n",
    "        self.first = first\n",
    "        self.last = last\n",
    "    \n",
    "    @property\n",
    "    def email(self):\n",
    "        return self.first + '.' + self.last + '@company.com'\n",
    "    \n",
    "emp = Employee('Pam', 'Beesly')\n",
    "emp.full_name = 'Pam Halpert'\n",
    "\n",
    "emp.last"
   ]
  },
  {
   "cell_type": "code",
   "execution_count": 32,
   "id": "d1e21667",
   "metadata": {
    "ExecuteTime": {
     "end_time": "2023-02-03T21:26:07.346525Z",
     "start_time": "2023-02-03T21:26:07.339650Z"
    }
   },
   "outputs": [
    {
     "name": "stdout",
     "output_type": "stream",
     "text": [
      "Name deleted.\n",
      "None\n"
     ]
    }
   ],
   "source": [
    "# A deleter method can be used with the del command\n",
    "\n",
    "class Employee:\n",
    "    \n",
    "    def __init__(self, first, last):\n",
    "        self.first = first             \n",
    "        self.last = last\n",
    "    \n",
    "    @property                               \n",
    "    def full_name(self):\n",
    "        return self.first + ' ' + self.last\n",
    "    \n",
    "    @full_name.setter\n",
    "    def full_name(self, name):\n",
    "        first, last = name.split(' ')\n",
    "        self.first = first\n",
    "        self.last = last\n",
    "        \n",
    "    @full_name.deleter\n",
    "    def full_name(self):\n",
    "        self.first = None\n",
    "        self.last = None\n",
    "        print('Name deleted.')\n",
    "        \n",
    "    @property\n",
    "    def email(self):\n",
    "        return self.first + '.' + self.last + '@company.com'\n",
    "    \n",
    "emp = Employee('Pam', 'Beesly')\n",
    "emp.full_name = 'Pam Halpert'\n",
    "\n",
    "del emp.full_name\n",
    "print(emp.first)"
   ]
  },
  {
   "cell_type": "code",
   "execution_count": null,
   "id": "fcd894b0",
   "metadata": {},
   "outputs": [],
   "source": [
    "# Public, private and protected variables"
   ]
  },
  {
   "cell_type": "code",
   "execution_count": 25,
   "id": "ce47559b",
   "metadata": {
    "ExecuteTime": {
     "end_time": "2023-02-03T21:23:23.623773Z",
     "start_time": "2023-02-03T21:23:23.620288Z"
    }
   },
   "outputs": [],
   "source": [
    "# Creating Sklearn custom classes"
   ]
  },
  {
   "cell_type": "markdown",
   "id": "9b077047",
   "metadata": {},
   "source": [
    "### Acknowledgments\n",
    "\n",
    "I'm using the OOP playlist in [Corey Schafer's channel](https://www.youtube.com/@coreyms) as reference to study along."
   ]
  }
 ],
 "metadata": {
  "kernelspec": {
   "display_name": "Python 3",
   "language": "python",
   "name": "python3"
  },
  "language_info": {
   "codemirror_mode": {
    "name": "ipython",
    "version": 3
   },
   "file_extension": ".py",
   "mimetype": "text/x-python",
   "name": "python",
   "nbconvert_exporter": "python",
   "pygments_lexer": "ipython3",
   "version": "3.8.10"
  },
  "varInspector": {
   "cols": {
    "lenName": 16,
    "lenType": 16,
    "lenVar": 40
   },
   "kernels_config": {
    "python": {
     "delete_cmd_postfix": "",
     "delete_cmd_prefix": "del ",
     "library": "var_list.py",
     "varRefreshCmd": "print(var_dic_list())"
    },
    "r": {
     "delete_cmd_postfix": ") ",
     "delete_cmd_prefix": "rm(",
     "library": "var_list.r",
     "varRefreshCmd": "cat(var_dic_list()) "
    }
   },
   "types_to_exclude": [
    "module",
    "function",
    "builtin_function_or_method",
    "instance",
    "_Feature"
   ],
   "window_display": false
  }
 },
 "nbformat": 4,
 "nbformat_minor": 5
}
