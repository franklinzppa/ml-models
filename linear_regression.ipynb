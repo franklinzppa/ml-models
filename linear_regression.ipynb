{
 "cells": [
  {
   "cell_type": "code",
   "execution_count": 26,
   "metadata": {},
   "outputs": [],
   "source": [
    "# Importando bibliotecas\n",
    "\n",
    "import numpy as np\n",
    "import matplotlib.pyplot as plt"
   ]
  },
  {
   "cell_type": "code",
   "execution_count": 27,
   "metadata": {},
   "outputs": [],
   "source": [
    "# Paramêtros para plotting\n",
    "\n",
    "plt.style.use('science')\n",
    "plt.rcParams['figure.figsize'] = (8,6)\n",
    "plt.rcParams['font.size'] = 15\n",
    "plt.rcParams['text.usetex'] = True"
   ]
  },
  {
   "cell_type": "markdown",
   "metadata": {},
   "source": [
    "# Regressão linear"
   ]
  },
  {
   "cell_type": "markdown",
   "metadata": {},
   "source": [
    "Mas como sabemos se a nossa escolha de parâmetros foi boa e que o nosso modelo esteja funcionando tão bem quanto possível? Uma maneira é atraves do **erro quadrático médio**:\n",
    "\n",
    "$$ MSE(\\theta) = \\frac{1}{m} \\sum_{i=1}^{m} (y^{(i)} - \\hat{y}^{(i)})^2 $$\n",
    "\n",
    "Erro, quadrático, médio."
   ]
  },
  {
   "cell_type": "code",
   "execution_count": 23,
   "metadata": {},
   "outputs": [
    {
     "name": "stdout",
     "output_type": "stream",
     "text": [
      "O erro é:  0.0\n"
     ]
    }
   ],
   "source": [
    "# Calcular o erro sem tomar o quadrado ou módulo faz com que erros pra cima e para baixo se compensem \n",
    "\n",
    "y = [2, 3, 4] # Os valores que queriamos acertar\n",
    "y_pred = [0, 3, 6] # Os valores que prevemos\n",
    "\n",
    "m = len(y) # Número de instâncias\n",
    "\n",
    "error = 0.0 # Inicializando a variável \n",
    "\n",
    "for i in range(m):\n",
    "    error += (y[i] - y_pred[i]) # não elevamos ao quadrado ou tomamos módulo !\n",
    "\n",
    "error = error/m\n",
    "print(\"O erro é: \", error)"
   ]
  },
  {
   "cell_type": "code",
   "execution_count": 25,
   "metadata": {},
   "outputs": [
    {
     "name": "stdout",
     "output_type": "stream",
     "text": [
      "Erro quadrático médio:  2.6666666666666665\n",
      "Raiz do erro quadrático médio:  1.632993161855452\n"
     ]
    }
   ],
   "source": [
    "# Agora vamos calcular o MSE\n",
    "\n",
    "mse = 0.0\n",
    "\n",
    "for i in range(m):\n",
    "    mse += (y[i] - y_pred[i])**2\n",
    "\n",
    "mse = mse/m\n",
    "print(f\"Erro quadrático médio: \", mse)\n",
    "print(f\"Raiz do erro quadrático médio: \", np.sqrt(mse))"
   ]
  },
  {
   "cell_type": "code",
   "execution_count": 24,
   "metadata": {},
   "outputs": [
    {
     "name": "stdout",
     "output_type": "stream",
     "text": [
      "Erro absoluto:  1.3333333333333333\n"
     ]
    }
   ],
   "source": [
    "# Alternativamente poderiamos tomar o módulo \n",
    "\n",
    "abs_error = 0.0\n",
    "\n",
    "for i in range(m):\n",
    "    abs_error += abs(y[i] - y_pred[i])\n",
    "\n",
    "abs_error = abs_error/m\n",
    "print(f\"Erro absoluto: \", abs_error)"
   ]
  },
  {
   "cell_type": "markdown",
   "metadata": {},
   "source": [
    "Note que o erro quadrático médio *pune* mais fortemente nosso modelo que o erro absoluto."
   ]
  },
  {
   "cell_type": "code",
   "execution_count": 7,
   "metadata": {},
   "outputs": [
    {
     "data": {
      "image/png": "[encoded data removed]",
      "text/plain": [
       "<Figure size 576x432 with 1 Axes>"
      ]
     },
     "metadata": {
      "needs_background": "light"
     },
     "output_type": "display_data"
    }
   ],
   "source": [
    "X = 2* np.random.rand(100, 1)\n",
    "y = 4 + 3*X + np.random.rand(100, 1)\n",
    "\n",
    "plt.scatter(X,y)\n",
    "plt.xlabel(\"X\")\n",
    "plt.ylabel(\"y\")\n",
    "plt.show()"
   ]
  },
  {
   "cell_type": "markdown",
   "metadata": {},
   "source": [
    "Esse tipo de problema tem solução exata e é dado pela **Equação Normal**."
   ]
  },
  {
   "cell_type": "markdown",
   "metadata": {},
   "source": [
    "$$ \\bf{X} \\bf{\\theta} =\n",
    "\\begin{bmatrix}\n",
    "1 & x_{1}^{1}\\\\\n",
    "1 & x_{2}^{1}\n",
    "\\end{bmatrix}\n",
    "\\begin{bmatrix}\n",
    "\\theta_{0}\\\\\n",
    "\\theta_{1}\n",
    "\\end{bmatrix}\n",
    "=\n",
    "\\begin{bmatrix}\n",
    "\\theta_{0} + \\theta_{1} x_{1}^{1}\\\\\n",
    "\\theta_{0} + \\theta_{1} x_{1}^{2}\n",
    "\\end{bmatrix}\n",
    "=\n",
    "\\begin{bmatrix}\n",
    "\\hat{y}^{1}\\\\\n",
    "\\hat{y}^{2}\n",
    "\\end{bmatrix}\n",
    "=\n",
    "\\bf{\\hat{y}}\n",
    "$$"
   ]
  },
  {
   "cell_type": "code",
   "execution_count": null,
   "metadata": {},
   "outputs": [],
   "source": []
  },
  {
   "cell_type": "code",
   "execution_count": null,
   "metadata": {},
   "outputs": [],
   "source": []
  }
 ],
 "metadata": {
  "kernelspec": {
   "display_name": "Python 3",
   "language": "python",
   "name": "python3"
  },
  "language_info": {
   "codemirror_mode": {
    "name": "ipython",
    "version": 3
   },
   "file_extension": ".py",
   "mimetype": "text/x-python",
   "name": "python",
   "nbconvert_exporter": "python",
   "pygments_lexer": "ipython3",
   "version": "3.8.10"
  },
  "varInspector": {
   "cols": {
    "lenName": 16,
    "lenType": 16,
    "lenVar": 40
   },
   "kernels_config": {
    "python": {
     "delete_cmd_postfix": "",
     "delete_cmd_prefix": "del ",
     "library": "var_list.py",
     "varRefreshCmd": "print(var_dic_list())"
    },
    "r": {
     "delete_cmd_postfix": ") ",
     "delete_cmd_prefix": "rm(",
     "library": "var_list.r",
     "varRefreshCmd": "cat(var_dic_list()) "
    }
   },
   "types_to_exclude": [
    "module",
    "function",
    "builtin_function_or_method",
    "instance",
    "_Feature"
   ],
   "window_display": false
  }
 },
 "nbformat": 4,
 "nbformat_minor": 4
}
