{
 "cells": [
  {
   "cell_type": "code",
   "execution_count": 31,
   "id": "00805169",
   "metadata": {
    "ExecuteTime": {
     "end_time": "2023-02-02T22:15:47.672329Z",
     "start_time": "2023-02-02T22:15:47.668927Z"
    }
   },
   "outputs": [],
   "source": [
    "import numpy as np\n",
    "import matplotlib.pyplot as plt\n",
    "from sklearn.datasets import load_iris\n",
    "from sklearn.metrics import accuracy_score"
   ]
  },
  {
   "cell_type": "code",
   "execution_count": 2,
   "id": "8b8f5c6d",
   "metadata": {
    "ExecuteTime": {
     "end_time": "2023-02-02T22:04:11.569048Z",
     "start_time": "2023-02-02T22:04:11.559402Z"
    }
   },
   "outputs": [],
   "source": [
    "# Loading the Iris dataset\n",
    "\n",
    "iris = load_iris()\n",
    "X = iris.data[:, 2:] # Selecting the two last columns\n",
    "y = iris.target\n",
    "\n",
    "target_names = iris.target_names\n",
    "features_names = iris.feature_names"
   ]
  },
  {
   "cell_type": "code",
   "execution_count": 3,
   "id": "1f68a66b",
   "metadata": {
    "ExecuteTime": {
     "end_time": "2023-02-02T22:04:11.576093Z",
     "start_time": "2023-02-02T22:04:11.572505Z"
    }
   },
   "outputs": [],
   "source": [
    "# Restrict ourselves to two classes\n",
    "\n",
    "X = X[np.logical_or(y == 1, y == 2)]\n",
    "y = y[np.logical_or(y == 1, y == 2)]"
   ]
  },
  {
   "cell_type": "code",
   "execution_count": 4,
   "id": "6a85198b",
   "metadata": {
    "ExecuteTime": {
     "end_time": "2023-02-02T22:04:11.918178Z",
     "start_time": "2023-02-02T22:04:11.578394Z"
    },
    "scrolled": true
   },
   "outputs": [
    {
     "data": {
      "image/png": "[encoded data removed]",
      "text/plain": [
       "<Figure size 432x288 with 1 Axes>"
      ]
     },
     "metadata": {
      "needs_background": "light"
     },
     "output_type": "display_data"
    }
   ],
   "source": [
    "# Plotting\n",
    "\n",
    "plt.scatter(X[y == 1][:,0], X[y == 1][:,1], label=target_names[1])\n",
    "plt.scatter(X[y == 2][:,0], X[y == 2][:,1], label=target_names[2])\n",
    "plt.xlabel(features_names[2])\n",
    "plt.ylabel(features_names[3])\n",
    "plt.legend()\n",
    "plt.show()"
   ]
  },
  {
   "cell_type": "code",
   "execution_count": 42,
   "id": "74c6d2e5",
   "metadata": {
    "ExecuteTime": {
     "end_time": "2023-02-02T22:33:32.180810Z",
     "start_time": "2023-02-02T22:33:32.173576Z"
    }
   },
   "outputs": [],
   "source": [
    "def gini(partition):\n",
    "    \"\"\"\n",
    "    Measure of the purity of a sample.\n",
    "    \"\"\"\n",
    "    partition_sum = partition.sum()\n",
    "    g = 1 - ((partition/partition_sum)**2).sum()\n",
    "    return g"
   ]
  },
  {
   "cell_type": "code",
   "execution_count": 46,
   "id": "ffdb9ddd",
   "metadata": {
    "ExecuteTime": {
     "end_time": "2023-02-02T22:46:12.369006Z",
     "start_time": "2023-02-02T22:46:12.328078Z"
    }
   },
   "outputs": [],
   "source": [
    "# Loop through features and feature values, calculate information gain and find the best separation boundary\n",
    "\n",
    "gini_old = gini(y)\n",
    "information_gain_array = np.zeros(X.shape)\n",
    "\n",
    "for j in range(X.shape[1]):\n",
    "    for i in range(X.shape[0]):\n",
    "        thr = X[i,j]\n",
    "\n",
    "        true_branch = X[X[:,j] >= thr]\n",
    "        false_branch = X[X[:,j] < thr]\n",
    "\n",
    "        true_branch_labels = y[X[:,j] >= thr]\n",
    "        false_branch_labels = y[X[:,j] < thr]\n",
    "\n",
    "        _, partition_true = np.unique(true_branch_labels, return_counts=True)\n",
    "        _, partition_false = np.unique(false_branch_labels, return_counts=True)\n",
    "        \n",
    "        gini_true = gini(partition_true)\n",
    "        partition_true_sum = partition_true.sum() \n",
    "\n",
    "        gini_false = gini(partition_false)\n",
    "        partition_false_sum = partition_false.sum()\n",
    "\n",
    "        partition_total = partition_true_sum + partition_false_sum\n",
    "\n",
    "        weighted_mean_gini = (gini_true*partition_true_sum + gini_false*partition_false_sum)/partition_total\n",
    "        information_gain = gini_old - weighted_mean_gini\n",
    "        information_gain_array[i,j] = information_gain\n",
    "        \n",
    "flat_index = information_gain_array.argmax()\n",
    "max_gain_index = np.unravel_index(flat_index, information_gain_array.shape)"
   ]
  },
  {
   "cell_type": "code",
   "execution_count": 47,
   "id": "7b8f0242",
   "metadata": {
    "ExecuteTime": {
     "end_time": "2023-02-02T22:46:27.456951Z",
     "start_time": "2023-02-02T22:46:27.450242Z"
    }
   },
   "outputs": [
    {
     "data": {
      "text/plain": [
       "array([1., 1., 1., 1., 1., 1., 1., 1., 1., 1., 1., 1., 1., 1., 1., 1., 1.,\n",
       "       1., 1., 1., 2., 1., 1., 1., 1., 1., 1., 2., 1., 1., 1., 1., 1., 1.,\n",
       "       1., 1., 1., 1., 1., 1., 1., 1., 1., 1., 1., 1., 1., 1., 1., 1., 2.,\n",
       "       2., 2., 2., 2., 2., 2., 2., 2., 2., 2., 2., 2., 2., 2., 2., 2., 2.,\n",
       "       2., 1., 2., 2., 2., 2., 2., 2., 2., 2., 2., 1., 2., 2., 2., 1., 1.,\n",
       "       2., 2., 2., 2., 2., 2., 2., 2., 2., 2., 2., 2., 2., 2., 2.])"
      ]
     },
     "execution_count": 47,
     "metadata": {},
     "output_type": "execute_result"
    }
   ],
   "source": [
    "# The prediction is\n",
    "\n",
    "y_pred = np.zeros(X.shape[0])\n",
    "\n",
    "y_pred[X[:,1] >= X[27,1]] = 2\n",
    "y_pred[X[:,1] < X[27,1]] = 1\n",
    "\n",
    "y_pred"
   ]
  },
  {
   "cell_type": "code",
   "execution_count": 48,
   "id": "ae805c68",
   "metadata": {
    "ExecuteTime": {
     "end_time": "2023-02-02T22:46:30.166775Z",
     "start_time": "2023-02-02T22:46:30.160586Z"
    }
   },
   "outputs": [
    {
     "data": {
      "text/plain": [
       "0.94"
      ]
     },
     "execution_count": 48,
     "metadata": {},
     "output_type": "execute_result"
    }
   ],
   "source": [
    "# Measuring accuracy for our implementation\n",
    "\n",
    "accuracy_score(y, y_pred)"
   ]
  },
  {
   "cell_type": "code",
   "execution_count": 49,
   "id": "55674638",
   "metadata": {
    "ExecuteTime": {
     "end_time": "2023-02-02T22:46:32.726106Z",
     "start_time": "2023-02-02T22:46:32.511523Z"
    },
    "scrolled": true
   },
   "outputs": [
    {
     "data": {
      "image/png": "[encoded data removed]",
      "text/plain": [
       "<Figure size 432x288 with 1 Axes>"
      ]
     },
     "metadata": {
      "needs_background": "light"
     },
     "output_type": "display_data"
    }
   ],
   "source": [
    "# Plotting decision boundary\n",
    "\n",
    "plt.scatter(X[y == 1][:,0], X[y == 1][:,1], label=target_names[1])\n",
    "plt.scatter(X[y == 2][:,0], X[y == 2][:,1], label=target_names[2])\n",
    "plt.axhline(y=X[max_gain_index], c='r', ls='--')\n",
    "plt.xlabel(features_names[2])\n",
    "plt.ylabel(features_names[3])\n",
    "plt.legend()\n",
    "plt.show()"
   ]
  },
  {
   "cell_type": "code",
   "execution_count": 50,
   "id": "d8f7a8a5",
   "metadata": {
    "ExecuteTime": {
     "end_time": "2023-02-02T22:46:43.358924Z",
     "start_time": "2023-02-02T22:46:43.350162Z"
    }
   },
   "outputs": [
    {
     "data": {
      "text/plain": [
       "array([1, 1, 1, 1, 1, 1, 1, 1, 1, 1, 1, 1, 1, 1, 1, 1, 1, 1, 1, 1, 2, 1,\n",
       "       1, 1, 1, 1, 1, 1, 1, 1, 1, 1, 1, 1, 1, 1, 1, 1, 1, 1, 1, 1, 1, 1,\n",
       "       1, 1, 1, 1, 1, 1, 2, 2, 2, 2, 2, 2, 1, 2, 2, 2, 2, 2, 2, 2, 2, 2,\n",
       "       2, 2, 2, 1, 2, 2, 2, 2, 2, 2, 2, 2, 2, 1, 2, 2, 2, 1, 1, 2, 2, 2,\n",
       "       2, 2, 2, 2, 2, 2, 2, 2, 2, 2, 2, 2])"
      ]
     },
     "execution_count": 50,
     "metadata": {},
     "output_type": "execute_result"
    }
   ],
   "source": [
    "from sklearn.tree import DecisionTreeClassifier\n",
    "\n",
    "tree_clf = DecisionTreeClassifier(max_depth=1, random_state=42)\n",
    "tree_clf.fit(X,y)\n",
    "y_pred_sklearn = tree_clf.predict(X)\n",
    "y_pred_sklearn"
   ]
  },
  {
   "cell_type": "code",
   "execution_count": 51,
   "id": "1ad33225",
   "metadata": {
    "ExecuteTime": {
     "end_time": "2023-02-02T22:46:44.358198Z",
     "start_time": "2023-02-02T22:46:44.354051Z"
    }
   },
   "outputs": [
    {
     "data": {
      "text/plain": [
       "array([ True,  True,  True,  True,  True,  True,  True,  True,  True,\n",
       "        True,  True,  True,  True,  True,  True,  True,  True,  True,\n",
       "        True,  True,  True,  True,  True,  True,  True,  True,  True,\n",
       "       False,  True,  True,  True,  True,  True,  True,  True,  True,\n",
       "        True,  True,  True,  True,  True,  True,  True,  True,  True,\n",
       "        True,  True,  True,  True,  True,  True,  True,  True,  True,\n",
       "        True,  True, False,  True,  True,  True,  True,  True,  True,\n",
       "        True,  True,  True,  True,  True,  True,  True,  True,  True,\n",
       "        True,  True,  True,  True,  True,  True,  True,  True,  True,\n",
       "        True,  True,  True,  True,  True,  True,  True,  True,  True,\n",
       "        True,  True,  True,  True,  True,  True,  True,  True,  True,\n",
       "        True])"
      ]
     },
     "execution_count": 51,
     "metadata": {},
     "output_type": "execute_result"
    }
   ],
   "source": [
    "# Some predictions are different\n",
    "\n",
    "y_pred == y_pred_sklearn"
   ]
  },
  {
   "cell_type": "code",
   "execution_count": 52,
   "id": "32adac89",
   "metadata": {
    "ExecuteTime": {
     "end_time": "2023-02-02T22:46:50.367649Z",
     "start_time": "2023-02-02T22:46:50.362491Z"
    }
   },
   "outputs": [
    {
     "data": {
      "text/plain": [
       "0.94"
      ]
     },
     "execution_count": 52,
     "metadata": {},
     "output_type": "execute_result"
    }
   ],
   "source": [
    "# Comparing accuracy with sklearn. We have the same result\n",
    "\n",
    "accuracy_score(y, y_pred_sklearn)"
   ]
  },
  {
   "cell_type": "code",
   "execution_count": null,
   "id": "5cd8f05b",
   "metadata": {},
   "outputs": [],
   "source": [
    "def best_split(X, y):\n",
    "    gini_old = gini(y)                                # Saving our gini before separation           \n",
    "    information_gain_array = np.zeros(X.shape)        # Array for storing information gain\n",
    "\n",
    "    for j in range(X.shape[1]):                       # Loop through all rows  \n",
    "        for i in range(X.shape[0]):                   # Loop through all columns\n",
    "            thr = X[i,j]                              # Thrshold value to be considered as split value\n",
    "            \n",
    "            # True branch contains all values greater or equal than thr, otherwise, it goes to false branch\n",
    "            true_branch = X[X[:,j] >= thr]\n",
    "            false_branch = X[X[:,j] < thr]\n",
    "\n",
    "            # Get the labels for the branches\n",
    "            true_branch_labels = y[X[:,j] >= thr]     \n",
    "            false_branch_labels = y[X[:,j] < thr]\n",
    "            \n",
    "            # Counting labels in branches\n",
    "            _, partition_true = np.unique(true_branch_labels, return_counts=True)   \n",
    "            _, partition_false = np.unique(false_branch_labels, return_counts=True)\n",
    "        \n",
    "            # Calculate gini on the partitions\n",
    "            gini_true = gini(partition_true)            \n",
    "            gini_false = gini(partition_false)\n",
    "            \n",
    "            # Calculate the number of samples in the partitions \n",
    "            partition_true_sum = partition_true.sum()\n",
    "            partition_false_sum = partition_false.sum()\n",
    "            partition_total = partition_true_sum + partition_false_sum  # Total number of samples (len(y))\n",
    "            \n",
    "            # Getting the mean gini using the size of the partition as weight\n",
    "            weighted_mean_gini = (gini_true*partition_true_sum + gini_false*partition_false_sum)/partition_total\n",
    "            \n",
    "            # The difference from the old to the new gini is the information gain\n",
    "            information_gain = gini_old - weighted_mean_gini\n",
    "            information_gain_array[i,j] = information_gain\n",
    "            \n",
    "    # Find the best information gain\n",
    "    flat_index = information_gain_array.argmax()    \n",
    "    max_gain_index = np.unravel_index(flat_index, information_gain_array.shape)\n",
    "    \n",
    "    \n",
    "    return max_gain_index   "
   ]
  }
 ],
 "metadata": {
  "kernelspec": {
   "display_name": "Python 3",
   "language": "python",
   "name": "python3"
  },
  "language_info": {
   "codemirror_mode": {
    "name": "ipython",
    "version": 3
   },
   "file_extension": ".py",
   "mimetype": "text/x-python",
   "name": "python",
   "nbconvert_exporter": "python",
   "pygments_lexer": "ipython3",
   "version": "3.8.10"
  },
  "varInspector": {
   "cols": {
    "lenName": 16,
    "lenType": 16,
    "lenVar": 40
   },
   "kernels_config": {
    "python": {
     "delete_cmd_postfix": "",
     "delete_cmd_prefix": "del ",
     "library": "var_list.py",
     "varRefreshCmd": "print(var_dic_list())"
    },
    "r": {
     "delete_cmd_postfix": ") ",
     "delete_cmd_prefix": "rm(",
     "library": "var_list.r",
     "varRefreshCmd": "cat(var_dic_list()) "
    }
   },
   "types_to_exclude": [
    "module",
    "function",
    "builtin_function_or_method",
    "instance",
    "_Feature"
   ],
   "window_display": false
  }
 },
 "nbformat": 4,
 "nbformat_minor": 5
}
