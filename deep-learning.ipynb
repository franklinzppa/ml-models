{
 "cells": [
  {
   "cell_type": "code",
   "execution_count": 176,
   "id": "7854fb58",
   "metadata": {
    "ExecuteTime": {
     "end_time": "2023-09-06T17:24:29.068701Z",
     "start_time": "2023-09-06T17:24:28.327360Z"
    }
   },
   "outputs": [],
   "source": [
    "import numpy as np\n",
    "import matplotlib.pyplot as plt"
   ]
  },
  {
   "cell_type": "markdown",
   "id": "8744ee04",
   "metadata": {
    "ExecuteTime": {
     "end_time": "2023-09-06T14:51:47.298047Z",
     "start_time": "2023-09-06T14:51:47.293650Z"
    }
   },
   "source": [
    "# TLU"
   ]
  },
  {
   "cell_type": "code",
   "execution_count": 165,
   "id": "055a55fe",
   "metadata": {
    "ExecuteTime": {
     "end_time": "2023-09-06T17:15:44.667281Z",
     "start_time": "2023-09-06T17:15:44.659093Z"
    }
   },
   "outputs": [],
   "source": [
    "from sklearn.datasets import load_iris\n",
    "\n",
    "iris = load_iris()\n",
    "\n",
    "X = iris.data[:, 2:]\n",
    "y = iris.target\n",
    "\n",
    "# Getting only species 1 and 2\n",
    "X = X[(y==1)+(y==2)]\n",
    "y = y[(y==1)+(y==2)]\n",
    "\n",
    "# Setting y to be 0 or 1\n",
    "y = y-1\n",
    "\n",
    "m, n = X.shape"
   ]
  },
  {
   "cell_type": "code",
   "execution_count": 166,
   "id": "19469140",
   "metadata": {
    "ExecuteTime": {
     "end_time": "2023-09-06T17:15:44.856850Z",
     "start_time": "2023-09-06T17:15:44.846407Z"
    }
   },
   "outputs": [],
   "source": [
    "from sklearn.preprocessing import StandardScaler\n",
    "\n",
    "std = StandardScaler()\n",
    "X_std = std.fit_transform(X)"
   ]
  },
  {
   "cell_type": "code",
   "execution_count": 167,
   "id": "f21536c0",
   "metadata": {
    "ExecuteTime": {
     "end_time": "2023-09-06T17:15:45.003303Z",
     "start_time": "2023-09-06T17:15:44.998932Z"
    }
   },
   "outputs": [],
   "source": [
    "w = np.random.rand(n+1)\n",
    "X_bias = np.c_[np.ones(m), X_std]\n",
    "\n",
    "z = np.dot(X_bias, w)"
   ]
  },
  {
   "cell_type": "code",
   "execution_count": 168,
   "id": "cb17cc22",
   "metadata": {
    "ExecuteTime": {
     "end_time": "2023-09-06T17:15:45.161296Z",
     "start_time": "2023-09-06T17:15:45.156772Z"
    }
   },
   "outputs": [],
   "source": [
    "@np.vectorize\n",
    "def step(z):\n",
    "    if z >= 0:\n",
    "        return 1.0\n",
    "    else:\n",
    "        return 0.0"
   ]
  },
  {
   "cell_type": "code",
   "execution_count": 169,
   "id": "ea280924",
   "metadata": {
    "ExecuteTime": {
     "end_time": "2023-09-06T17:15:45.578285Z",
     "start_time": "2023-09-06T17:15:45.573908Z"
    }
   },
   "outputs": [],
   "source": [
    "def MSE(error):\n",
    "    return np.mean(error**2)"
   ]
  },
  {
   "cell_type": "code",
   "execution_count": 205,
   "id": "1fd1c670",
   "metadata": {
    "ExecuteTime": {
     "end_time": "2023-09-06T21:37:43.408457Z",
     "start_time": "2023-09-06T21:37:41.731112Z"
    }
   },
   "outputs": [],
   "source": [
    "eta = 0.1\n",
    "tol = 1e-3\n",
    "max_iter = 10000\n",
    "\n",
    "for k in range(max_iter):\n",
    "    z = np.dot(X_bias, w)\n",
    "    y_pred = step(z)\n",
    "    error = y - y_pred\n",
    "    \n",
    "    for j in range(m):\n",
    "        for i in range(1,n):\n",
    "            w[i] = w[i] + (eta*error[i]*X_bias[j,i])\n",
    "    \n",
    "    if MSE(error) <= tol:\n",
    "        print(f\"Converged after {i+1} iterations.\")\n",
    "        break\n",
    "        "
   ]
  },
  {
   "cell_type": "code",
   "execution_count": 206,
   "id": "5cdf1b02",
   "metadata": {
    "ExecuteTime": {
     "end_time": "2023-09-06T21:37:51.484886Z",
     "start_time": "2023-09-06T21:37:51.242495Z"
    },
    "scrolled": true
   },
   "outputs": [
    {
     "data": {
      "image/png": "[encoded data removed]",
      "text/plain": [
       "<Figure size 432x288 with 1 Axes>"
      ]
     },
     "metadata": {
      "needs_background": "light"
     },
     "output_type": "display_data"
    }
   ],
   "source": [
    "# Boundary\n",
    "x1_extremes = [X_std[:,0].min(), X_std[:,0].max()]\n",
    "boundary = -(w[0] + np.dot(w[1], x1_extremes))/w[2]\n",
    "\n",
    "plt.scatter(X_std[:,0], X_std[:,1], c=y)\n",
    "plt.plot(x1_extremes, boundary, ls='--', c='r')\n",
    "plt.show()"
   ]
  },
  {
   "cell_type": "markdown",
   "id": "c5cce308",
   "metadata": {},
   "source": [
    "# Perceptron"
   ]
  },
  {
   "cell_type": "code",
   "execution_count": null,
   "id": "1bae321a",
   "metadata": {},
   "outputs": [],
   "source": []
  },
  {
   "cell_type": "code",
   "execution_count": null,
   "id": "6581adf1",
   "metadata": {},
   "outputs": [],
   "source": []
  },
  {
   "cell_type": "code",
   "execution_count": null,
   "id": "929ac304",
   "metadata": {},
   "outputs": [],
   "source": []
  }
 ],
 "metadata": {
  "kernelspec": {
   "display_name": "Python 3",
   "language": "python",
   "name": "python3"
  },
  "language_info": {
   "codemirror_mode": {
    "name": "ipython",
    "version": 3
   },
   "file_extension": ".py",
   "mimetype": "text/x-python",
   "name": "python",
   "nbconvert_exporter": "python",
   "pygments_lexer": "ipython3",
   "version": "3.8.10"
  },
  "varInspector": {
   "cols": {
    "lenName": 16,
    "lenType": 16,
    "lenVar": 40
   },
   "kernels_config": {
    "python": {
     "delete_cmd_postfix": "",
     "delete_cmd_prefix": "del ",
     "library": "var_list.py",
     "varRefreshCmd": "print(var_dic_list())"
    },
    "r": {
     "delete_cmd_postfix": ") ",
     "delete_cmd_prefix": "rm(",
     "library": "var_list.r",
     "varRefreshCmd": "cat(var_dic_list()) "
    }
   },
   "types_to_exclude": [
    "module",
    "function",
    "builtin_function_or_method",
    "instance",
    "_Feature"
   ],
   "window_display": false
  }
 },
 "nbformat": 4,
 "nbformat_minor": 5
}
