{
 "cells": [
  {
   "cell_type": "code",
   "execution_count": 47,
   "id": "e4a06bb8",
   "metadata": {
    "ExecuteTime": {
     "end_time": "2023-01-28T20:56:24.253977Z",
     "start_time": "2023-01-28T20:56:24.247262Z"
    }
   },
   "outputs": [],
   "source": [
    "# Importing\n",
    "\n",
    "import numpy as np\n",
    "import matplotlib.pyplot as plt\n",
    "from sklearn.datasets import load_iris\n",
    "from sklearn.metrics import classification_report"
   ]
  },
  {
   "cell_type": "markdown",
   "id": "ed8357f1",
   "metadata": {},
   "source": [
    "# KNN Classification"
   ]
  },
  {
   "cell_type": "code",
   "execution_count": 118,
   "id": "40464b4a",
   "metadata": {
    "ExecuteTime": {
     "end_time": "2023-01-28T21:34:46.831265Z",
     "start_time": "2023-01-28T21:34:46.825192Z"
    }
   },
   "outputs": [],
   "source": [
    "# Loading the Iris dataset\n",
    "\n",
    "iris = load_iris()\n",
    "X = iris.data[:, 2:] # Selecting the two last columns\n",
    "y = iris.target\n",
    "\n",
    "target_names = iris.target_names\n",
    "features_names = iris.feature_names"
   ]
  },
  {
   "cell_type": "code",
   "execution_count": null,
   "id": "18e2943b",
   "metadata": {},
   "outputs": [],
   "source": [
    "# Suppose we are out in the wild and find three new specimens\n",
    "\n",
    "X_new = np.array([[3.0, 0.90],\n",
    "                  [7.0, 1.75],\n",
    "                  [1.2, 1.00]\n",
    "                 ])"
   ]
  },
  {
   "cell_type": "code",
   "execution_count": 53,
   "id": "9c2cfacb",
   "metadata": {
    "ExecuteTime": {
     "end_time": "2023-01-28T21:01:48.809560Z",
     "start_time": "2023-01-28T21:01:48.539492Z"
    },
    "scrolled": true
   },
   "outputs": [
    {
     "data": {
      "image/png": "[encoded data removed]",
      "text/plain": [
       "<Figure size 432x288 with 1 Axes>"
      ]
     },
     "metadata": {
      "needs_background": "light"
     },
     "output_type": "display_data"
    }
   ],
   "source": [
    "# Plotting\n",
    "\n",
    "plt.scatter(X[y == 0][:,0], X[y == 0][:,1], label=target_names[0])\n",
    "plt.scatter(X[y == 1][:,0], X[y == 1][:,1], label=target_names[1])\n",
    "plt.scatter(X[y == 2][:,0], X[y == 2][:,1], label=target_names[2])\n",
    "plt.scatter(X_new[:, 0], X_new[:, 1], marker='x', label='New instances')\n",
    "plt.xlabel(features_names[2])\n",
    "plt.ylabel(features_names[3])\n",
    "plt.legend()\n",
    "plt.show()"
   ]
  },
  {
   "cell_type": "code",
   "execution_count": null,
   "id": "3b689a37",
   "metadata": {},
   "outputs": [],
   "source": [
    "# We expect our predicts to be: [1, 2, 0]"
   ]
  },
  {
   "cell_type": "code",
   "execution_count": 177,
   "id": "6e90c571",
   "metadata": {
    "ExecuteTime": {
     "end_time": "2023-01-28T22:57:04.764855Z",
     "start_time": "2023-01-28T22:57:04.752653Z"
    }
   },
   "outputs": [],
   "source": [
    "def knn(X_new, X, y, k=5):\n",
    "    \"\"\"Predict a KNN Classification. \n",
    "    X_new are the instances to be predicted,\n",
    "    X, y are the features and targets used for training,\n",
    "    k is the number of neighbors.\n",
    "    Return a predict array.\n",
    "    \"\"\"\n",
    "    \n",
    "    M = X.shape[0]                    # Get the number of instances in the training set\n",
    "    N = X_new.shape[0]                # Get the number of instances to be predicted\n",
    "    \n",
    "    y_pred = np.zeros(N)              # Our predictions will be stored here\n",
    "    \n",
    "    for j in range(N):                # Loop to predict all X_new[j] instances given\n",
    "        distances = np.zeros(M)       # Distances are to be stored here\n",
    "\n",
    "        for i in range(M):            # Loop to get the distances from instance X_new[j] to all the training X\n",
    "            distances[i] = np.linalg.norm((X_new[j] - X[i])) # Euclidean distance\n",
    "\n",
    "        sorted_indexes = np.argsort(distances)     # Get the indexes from sorted distances (low to high)\n",
    "\n",
    "        k_indexes = sorted_indexes[:k]             # Get the k-th first (k-closest instances)\n",
    "        k_labels = y[k_indexes]                    # Get the labels from k-closests  \n",
    "\n",
    "        label, count = np.unique(k_labels, return_counts=True)  # Count the labels from k-closest\n",
    "        y_pred[j] = label[count.argmax()]                       # Assign the most frequent label  \n",
    "    \n",
    "    return y_pred"
   ]
  },
  {
   "cell_type": "code",
   "execution_count": 69,
   "id": "a2d2546b",
   "metadata": {
    "ExecuteTime": {
     "end_time": "2023-01-28T21:14:15.440634Z",
     "start_time": "2023-01-28T21:14:15.427444Z"
    }
   },
   "outputs": [
    {
     "data": {
      "text/plain": [
       "array([1., 2., 0.])"
      ]
     },
     "execution_count": 69,
     "metadata": {},
     "output_type": "execute_result"
    }
   ],
   "source": [
    "# As expected ...\n",
    "\n",
    "y_pred = knn(X_new, X, y, k=5)\n",
    "y_pred"
   ]
  },
  {
   "cell_type": "code",
   "execution_count": 150,
   "id": "946fcb9d",
   "metadata": {
    "ExecuteTime": {
     "end_time": "2023-01-28T22:00:38.726734Z",
     "start_time": "2023-01-28T22:00:38.719432Z"
    }
   },
   "outputs": [
    {
     "data": {
      "text/plain": [
       "array([1, 2, 0])"
      ]
     },
     "execution_count": 150,
     "metadata": {},
     "output_type": "execute_result"
    }
   ],
   "source": [
    "# Compare with Sklearn's version\n",
    "\n",
    "from sklearn.neighbors import KNeighborsClassifier\n",
    "\n",
    "knn_clf = KNeighborsClassifier(n_neighbors=5)\n",
    "knn_clf.fit(X, y)\n",
    "knn_clf.predict(X_new)"
   ]
  },
  {
   "cell_type": "code",
   "execution_count": 178,
   "id": "1fffade0",
   "metadata": {
    "ExecuteTime": {
     "end_time": "2023-01-28T23:02:30.554842Z",
     "start_time": "2023-01-28T23:02:30.387216Z"
    },
    "scrolled": false
   },
   "outputs": [
    {
     "name": "stdout",
     "output_type": "stream",
     "text": [
      "              precision    recall  f1-score   support\n",
      "\n",
      "           0       1.00      1.00      1.00        50\n",
      "           1       0.94      0.94      0.94        50\n",
      "           2       0.94      0.94      0.94        50\n",
      "\n",
      "    accuracy                           0.96       150\n",
      "   macro avg       0.96      0.96      0.96       150\n",
      "weighted avg       0.96      0.96      0.96       150\n",
      "\n",
      "----------------------------------------------------------------\n",
      "              precision    recall  f1-score   support\n",
      "\n",
      "           0       1.00      1.00      1.00        50\n",
      "           1       0.94      0.94      0.94        50\n",
      "           2       0.94      0.94      0.94        50\n",
      "\n",
      "    accuracy                           0.96       150\n",
      "   macro avg       0.96      0.96      0.96       150\n",
      "weighted avg       0.96      0.96      0.96       150\n",
      "\n"
     ]
    }
   ],
   "source": [
    "# Lets compare the metrics from the training\n",
    "\n",
    "y_pred_frank = knn(X, X, y, k=5)\n",
    "\n",
    "knn_clf = KNeighborsClassifier(n_neighbors=5)\n",
    "knn_clf.fit(X, y)\n",
    "y_pred_sklearn = knn_clf.predict(X)\n",
    "\n",
    "print(classification_report(y, y_pred_frank))\n",
    "print('----------------------------------------------------------------')\n",
    "print(classification_report(y, y_pred_sklearn))"
   ]
  },
  {
   "cell_type": "code",
   "execution_count": null,
   "id": "dbb9bdbb",
   "metadata": {},
   "outputs": [],
   "source": [
    "# Same result."
   ]
  },
  {
   "cell_type": "code",
   "execution_count": 170,
   "id": "813a0a84",
   "metadata": {
    "ExecuteTime": {
     "end_time": "2023-01-28T22:12:39.904202Z",
     "start_time": "2023-01-28T22:12:16.007190Z"
    },
    "scrolled": true
   },
   "outputs": [],
   "source": [
    "# Making a Voronoi plot\n",
    "\n",
    "# Build feature space\n",
    "\n",
    "x_space = np.linspace(0.8, 7.1, 150)\n",
    "y_space = np.linspace(0.0, 2.7, 150)\n",
    "\n",
    "xx, yy = np.meshgrid(x_space, y_space)\n",
    "\n",
    "X_space = np.c_[xx.ravel(), yy.ravel()]\n",
    "\n",
    "# Predict all points in the grid\n",
    "\n",
    "y_pred_frank = knn(X_space, X, y, k=5)\n",
    "\n",
    "knn_clf = KNeighborsClassifier(n_neighbors=5,  \n",
    "                               metric='euclidean',\n",
    "                               algorithm='brute'\n",
    "                              )\n",
    "knn_clf.fit(X, y)\n",
    "y_pred_sklearn = knn_clf.predict(X_space)"
   ]
  },
  {
   "cell_type": "code",
   "execution_count": 171,
   "id": "ffdc2687",
   "metadata": {
    "ExecuteTime": {
     "end_time": "2023-01-28T22:12:40.002550Z",
     "start_time": "2023-01-28T22:12:39.999002Z"
    }
   },
   "outputs": [],
   "source": [
    "# Performance is significantly slower when compared to the sklearn one"
   ]
  },
  {
   "cell_type": "code",
   "execution_count": 173,
   "id": "a999842b",
   "metadata": {
    "ExecuteTime": {
     "end_time": "2023-01-28T22:14:20.471569Z",
     "start_time": "2023-01-28T22:14:19.953875Z"
    },
    "scrolled": true
   },
   "outputs": [
    {
     "data": {
      "image/png": "[encoded data removed]",
      "text/plain": [
       "<Figure size 1008x360 with 2 Axes>"
      ]
     },
     "metadata": {
      "needs_background": "light"
     },
     "output_type": "display_data"
    }
   ],
   "source": [
    "# Plotting\n",
    "\n",
    "plt.figure(figsize=(14,5))\n",
    "\n",
    "plt.subplot(1,2,1)\n",
    "plt.contourf(xx, yy, y_pred_frank.reshape(xx.shape), extent=(0.8, 7.1, 0.0, 2.7), cmap='Pastel2')\n",
    "plt.contour(xx, yy, y_pred_frank.reshape(xx.shape), extent=(0.8, 7.1, 0.0, 2.7), linewidths=1, colors='k')\n",
    "plt.scatter(X[y == 0][:,0], X[y == 0][:,1], label=target_names[0])\n",
    "plt.scatter(X[y == 1][:,0], X[y == 1][:,1], label=target_names[1])\n",
    "plt.scatter(X[y == 2][:,0], X[y == 2][:,1], label=target_names[2])\n",
    "plt.xlabel(features_names[2])\n",
    "plt.ylabel(features_names[3])\n",
    "plt.xlim(0.8, 7.1)\n",
    "plt.ylim(0.0, 2.7)\n",
    "plt.title('KNN-Frank')\n",
    "plt.legend()\n",
    "\n",
    "plt.subplot(1,2,2)\n",
    "plt.contourf(xx, yy, y_pred_sklearn.reshape(xx.shape), extent=(0.8, 7.1, 0.0, 2.7), cmap='Pastel2')\n",
    "plt.contour(xx, yy, y_pred_sklearn.reshape(xx.shape), extent=(0.8, 7.1, 0.0, 2.7), linewidths=1, colors='k')\n",
    "plt.scatter(X[y == 0][:,0], X[y == 0][:,1], label=target_names[0])\n",
    "plt.scatter(X[y == 1][:,0], X[y == 1][:,1], label=target_names[1])\n",
    "plt.scatter(X[y == 2][:,0], X[y == 2][:,1], label=target_names[2])\n",
    "plt.xlabel(features_names[2])\n",
    "plt.ylabel(features_names[3])\n",
    "plt.xlim(0.8, 7.1)\n",
    "plt.ylim(0.0, 2.7)\n",
    "plt.title('KNN-Sklearn')\n",
    "plt.legend()\n",
    "\n",
    "plt.show()"
   ]
  },
  {
   "cell_type": "code",
   "execution_count": 174,
   "id": "244c9c36",
   "metadata": {
    "ExecuteTime": {
     "end_time": "2023-01-28T22:16:03.530087Z",
     "start_time": "2023-01-28T22:16:03.522533Z"
    }
   },
   "outputs": [],
   "source": [
    "# Pretty similar, but with some noise on the boundaries"
   ]
  },
  {
   "cell_type": "markdown",
   "id": "47e1b1fe",
   "metadata": {},
   "source": [
    "# KNN Regression"
   ]
  },
  {
   "cell_type": "code",
   "execution_count": 226,
   "id": "c475413b",
   "metadata": {
    "ExecuteTime": {
     "end_time": "2023-01-28T23:46:22.537094Z",
     "start_time": "2023-01-28T23:46:22.528771Z"
    }
   },
   "outputs": [],
   "source": [
    "data = pd.read_csv('data/iq-brain.csv')\n",
    "\n",
    "# Some cleaning\n",
    "\n",
    "data[['AREA', 'CCSA', 'CIRC', 'WT']] = data.loc[:,['AREA', 'CCSA', 'CIRC', 'WT']].apply(\n",
    "    lambda x: x.str.replace(',', '.'))\n",
    "\n",
    "cat_cols = ['PAIR', 'SEX (1=M)', 'ORDER']\n",
    "num_cols = ['IQ', 'VOL', 'AREA', 'CCSA', 'CIRC', 'WT']\n",
    "\n",
    "data[cat_cols] = data[cat_cols].astype('object')\n",
    "data[num_cols] = data[num_cols].astype('float32')"
   ]
  },
  {
   "cell_type": "code",
   "execution_count": 282,
   "id": "5b9c73df",
   "metadata": {
    "ExecuteTime": {
     "end_time": "2023-01-29T02:50:33.891249Z",
     "start_time": "2023-01-29T02:50:33.882927Z"
    }
   },
   "outputs": [
    {
     "data": {
      "text/plain": [
       "IQ      1.000000\n",
       "CCSA    0.156252\n",
       "CIRC    0.137839\n",
       "WT     -0.002702\n",
       "VOL    -0.063392\n",
       "AREA   -0.291319\n",
       "Name: IQ, dtype: float64"
      ]
     },
     "execution_count": 282,
     "metadata": {},
     "output_type": "execute_result"
    }
   ],
   "source": [
    "data.corr()['IQ'].sort_values(ascending=False)"
   ]
  },
  {
   "cell_type": "code",
   "execution_count": null,
   "id": "29a8d727",
   "metadata": {},
   "outputs": [],
   "source": [
    "data.corr()"
   ]
  },
  {
   "cell_type": "code",
   "execution_count": null,
   "id": "2e5426c8",
   "metadata": {},
   "outputs": [],
   "source": [
    "# Lets use CCSA (Cortex Cross section area) and AREA"
   ]
  },
  {
   "cell_type": "code",
   "execution_count": 227,
   "id": "a10bb74f",
   "metadata": {
    "ExecuteTime": {
     "end_time": "2023-01-28T23:46:22.883380Z",
     "start_time": "2023-01-28T23:46:22.877447Z"
    },
    "scrolled": true
   },
   "outputs": [
    {
     "name": "stderr",
     "output_type": "stream",
     "text": [
      "<ipython-input-227-b172bfda1e98>:3: SettingWithCopyWarning: \n",
      "A value is trying to be set on a copy of a slice from a DataFrame.\n",
      "Try using .loc[row_indexer,col_indexer] = value instead\n",
      "\n",
      "See the caveats in the documentation: https://pandas.pydata.org/pandas-docs/stable/user_guide/indexing.html#returning-a-view-versus-a-copy\n",
      "  X['WT'] = X['WT'].apply(lambda x: x.replace(',', '.')).astype('float32')\n"
     ]
    }
   ],
   "source": [
    "# Some cleaning\n",
    "\n",
    "X['WT'] = X['WT'].apply(lambda x: x.replace(',', '.')).astype('float32')\n",
    "X = X.to_numpy()\n"
   ]
  },
  {
   "cell_type": "code",
   "execution_count": null,
   "id": "739b28e1",
   "metadata": {},
   "outputs": [],
   "source": [
    "\n",
    "\n",
    "y = data['IQ'].to_numpy()"
   ]
  },
  {
   "cell_type": "code",
   "execution_count": 229,
   "id": "83fcb37d",
   "metadata": {
    "ExecuteTime": {
     "end_time": "2023-01-28T23:46:29.078928Z",
     "start_time": "2023-01-28T23:46:28.825830Z"
    }
   },
   "outputs": [
    {
     "data": {
      "image/png": "[encoded data removed]",
      "text/plain": [
       "<Figure size 432x288 with 2 Axes>"
      ]
     },
     "metadata": {
      "needs_background": "light"
     },
     "output_type": "display_data"
    }
   ],
   "source": [
    "plt.scatter(X[:,0], X[:,1], c=y)\n",
    "plt.xlabel('Brain Volume')\n",
    "plt.ylabel('Brain Weight')\n",
    "plt.colorbar()\n",
    "plt.show()"
   ]
  },
  {
   "cell_type": "code",
   "execution_count": 233,
   "id": "bca5bcc0",
   "metadata": {
    "ExecuteTime": {
     "end_time": "2023-01-29T02:18:17.295715Z",
     "start_time": "2023-01-29T02:18:16.992275Z"
    }
   },
   "outputs": [
    {
     "data": {
      "image/png": "[encoded data removed]",
      "text/plain": [
       "<Figure size 1008x288 with 2 Axes>"
      ]
     },
     "metadata": {
      "needs_background": "light"
     },
     "output_type": "display_data"
    }
   ],
   "source": [
    "plt.figure(figsize=(14,4))\n",
    "\n",
    "plt.subplot(1,2,1)\n",
    "plt.scatter(X[:,0], y)\n",
    "plt.xlabel('Brain Volume')\n",
    "plt.ylabel('IQ')\n",
    "\n",
    "plt.subplot(1,2,2)\n",
    "plt.scatter(X[:,1], y)\n",
    "plt.xlabel('Brain Weight')\n",
    "plt.ylabel('IQ')\n",
    "\n",
    "plt.show()"
   ]
  },
  {
   "cell_type": "code",
   "execution_count": null,
   "id": "2a7d2276",
   "metadata": {},
   "outputs": [],
   "source": [
    "def knn_regressor(X_new, X, y, k=5):\n",
    "    \"\"\"Do a KNN Regression prediction. \n",
    "    X_new are the instances to be predicted,\n",
    "    X, y are the features and targets used for training,\n",
    "    k is the number of neighbors.\n",
    "    Return a predict array.\n",
    "    \"\"\"\n",
    "    \n",
    "    M = X.shape[0]                    # Get the number of instances in the training set\n",
    "    N = X_new.shape[0]                # Get the number of instances to be predicted\n",
    "    \n",
    "    y_pred = np.zeros(N)              # Our predictions will be stored here\n",
    "    \n",
    "    for j in range(N):                # Loop to predict all X_new[j] instances given\n",
    "        distances = np.zeros(M)       # Distances are to be stored here\n",
    "\n",
    "        for i in range(M):            # Loop to get the distances from instance X_new[j] to all the training X\n",
    "            distances[i] = np.linalg.norm((X_new[j] - X[i])) # Euclidean distance\n",
    "\n",
    "        sorted_indexes = np.argsort(distances)     # Get the indexes from sorted distances (low to high)\n",
    "\n",
    "        k_indexes = sorted_indexes[:k]             # Get the k-th first (k-closest instances)\n",
    "        k_labels = y[k_indexes]                    # Get the labels from k-closests  \n",
    "\n",
    "        label, count = np.unique(k_labels, return_counts=True)  # Count the labels from k-closest\n",
    "        y_pred[j] = label[count.argmax()]                       # Assign the most frequent label  \n",
    "    \n",
    "    return y_pred"
   ]
  },
  {
   "cell_type": "code",
   "execution_count": null,
   "id": "ac304795",
   "metadata": {},
   "outputs": [],
   "source": []
  },
  {
   "cell_type": "code",
   "execution_count": null,
   "id": "bbae7440",
   "metadata": {},
   "outputs": [],
   "source": [
    "X_new = np.array([[1150.0, 81.0],\n",
    "                  []\n",
    "                 ])"
   ]
  },
  {
   "cell_type": "code",
   "execution_count": null,
   "id": "c267bec6",
   "metadata": {},
   "outputs": [],
   "source": [
    "M = X.shape[0]                    # Get the number of instances in the training set\n",
    "N = X_new.shape[0]                # Get the number of instances to be predicted\n",
    "\n",
    "y_pred = np.zeros(N)              # Our predictions will be stored here\n",
    "\n",
    "for j in range(N):                # Loop to predict all X_new[j] instances given\n",
    "    distances = np.zeros(M)       # Distances are to be stored here\n",
    "\n",
    "    for i in range(M):            # Loop to get the distances from instance X_new[j] to all the training X\n",
    "        distances[i] = np.linalg.norm((X_new[j] - X[i])) # Euclidean distance\n",
    "\n",
    "    sorted_indexes = np.argsort(distances)     # Get the indexes from sorted distances (low to high)\n",
    "\n",
    "    k_indexes = sorted_indexes[:k]             # Get the k-th first (k-closest instances)\n",
    "    k_labels = y[k_indexes]                    # Get the labels from k-closests  \n",
    "\n",
    "    label, count = np.unique(k_labels, return_counts=True)  # Count the labels from k-closest\n",
    "    y_pred[j] = label[count.argmax()]"
   ]
  },
  {
   "cell_type": "code",
   "execution_count": null,
   "id": "3847647c",
   "metadata": {},
   "outputs": [],
   "source": []
  },
  {
   "cell_type": "code",
   "execution_count": null,
   "id": "b1fd434b",
   "metadata": {},
   "outputs": [],
   "source": []
  },
  {
   "cell_type": "code",
   "execution_count": null,
   "id": "ddb782af",
   "metadata": {},
   "outputs": [],
   "source": []
  },
  {
   "cell_type": "code",
   "execution_count": null,
   "id": "5ed0327f",
   "metadata": {},
   "outputs": [],
   "source": []
  },
  {
   "cell_type": "code",
   "execution_count": 176,
   "id": "46911707",
   "metadata": {
    "ExecuteTime": {
     "end_time": "2023-01-28T22:17:21.191154Z",
     "start_time": "2023-01-28T22:17:21.186205Z"
    }
   },
   "outputs": [],
   "source": [
    "# Useful tips for KNN\n",
    "\n",
    "#\n",
    "#\n",
    "#"
   ]
  }
 ],
 "metadata": {
  "kernelspec": {
   "display_name": "Python 3",
   "language": "python",
   "name": "python3"
  },
  "language_info": {
   "codemirror_mode": {
    "name": "ipython",
    "version": 3
   },
   "file_extension": ".py",
   "mimetype": "text/x-python",
   "name": "python",
   "nbconvert_exporter": "python",
   "pygments_lexer": "ipython3",
   "version": "3.8.10"
  },
  "varInspector": {
   "cols": {
    "lenName": 16,
    "lenType": 16,
    "lenVar": 40
   },
   "kernels_config": {
    "python": {
     "delete_cmd_postfix": "",
     "delete_cmd_prefix": "del ",
     "library": "var_list.py",
     "varRefreshCmd": "print(var_dic_list())"
    },
    "r": {
     "delete_cmd_postfix": ") ",
     "delete_cmd_prefix": "rm(",
     "library": "var_list.r",
     "varRefreshCmd": "cat(var_dic_list()) "
    }
   },
   "position": {
    "height": "425.839px",
    "left": "867.779px",
    "right": "20px",
    "top": "120px",
    "width": "349.995px"
   },
   "types_to_exclude": [
    "module",
    "function",
    "builtin_function_or_method",
    "instance",
    "_Feature"
   ],
   "window_display": false
  }
 },
 "nbformat": 4,
 "nbformat_minor": 5
}
