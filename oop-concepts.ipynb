{
 "cells": [
  {
   "cell_type": "markdown",
   "id": "500df8ad",
   "metadata": {},
   "source": [
    "# Object Oriented Programing fundamentals"
   ]
  },
  {
   "cell_type": "markdown",
   "id": "118cae42",
   "metadata": {},
   "source": [
    "## Classes and Instances"
   ]
  },
  {
   "cell_type": "code",
   "execution_count": 5,
   "id": "03c6425e",
   "metadata": {
    "ExecuteTime": {
     "end_time": "2023-02-03T14:45:56.611627Z",
     "start_time": "2023-02-03T14:45:56.605759Z"
    }
   },
   "outputs": [],
   "source": [
    "# An empty class. A class is a blueprint to construct objects\n",
    "\n",
    "class Employee:\n",
    "    pass"
   ]
  },
  {
   "cell_type": "code",
   "execution_count": 6,
   "id": "d6623b09",
   "metadata": {
    "ExecuteTime": {
     "end_time": "2023-02-03T14:45:56.737410Z",
     "start_time": "2023-02-03T14:45:56.732877Z"
    }
   },
   "outputs": [
    {
     "name": "stdout",
     "output_type": "stream",
     "text": [
      "<__main__.Employee object at 0x14b4e3dbd1c0> <__main__.Employee object at 0x14b4e3dbd400>\n"
     ]
    }
   ],
   "source": [
    "# Creating two instances of a class (objects). Notice those instances are saved in different memory spots \n",
    "\n",
    "print(emp_1, emp_2)\n",
    "\n",
    "emp_1 = Employee()\n",
    "emp_2 = Employee()"
   ]
  },
  {
   "cell_type": "code",
   "execution_count": 9,
   "id": "18be899f",
   "metadata": {
    "ExecuteTime": {
     "end_time": "2023-02-03T14:48:13.813499Z",
     "start_time": "2023-02-03T14:48:13.808206Z"
    }
   },
   "outputs": [
    {
     "name": "stdout",
     "output_type": "stream",
     "text": [
      "Bill Ted\n"
     ]
    }
   ],
   "source": [
    "# We can manually add attributes to a object\n",
    "\n",
    "emp_1.name = 'Billy'\n",
    "emp_2.name = 'Venkman'\n",
    "\n",
    "print(emp_1.name, emp_2.name)"
   ]
  },
  {
   "cell_type": "code",
   "execution_count": 17,
   "id": "e2ec4e48",
   "metadata": {
    "ExecuteTime": {
     "end_time": "2023-02-03T14:58:25.988957Z",
     "start_time": "2023-02-03T14:58:25.982154Z"
    }
   },
   "outputs": [
    {
     "name": "stdout",
     "output_type": "stream",
     "text": [
      "Patrick Macnamara\n"
     ]
    }
   ],
   "source": [
    "# Initialized method (Constructor)\n",
    "# __init__ method runs automatically. The self argument brings those attributes to the object created\n",
    "\n",
    "class Employee:\n",
    "    def __init__(self, first, last):\n",
    "        self.first = first             \n",
    "        self.last = last\n",
    "        \n",
    "emp_1 = Employee('Patrick', 'Macnamara')\n",
    "\n",
    "print(emp_1.first, emp_1.last)"
   ]
  },
  {
   "cell_type": "code",
   "execution_count": 21,
   "id": "3fbd9f45",
   "metadata": {
    "ExecuteTime": {
     "end_time": "2023-02-03T15:03:49.019362Z",
     "start_time": "2023-02-03T15:03:49.010455Z"
    }
   },
   "outputs": [
    {
     "name": "stdout",
     "output_type": "stream",
     "text": [
      "Patrick Macnamara\n",
      "Willian Faraday\n"
     ]
    }
   ],
   "source": [
    "# Adding methods\n",
    "\n",
    "class Employee:\n",
    "    def __init__(self, first, last):\n",
    "        self.first = first             \n",
    "        self.last = last\n",
    "    \n",
    "    def full_name(self):  # Using the object as input and it is passed automatically\n",
    "        return self.first + ' ' + self.last \n",
    "        \n",
    "        \n",
    "        \n",
    "emp_1 = Employee('Patrick', 'Macnamara')\n",
    "emp_2 = Employee('Willian', 'Faraday')\n",
    "\n",
    "print(emp_1.full_name())  # We need the parenthesis since this is a method\n",
    "print(emp_2.full_name())"
   ]
  },
  {
   "cell_type": "markdown",
   "id": "8d2cfeb1",
   "metadata": {},
   "source": [
    "## Class Variables"
   ]
  },
  {
   "cell_type": "code",
   "execution_count": 26,
   "id": "f1544fd5",
   "metadata": {
    "ExecuteTime": {
     "end_time": "2023-02-03T15:17:37.900390Z",
     "start_time": "2023-02-03T15:17:37.893632Z"
    }
   },
   "outputs": [
    {
     "name": "stdout",
     "output_type": "stream",
     "text": [
      "100\n",
      "104\n"
     ]
    }
   ],
   "source": [
    "# Besides our instance variables, we may want to use shared class variables\n",
    "\n",
    "class Employee:\n",
    "    \n",
    "    raise_amount = 1.04  # Class variable\n",
    "    \n",
    "    def __init__(self, first, last, pay):\n",
    "        self.first = first             \n",
    "        self.last = last\n",
    "        self.pay = pay\n",
    "    \n",
    "    def full_name(self):  # Using the object as input and it is passed automatically\n",
    "        return self.first + ' ' + self.last\n",
    "    \n",
    "    def apply_raise(self):\n",
    "        self.pay = int(self.pay * self.raise_amount) # Acessing raise_amount through the object to the class\n",
    "        \n",
    "emp_1 = Employee('Thomas', 'Faraday', 100)\n",
    "\n",
    "print(emp_1.pay)\n",
    "emp_1.apply_raise()\n",
    "print(emp_1.pay)"
   ]
  },
  {
   "cell_type": "code",
   "execution_count": 29,
   "id": "7965b29b",
   "metadata": {
    "ExecuteTime": {
     "end_time": "2023-02-03T15:19:54.934227Z",
     "start_time": "2023-02-03T15:19:54.929464Z"
    }
   },
   "outputs": [
    {
     "name": "stdout",
     "output_type": "stream",
     "text": [
      "{'first': 'Thomas', 'last': 'Faraday', 'pay': 104}\n",
      "{'__module__': '__main__', 'raise_amount': 1.04, '__init__': <function Employee.__init__ at 0x14b4e3cd8670>, 'full_name': <function Employee.full_name at 0x14b4e3cd8280>, 'apply_raise': <function Employee.apply_raise at 0x14b50813b040>, '__dict__': <attribute '__dict__' of 'Employee' objects>, '__weakref__': <attribute '__weakref__' of 'Employee' objects>, '__doc__': None}\n"
     ]
    }
   ],
   "source": [
    "# Notice raise_amount isn't in the name space of the object. Therefore, when called it will get the class variable\n",
    "\n",
    "print(emp_1.__dict__)\n",
    "print(Employee.__dict__)"
   ]
  },
  {
   "cell_type": "code",
   "execution_count": 30,
   "id": "156af01e",
   "metadata": {
    "ExecuteTime": {
     "end_time": "2023-02-03T15:24:03.380611Z",
     "start_time": "2023-02-03T15:24:03.372348Z"
    }
   },
   "outputs": [
    {
     "name": "stdout",
     "output_type": "stream",
     "text": [
      "104\n",
      "109\n"
     ]
    }
   ],
   "source": [
    "# We can add raise_amount manually to the object and override the class variable\n",
    "\n",
    "emp_1.raise_amount = 1.05\n",
    "print(emp_1.pay)\n",
    "emp_1.apply_raise()\n",
    "print(emp_1.pay)"
   ]
  },
  {
   "cell_type": "code",
   "execution_count": 31,
   "id": "191e3b8c",
   "metadata": {
    "ExecuteTime": {
     "end_time": "2023-02-03T15:27:58.004242Z",
     "start_time": "2023-02-03T15:27:57.998219Z"
    }
   },
   "outputs": [
    {
     "name": "stdout",
     "output_type": "stream",
     "text": [
      "100\n",
      "104\n"
     ]
    }
   ],
   "source": [
    "# But notice we didn't messed up the class variable for future instances\n",
    "\n",
    "emp_2 = Employee('Thomas', 'Faraday', 100)\n",
    "print(emp_2.pay)\n",
    "emp_2.apply_raise()\n",
    "print(emp_2.pay)"
   ]
  },
  {
   "cell_type": "code",
   "execution_count": 35,
   "id": "17a2f964",
   "metadata": {
    "ExecuteTime": {
     "end_time": "2023-02-03T15:33:22.342497Z",
     "start_time": "2023-02-03T15:33:22.334392Z"
    }
   },
   "outputs": [
    {
     "name": "stdout",
     "output_type": "stream",
     "text": [
      "0\n",
      "3\n"
     ]
    }
   ],
   "source": [
    "# Sometimes it is useful to pull class variables directly from the class\n",
    "\n",
    "class Employee:\n",
    "    num_emps = 0\n",
    "    \n",
    "    def __init__(self, first, last, pay):\n",
    "        self.first = first             \n",
    "        self.last = last\n",
    "        self.pay = pay\n",
    "        \n",
    "        Employee.num_emps += 1  # Add one every new instance created \n",
    "        \n",
    "    def full_name(self):\n",
    "        return self.first + ' ' + self.last\n",
    "    \n",
    "print(Employee.num_emps) # Before creating instances\n",
    "    \n",
    "emp_1 = Employee('Thomas', 'Faraday', 100)\n",
    "emp_2 = Employee('Willian', 'Faraday', 100)\n",
    "emp_3 = Employee('Patrick', 'Macnamara', 150)\n",
    " \n",
    "print(Employee.num_emps) # After creating instances"
   ]
  },
  {
   "cell_type": "markdown",
   "id": "457d5f94",
   "metadata": {},
   "source": [
    "## Regular methods, class methods and staticmethods"
   ]
  },
  {
   "cell_type": "code",
   "execution_count": 45,
   "id": "fe2b8027",
   "metadata": {
    "ExecuteTime": {
     "end_time": "2023-02-03T15:42:56.926386Z",
     "start_time": "2023-02-03T15:42:56.915188Z"
    }
   },
   "outputs": [
    {
     "name": "stdout",
     "output_type": "stream",
     "text": [
      "1.04\n",
      "1.06\n"
     ]
    }
   ],
   "source": [
    "# The regular methods we've been using take the object as input using self\n",
    "# But now we want to create a method that take the class as a input\n",
    "\n",
    "class Employee:\n",
    "    \n",
    "    raise_amount = 1.04  # Class variable\n",
    "    \n",
    "    def __init__(self, first, last, pay):\n",
    "        self.first = first             \n",
    "        self.last = last\n",
    "        self.pay = pay\n",
    "    \n",
    "    def full_name(self):\n",
    "        return self.first + ' ' + self.last\n",
    "    \n",
    "    def apply_raise(self):\n",
    "        self.pay = int(self.pay * self.raise_amount)\n",
    "        \n",
    "    @classmethod    # Create a class method\n",
    "    def change_raise_amount(cls, amount):\n",
    "        cls.raise_amount = amount\n",
    "        \n",
    "emp_1 = Employee('Thomas', 'Faraday', 100)\n",
    "\n",
    "print(Employee.raise_amount)\n",
    "Employee.change_raise_amount(1.06)\n",
    "print(Employee.raise_amount)"
   ]
  },
  {
   "cell_type": "code",
   "execution_count": 52,
   "id": "43fd3948",
   "metadata": {
    "ExecuteTime": {
     "end_time": "2023-02-03T15:54:12.292437Z",
     "start_time": "2023-02-03T15:54:12.282293Z"
    }
   },
   "outputs": [
    {
     "name": "stdout",
     "output_type": "stream",
     "text": [
      "Willian Faraday\n"
     ]
    }
   ],
   "source": [
    "# We can use class methods as an alternative constructor\n",
    "# Suppose our input would be something like 'Thomas-Faraday' and we want to parse it automatically\n",
    "\n",
    "class Employee:\n",
    "    \n",
    "    def __init__(self, first, last):\n",
    "        self.first = first             \n",
    "        self.last = last\n",
    "    \n",
    "    def full_name(self):\n",
    "        return self.first + ' ' + self.last\n",
    "        \n",
    "    @classmethod                             # Create a class method to be our alternative constructor\n",
    "    def from_string(cls, emp_string):        # Using from_ is a convention\n",
    "        first, last = emp_string.split('-')  # Spliting the string\n",
    "        return cls(first, last)              # Creating the instance\n",
    "    \n",
    "emp_1 = Employee.from_string('Willian-Faraday')\n",
    "print(emp_1.full_name())        "
   ]
  },
  {
   "cell_type": "code",
   "execution_count": 57,
   "id": "364b8030",
   "metadata": {
    "ExecuteTime": {
     "end_time": "2023-02-03T16:19:13.119694Z",
     "start_time": "2023-02-03T16:19:13.110785Z"
    }
   },
   "outputs": [
    {
     "data": {
      "text/plain": [
       "True"
      ]
     },
     "execution_count": 57,
     "metadata": {},
     "output_type": "execute_result"
    }
   ],
   "source": [
    "# Static methods don't pass neither objects (regular method) or classes (class method) automatically\n",
    "# We use staticmethods if we don't need the instance or class but it's somehow related\n",
    "\n",
    "class Employee:\n",
    "    \n",
    "    raise_amount = 1.05\n",
    "    \n",
    "    def __init__(self, first, last, pay):               # Our constructor\n",
    "        self.first = first             \n",
    "        self.last = last\n",
    "        self.pay = pay\n",
    "    \n",
    "    def apply_raise(self):       \n",
    "        self.pay = self.pay * raise_amount              # A regular method \n",
    "        \n",
    "    @classmethod\n",
    "    def change_raise_amount(cls, amount):               # A class method\n",
    "        cls.raise_amount = amount\n",
    "        \n",
    "    @staticmethod                                       # A static method\n",
    "    def is_workday(day):                                # Doesn't take object or classes. It's a simple function.\n",
    "        if day == 5 or day == 6:\n",
    "            return False\n",
    "        else:\n",
    "            return True\n",
    "        \n",
    "Employee.is_workday(3)"
   ]
  },
  {
   "cell_type": "code",
   "execution_count": null,
   "id": "0ce5a02c",
   "metadata": {},
   "outputs": [],
   "source": [
    "# Creating Sklearn custom classes"
   ]
  },
  {
   "cell_type": "markdown",
   "id": "42175a71",
   "metadata": {},
   "source": [
    "### Acknowledgments\n",
    "\n",
    "I'm using the OOP playlist in [Corey Schafer's channel](https://www.youtube.com/@coreyms) as reference to study along."
   ]
  }
 ],
 "metadata": {
  "kernelspec": {
   "display_name": "Python 3",
   "language": "python",
   "name": "python3"
  },
  "language_info": {
   "codemirror_mode": {
    "name": "ipython",
    "version": 3
   },
   "file_extension": ".py",
   "mimetype": "text/x-python",
   "name": "python",
   "nbconvert_exporter": "python",
   "pygments_lexer": "ipython3",
   "version": "3.8.10"
  },
  "varInspector": {
   "cols": {
    "lenName": 16,
    "lenType": 16,
    "lenVar": 40
   },
   "kernels_config": {
    "python": {
     "delete_cmd_postfix": "",
     "delete_cmd_prefix": "del ",
     "library": "var_list.py",
     "varRefreshCmd": "print(var_dic_list())"
    },
    "r": {
     "delete_cmd_postfix": ") ",
     "delete_cmd_prefix": "rm(",
     "library": "var_list.r",
     "varRefreshCmd": "cat(var_dic_list()) "
    }
   },
   "types_to_exclude": [
    "module",
    "function",
    "builtin_function_or_method",
    "instance",
    "_Feature"
   ],
   "window_display": false
  }
 },
 "nbformat": 4,
 "nbformat_minor": 5
}
