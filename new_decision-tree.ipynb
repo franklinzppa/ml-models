{
 "cells": [
  {
   "cell_type": "code",
   "execution_count": 2,
   "id": "38e1209e",
   "metadata": {
    "ExecuteTime": {
     "end_time": "2023-05-03T19:27:23.561541Z",
     "start_time": "2023-05-03T19:27:23.553182Z"
    }
   },
   "outputs": [],
   "source": [
    "import numpy as np\n",
    "from sklearn.datasets import load_iris"
   ]
  },
  {
   "cell_type": "code",
   "execution_count": 22,
   "id": "ce3e37b4",
   "metadata": {
    "ExecuteTime": {
     "end_time": "2023-05-03T19:49:27.456200Z",
     "start_time": "2023-05-03T19:49:27.446879Z"
    }
   },
   "outputs": [],
   "source": [
    "iris = load_iris()\n",
    "\n",
    "X = iris.data[:, 2:]\n",
    "y = iris.target"
   ]
  },
  {
   "cell_type": "code",
   "execution_count": 79,
   "id": "9a8ae17f",
   "metadata": {
    "ExecuteTime": {
     "end_time": "2023-05-03T20:10:25.070395Z",
     "start_time": "2023-05-03T20:10:25.059322Z"
    }
   },
   "outputs": [],
   "source": [
    "# Questions\n",
    "\n",
    "thr = X[0,0]\n",
    "\n",
    "question = X[:,0] >= thr\n",
    "\n",
    "X_true_branch = X[question]\n",
    "X_false_branch = X[~question]\n",
    "\n",
    "true_branch_labels = y[question]\n",
    "false_branch_labels = y[~question]"
   ]
  },
  {
   "cell_type": "code",
   "execution_count": 86,
   "id": "0dc9e013",
   "metadata": {
    "ExecuteTime": {
     "end_time": "2023-05-03T20:11:02.975093Z",
     "start_time": "2023-05-03T20:11:02.970895Z"
    }
   },
   "outputs": [],
   "source": [
    "def partition(branch_labels):\n",
    "    value, count = np.unique(branch_labels, return_counts=True)\n",
    "    return count"
   ]
  },
  {
   "cell_type": "code",
   "execution_count": 87,
   "id": "8173e047",
   "metadata": {
    "ExecuteTime": {
     "end_time": "2023-05-03T20:11:03.260272Z",
     "start_time": "2023-05-03T20:11:03.255027Z"
    }
   },
   "outputs": [],
   "source": [
    "def gini(ratio):\n",
    "    return 1 - np.sum((ratio / ratio.sum())**2)"
   ]
  },
  {
   "cell_type": "code",
   "execution_count": 90,
   "id": "8a6856fd",
   "metadata": {
    "ExecuteTime": {
     "end_time": "2023-05-03T20:11:11.470717Z",
     "start_time": "2023-05-03T20:11:11.458387Z"
    }
   },
   "outputs": [
    {
     "data": {
      "text/plain": [
       "0.6624915894622432"
      ]
     },
     "execution_count": 90,
     "metadata": {},
     "output_type": "execute_result"
    }
   ],
   "source": [
    "def cost(true_branch, false_branch):\n",
    "    gini_true = gini(partition(true_branch_labels))\n",
    "    gini_false"
   ]
  },
  {
   "cell_type": "code",
   "execution_count": 89,
   "id": "7ccecd32",
   "metadata": {
    "ExecuteTime": {
     "end_time": "2023-05-03T20:11:03.925462Z",
     "start_time": "2023-05-03T20:11:03.917870Z"
    }
   },
   "outputs": [
    {
     "data": {
      "text/plain": [
       "array([11])"
      ]
     },
     "execution_count": 89,
     "metadata": {},
     "output_type": "execute_result"
    }
   ],
   "source": [
    "partition(false_branch_labels)"
   ]
  },
  {
   "cell_type": "code",
   "execution_count": null,
   "id": "1f8dc3ec",
   "metadata": {},
   "outputs": [],
   "source": []
  }
 ],
 "metadata": {
  "kernelspec": {
   "display_name": "Python 3",
   "language": "python",
   "name": "python3"
  },
  "language_info": {
   "codemirror_mode": {
    "name": "ipython",
    "version": 3
   },
   "file_extension": ".py",
   "mimetype": "text/x-python",
   "name": "python",
   "nbconvert_exporter": "python",
   "pygments_lexer": "ipython3",
   "version": "3.8.10"
  },
  "varInspector": {
   "cols": {
    "lenName": 16,
    "lenType": 16,
    "lenVar": 40
   },
   "kernels_config": {
    "python": {
     "delete_cmd_postfix": "",
     "delete_cmd_prefix": "del ",
     "library": "var_list.py",
     "varRefreshCmd": "print(var_dic_list())"
    },
    "r": {
     "delete_cmd_postfix": ") ",
     "delete_cmd_prefix": "rm(",
     "library": "var_list.r",
     "varRefreshCmd": "cat(var_dic_list()) "
    }
   },
   "types_to_exclude": [
    "module",
    "function",
    "builtin_function_or_method",
    "instance",
    "_Feature"
   ],
   "window_display": false
  }
 },
 "nbformat": 4,
 "nbformat_minor": 5
}
