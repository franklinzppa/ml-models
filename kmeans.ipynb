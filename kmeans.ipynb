{
 "cells": [
  {
   "cell_type": "code",
   "execution_count": 1,
   "id": "bea762be",
   "metadata": {
    "ExecuteTime": {
     "end_time": "2023-02-07T20:29:19.292724Z",
     "start_time": "2023-02-07T20:29:18.209070Z"
    }
   },
   "outputs": [],
   "source": [
    "import numpy as np\n",
    "import matplotlib.pyplot as plt\n",
    "from sklearn.datasets import load_iris\n",
    "\n",
    "# Plotting style\n",
    "\n",
    "plt.style.use('science')\n",
    "plt.rcParams['figure.figsize'] = (7,5)\n",
    "plt.rcParams['font.size'] = 15\n",
    "plt.rcParams['text.usetex'] = True"
   ]
  },
  {
   "cell_type": "code",
   "execution_count": 2,
   "id": "c4d65e04",
   "metadata": {
    "ExecuteTime": {
     "end_time": "2023-02-07T20:29:19.303171Z",
     "start_time": "2023-02-07T20:29:19.298905Z"
    }
   },
   "outputs": [],
   "source": [
    "np.random.seed(0)"
   ]
  },
  {
   "cell_type": "code",
   "execution_count": 3,
   "id": "bb7308ae",
   "metadata": {
    "ExecuteTime": {
     "end_time": "2023-02-07T20:29:19.696921Z",
     "start_time": "2023-02-07T20:29:19.306612Z"
    },
    "scrolled": false
   },
   "outputs": [
    {
     "data": {
      "image/png": "[encoded data removed]",
      "text/plain": [
       "<Figure size 432x288 with 1 Axes>"
      ]
     },
     "metadata": {
      "needs_background": "light"
     },
     "output_type": "display_data"
    }
   ],
   "source": [
    "# Load data and plot. This time it is unsupervised\n",
    "\n",
    "iris = load_iris()\n",
    "X = iris.data[:, 2:] # Selecting the two last columns\n",
    "\n",
    "features_names = iris.feature_names\n",
    "\n",
    "# Plotting\n",
    "\n",
    "plt.scatter(X[:,0], X[:,1])\n",
    "plt.xlabel(features_names[2])\n",
    "plt.ylabel(features_names[3])\n",
    "plt.show()"
   ]
  },
  {
   "cell_type": "code",
   "execution_count": 4,
   "id": "1c4661b4",
   "metadata": {
    "ExecuteTime": {
     "end_time": "2023-02-07T20:29:19.721729Z",
     "start_time": "2023-02-07T20:29:19.699480Z"
    }
   },
   "outputs": [],
   "source": [
    "class FrankKMeans:\n",
    "    def __init__(self, k):\n",
    "        self.k = k\n",
    "    \n",
    "    @staticmethod\n",
    "    def _get_distance(Xi, Xj):\n",
    "        return np.linalg.norm(Xi-Xj)\n",
    "    \n",
    "    def _init_centroids(self, X):\n",
    "        rng = np.random.default_rng()\n",
    "        self.centroids_ = rng.choice(X, size=self.k, replace=False)\n",
    "    \n",
    "    def _get_distance_from_centroids(self, X):\n",
    "        self.distances_ = np.zeros((X.shape[0], self.k))\n",
    "        \n",
    "        for j in range(self.k):\n",
    "            for i in range(X.shape[0]):\n",
    "                self.distances_[i,j] = self._get_distance(X[i], self.centroids_[j])\n",
    "    \n",
    "    def _assign_clusters(self):\n",
    "        self.clusters_ = np.argmin(self.distances_, axis=1)\n",
    "        \n",
    "    def _update_centroids(self, X):\n",
    "        updated_centroids = np.zeros(self.centroids_.shape)\n",
    "        for j in range(self.k):\n",
    "            updated_centroids[j] = X[self.clusters_ == j].mean(axis=0)\n",
    "        return updated_centroids\n",
    "    \n",
    "    def _get_centroids_max_change(self, new_centroid, old_centroid):\n",
    "        centroid_changes = np.linalg.norm((new_centroid - old_centroid), axis=0)\n",
    "        self.centroid_max_change_ = np.max(centroid_changes)\n",
    "        \n",
    "    def _get_inertia(self):\n",
    "        self.inertia_ = np.min(self.distances_**2, axis=1).sum()\n",
    "                 \n",
    "    def fit(self, X, y=None, n_trials=100, tol=1e-3, n_init=3):\n",
    "        \n",
    "        self.params_ = []\n",
    "        \n",
    "        for n in range(n_init):\n",
    "        \n",
    "            self.X = X\n",
    "\n",
    "            self._init_centroids(self.X)\n",
    "\n",
    "            for i in range(n_trials):\n",
    "                self._get_distance_from_centroids(self.X)\n",
    "                self._assign_clusters()\n",
    "                updated_centroids = self._update_centroids(self.X)\n",
    "                self._get_centroids_max_change(updated_centroids, self.centroids_)\n",
    "                self.centroids_ = updated_centroids.copy()\n",
    "\n",
    "                if self.centroid_max_change_ < tol:\n",
    "                    self.n_ = i+1\n",
    "                    self._get_inertia()\n",
    "                    self.params_.append([self.inertia_, self.centroids_, self.n_]) \n",
    "                    break\n",
    "        \n",
    "        self.best_n_ = np.argmin(np.array(self.params_, dtype=object)[:,0])\n",
    "        self.inertia_, self.centroids_, self.n_ = self.params_[self.best_n_]\n",
    "    \n",
    "    def predict(self, X):\n",
    "        self._get_distance_from_centroids(X)\n",
    "        self._assign_clusters()\n",
    "        return self.clusters_"
   ]
  },
  {
   "cell_type": "code",
   "execution_count": 5,
   "id": "1fd58429",
   "metadata": {
    "ExecuteTime": {
     "end_time": "2023-02-07T20:29:19.854005Z",
     "start_time": "2023-02-07T20:29:19.724910Z"
    }
   },
   "outputs": [],
   "source": [
    "# Running my implementation\n",
    "\n",
    "frank_kmeans = FrankKMeans(k=3)\n",
    "frank_kmeans.fit(X)\n",
    "frank_clusters = frank_kmeans.predict(X)"
   ]
  },
  {
   "cell_type": "code",
   "execution_count": 6,
   "id": "8c542911",
   "metadata": {
    "ExecuteTime": {
     "end_time": "2023-02-07T20:29:20.063362Z",
     "start_time": "2023-02-07T20:29:19.856373Z"
    }
   },
   "outputs": [],
   "source": [
    "# Sklearn implementation\n",
    "\n",
    "from sklearn.cluster import KMeans\n",
    "\n",
    "kmeans = KMeans(n_clusters=3, random_state=42)\n",
    "kmeans.fit(X)\n",
    "sklearn_clusters = kmeans.predict(X)"
   ]
  },
  {
   "cell_type": "code",
   "execution_count": 7,
   "id": "b857d316",
   "metadata": {
    "ExecuteTime": {
     "end_time": "2023-02-07T20:29:20.611845Z",
     "start_time": "2023-02-07T20:29:20.067057Z"
    }
   },
   "outputs": [],
   "source": [
    "# Build feature space for a Voronoi plot\n",
    "\n",
    "x_space = np.linspace(0.8, 7.1, 150)\n",
    "y_space = np.linspace(0.0, 2.7, 150)\n",
    "\n",
    "xx, yy = np.meshgrid(x_space, y_space)\n",
    "\n",
    "X_space = np.c_[xx.ravel(), yy.ravel()]\n",
    "\n",
    "# Frank's predict\n",
    "Z_frank = frank_kmeans.predict(X_space)\n",
    "Z_frank = Z_frank.reshape(xx.shape)\n",
    "\n",
    "# Sklearn's predict\n",
    "Z_sklearn = kmeans.predict(X_space)\n",
    "Z_sklearn = Z_sklearn.reshape(xx.shape)"
   ]
  },
  {
   "cell_type": "code",
   "execution_count": 8,
   "id": "917e8cb6",
   "metadata": {
    "ExecuteTime": {
     "end_time": "2023-02-07T20:29:21.763017Z",
     "start_time": "2023-02-07T20:29:20.615361Z"
    },
    "scrolled": false
   },
   "outputs": [
    {
     "data": {
      "image/png": "[encoded data removed]",
      "text/plain": [
       "<Figure size 1008x360 with 2 Axes>"
      ]
     },
     "metadata": {
      "needs_background": "light"
     },
     "output_type": "display_data"
    }
   ],
   "source": [
    "# Plotting\n",
    "\n",
    "plt.figure(figsize=(14,5))\n",
    "\n",
    "plt.subplot(1,2,1)\n",
    "plt.contourf(xx, yy, Z_frank, extent=(0.8, 7.1, 0.0, 2.7), cmap='Pastel2')\n",
    "plt.contour(xx, yy, Z_frank, extent=(0.8, 7.1, 0.0, 2.7), linewidths=1, colors='k')\n",
    "plt.scatter(X[:,0][frank_clusters == 0], X[:,1][frank_clusters == 0], label='Cluster 1')\n",
    "plt.scatter(X[:,0][frank_clusters == 1], X[:,1][frank_clusters == 1], label='Cluster 2')\n",
    "plt.scatter(X[:,0][frank_clusters == 2], X[:,1][frank_clusters == 2], label='Cluster 3')\n",
    "plt.scatter(frank_kmeans.centroids_[:, 0], frank_kmeans.centroids_[:,1], marker='x', c='k',label='Centroids')\n",
    "plt.xlabel(features_names[2])\n",
    "plt.ylabel(features_names[3])\n",
    "plt.xlim(0.8, 7.1)\n",
    "plt.ylim(0.0, 2.7)\n",
    "plt.legend()\n",
    "plt.title(\"Frank's KMeans\")\n",
    "\n",
    "plt.subplot(1,2,2)\n",
    "plt.contourf(xx, yy, Z_sklearn, extent=(0.8, 7.1, 0.0, 2.7), cmap='Pastel2')\n",
    "plt.contour(xx, yy, Z_sklearn, extent=(0.8, 7.1, 0.0, 2.7), linewidths=1, colors='k')\n",
    "plt.scatter(X[:,0][sklearn_clusters == 0], X[:,1][sklearn_clusters == 0], label='Cluster 1')\n",
    "plt.scatter(X[:,0][sklearn_clusters == 1], X[:,1][sklearn_clusters == 1], label='Cluster 2')\n",
    "plt.scatter(X[:,0][sklearn_clusters == 2], X[:,1][sklearn_clusters == 2], label='Cluster 3')\n",
    "plt.scatter(kmeans.cluster_centers_[:, 0], kmeans.cluster_centers_[:,1], marker='x', c='k',label='Centroids')\n",
    "plt.xlabel(features_names[2])\n",
    "plt.ylabel(features_names[3])\n",
    "plt.xlim(0.8, 7.1)\n",
    "plt.ylim(0.0, 2.7)\n",
    "plt.legend()\n",
    "plt.title(\"Sklearn's KMeans\")\n",
    "\n",
    "plt.show()"
   ]
  },
  {
   "cell_type": "code",
   "execution_count": 9,
   "id": "b0744432",
   "metadata": {
    "ExecuteTime": {
     "end_time": "2023-02-07T20:29:21.782205Z",
     "start_time": "2023-02-07T20:29:21.767815Z"
    }
   },
   "outputs": [
    {
     "name": "stdout",
     "output_type": "stream",
     "text": [
      "Inertia (Sklearn): 31.371358974358984\n",
      "Inertia (Frank): 31.371358974358976\n"
     ]
    }
   ],
   "source": [
    "# Compare inertia obtained\n",
    "\n",
    "print(f'Inertia (Sklearn): {kmeans.inertia_}')\n",
    "print(f'Inertia (Frank): {frank_kmeans.inertia_}')"
   ]
  }
 ],
 "metadata": {
  "kernelspec": {
   "display_name": "Python 3",
   "language": "python",
   "name": "python3"
  },
  "language_info": {
   "codemirror_mode": {
    "name": "ipython",
    "version": 3
   },
   "file_extension": ".py",
   "mimetype": "text/x-python",
   "name": "python",
   "nbconvert_exporter": "python",
   "pygments_lexer": "ipython3",
   "version": "3.8.10"
  },
  "varInspector": {
   "cols": {
    "lenName": 16,
    "lenType": 16,
    "lenVar": 40
   },
   "kernels_config": {
    "python": {
     "delete_cmd_postfix": "",
     "delete_cmd_prefix": "del ",
     "library": "var_list.py",
     "varRefreshCmd": "print(var_dic_list())"
    },
    "r": {
     "delete_cmd_postfix": ") ",
     "delete_cmd_prefix": "rm(",
     "library": "var_list.r",
     "varRefreshCmd": "cat(var_dic_list()) "
    }
   },
   "types_to_exclude": [
    "module",
    "function",
    "builtin_function_or_method",
    "instance",
    "_Feature"
   ],
   "window_display": false
  }
 },
 "nbformat": 4,
 "nbformat_minor": 5
}
