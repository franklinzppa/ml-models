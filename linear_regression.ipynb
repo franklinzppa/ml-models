{
 "cells": [
  {
   "cell_type": "code",
   "execution_count": 1,
   "metadata": {},
   "outputs": [],
   "source": [
    "# Importando bibliotecas\n",
    "\n",
    "import numpy as np\n",
    "import matplotlib.pyplot as plt"
   ]
  },
  {
   "cell_type": "code",
   "execution_count": 23,
   "metadata": {},
   "outputs": [],
   "source": [
    "# Paramêtros para plotting\n",
    "\n",
    "plt.style.use('science')\n",
    "plt.rcParams['figure.figsize'] = (8,6)\n",
    "plt.rcParams['font.size'] = 15\n",
    "plt.rcParams['text.usetex'] = True"
   ]
  },
  {
   "cell_type": "markdown",
   "metadata": {},
   "source": [
    "# Regressão linear"
   ]
  },
  {
   "cell_type": "markdown",
   "metadata": {},
   "source": [
    "Mas como sabemos se a nossa escolha de parâmetros foi boa e que o nosso modelo esteja funcionando tão bem quanto possível? Uma maneira é atraves do **erro quadrático médio**:\n",
    "\n",
    "$$ MSE(\\theta) = \\frac{1}{m} \\sum_{i=1}^{m} (y^{(i)} - \\hat{y}^{(i)})^2 $$\n",
    "\n",
    "Erro, quadrático, médio."
   ]
  },
  {
   "cell_type": "code",
   "execution_count": 3,
   "metadata": {},
   "outputs": [
    {
     "name": "stdout",
     "output_type": "stream",
     "text": [
      "O erro é:  0.0\n"
     ]
    }
   ],
   "source": [
    "# Calcular o erro sem tomar o quadrado ou módulo faz com que erros pra cima e para baixo se compensem \n",
    "\n",
    "y = [2, 3, 4] # Os valores que queriamos acertar\n",
    "y_pred = [0, 3, 6] # Os valores que prevemos\n",
    "\n",
    "m = len(y) # Número de instâncias\n",
    "\n",
    "error = 0.0 # Inicializando a variável \n",
    "\n",
    "for i in range(m):\n",
    "    error += (y[i] - y_pred[i]) # não elevamos ao quadrado ou tomamos módulo !\n",
    "\n",
    "error = error/m\n",
    "print(\"O erro é: \", error)"
   ]
  },
  {
   "cell_type": "code",
   "execution_count": 4,
   "metadata": {},
   "outputs": [
    {
     "name": "stdout",
     "output_type": "stream",
     "text": [
      "Erro quadrático médio:  2.6666666666666665\n",
      "Raiz do erro quadrático médio:  1.632993161855452\n"
     ]
    }
   ],
   "source": [
    "# Agora vamos calcular o MSE\n",
    "\n",
    "mse = 0.0\n",
    "\n",
    "for i in range(m):\n",
    "    mse += (y[i] - y_pred[i])**2\n",
    "\n",
    "mse = mse/m\n",
    "print(f\"Erro quadrático médio: \", mse)\n",
    "print(f\"Raiz do erro quadrático médio: \", np.sqrt(mse))"
   ]
  },
  {
   "cell_type": "code",
   "execution_count": 5,
   "metadata": {},
   "outputs": [
    {
     "name": "stdout",
     "output_type": "stream",
     "text": [
      "Erro absoluto:  1.3333333333333333\n"
     ]
    }
   ],
   "source": [
    "# Alternativamente poderiamos tomar o módulo \n",
    "\n",
    "abs_error = 0.0\n",
    "\n",
    "for i in range(m):\n",
    "    abs_error += abs(y[i] - y_pred[i])\n",
    "\n",
    "abs_error = abs_error/m\n",
    "print(f\"Erro absoluto: \", abs_error)"
   ]
  },
  {
   "cell_type": "markdown",
   "metadata": {},
   "source": [
    "Note que o erro quadrático médio *pune* mais fortemente nosso modelo que o erro absoluto."
   ]
  },
  {
   "cell_type": "code",
   "execution_count": 6,
   "metadata": {
    "scrolled": false
   },
   "outputs": [
    {
     "data": {
      "image/png": "[encoded data removed]",
      "text/plain": [
       "<Figure size 432x288 with 1 Axes>"
      ]
     },
     "metadata": {
      "needs_background": "light"
     },
     "output_type": "display_data"
    }
   ],
   "source": [
    "X = 2* np.random.rand(100, 1)\n",
    "y = 4 + 3*X + np.random.rand(100, 1)\n",
    "\n",
    "plt.scatter(X,y)\n",
    "plt.xlabel(\"X\")\n",
    "plt.ylabel(\"y\")\n",
    "plt.show()"
   ]
  },
  {
   "cell_type": "markdown",
   "metadata": {},
   "source": [
    "Esse tipo de problema tem solução exata e é dado pela **Equação Normal**."
   ]
  },
  {
   "cell_type": "markdown",
   "metadata": {},
   "source": [
    "$$ \\bf{X} \\bf{\\theta} =\n",
    "\\begin{bmatrix}\n",
    "1 & x_{1}^{1}\\\\\n",
    "1 & x_{2}^{1}\n",
    "\\end{bmatrix}\n",
    "\\begin{bmatrix}\n",
    "\\theta_{0}\\\\\n",
    "\\theta_{1}\n",
    "\\end{bmatrix}\n",
    "=\n",
    "\\begin{bmatrix}\n",
    "\\theta_{0} + \\theta_{1} x_{1}^{1}\\\\\n",
    "\\theta_{0} + \\theta_{1} x_{1}^{2}\n",
    "\\end{bmatrix}\n",
    "=\n",
    "\\begin{bmatrix}\n",
    "\\hat{y}^{1}\\\\\n",
    "\\hat{y}^{2}\n",
    "\\end{bmatrix}\n",
    "=\n",
    "\\bf{\\hat{y}}\n",
    "$$"
   ]
  },
  {
   "cell_type": "markdown",
   "metadata": {},
   "source": [
    "## Equação normal"
   ]
  },
  {
   "cell_type": "markdown",
   "metadata": {},
   "source": [
    "Nós temos N *features*, e M *instâncias*."
   ]
  },
  {
   "cell_type": "markdown",
   "metadata": {},
   "source": [
    "Vetores *Target* e *predict*:\n",
    "\n",
    "\\begin{equation}\n",
    "\\mathbf{y} = \n",
    "\\begin{bmatrix}\n",
    "y^1 \\\\\n",
    "y^2 \\\\\n",
    "\\vdots \\\\\n",
    "y^N\n",
    "\\end{bmatrix},  \\qquad\n",
    "\\mathbf{\\hat{y}} = \n",
    "\\begin{bmatrix}\n",
    "\\hat{y}^1 \\\\\n",
    "\\hat{y}^2 \\\\\n",
    "\\vdots \\\\\n",
    "\\hat{y}^N\n",
    "\\end{bmatrix}.\n",
    "\\end{equation}"
   ]
  },
  {
   "cell_type": "markdown",
   "metadata": {},
   "source": [
    "*Pesos*:\n",
    "\n",
    "\\begin{equation}\n",
    "\\mathbf{\\theta} = \n",
    "\\begin{bmatrix}\n",
    "\\theta^1 \\\\\n",
    "\\theta^2 \\\\\n",
    "\\vdots \\\\\n",
    "\\theta^N\n",
    "\\end{bmatrix}\n",
    "\\end{equation}"
   ]
  },
  {
   "cell_type": "markdown",
   "metadata": {},
   "source": [
    "Matriz X:\n",
    "\n",
    "\\begin{equation}\n",
    "X = \n",
    "\\begin{pmatrix}\n",
    "x^{1}_{0} & x^{1}_{1} & \\dots & x^{1}_{N} \\\\\n",
    "x^{2}_{0} & x^{2}_{1} & \\dots & x^{2}_{N} \\\\\n",
    "\\vdots & & \\ddots \\\\\n",
    "x^{m}_{0} &  x^{m}_{1} & \\dots   & x^{m}_{N}\n",
    "\\end{pmatrix}\n",
    "\\end{equation}"
   ]
  },
  {
   "cell_type": "markdown",
   "metadata": {},
   "source": [
    "\\begin{equation}\n",
    "\\mathbf{\\hat{y}} = X \\mathbf{\\theta}\n",
    "\\end{equation}\n",
    "\n",
    "Função custo:\n",
    "\n",
    "\\begin{equation}\n",
    "J(\\theta) = (X \\mathbf{\\theta} - \\mathbf{y})^T(X \\mathbf{\\theta} - \\mathbf{y}) = X^T\\theta^T X\\theta - X^T\\theta^T y - X\\theta y^T + y^Ty\n",
    "\\end{equation}\n",
    "\n"
   ]
  },
  {
   "cell_type": "markdown",
   "metadata": {},
   "source": [
    "\\begin{equation}\n",
    "\\nabla_{\\theta}J = 0\n",
    "\\end{equation}\n",
    "\n",
    "Propriedades\n",
    "\\begin{equation}\n",
    "\\nabla_{\\theta}(\\theta^Ta) = \\nabla_{\\theta}(a^T \\theta) \n",
    "\\end{equation}\n",
    "\n",
    "\\begin{align}\n",
    "i)& \\, \\nabla_{\\theta}(X^T \\theta^T X \\theta) = X^T X \\left[\\theta^T  \\nabla_{\\theta}(\\theta) + \\theta\\nabla_{\\theta}(\\theta^T) \\right] = 2 X^T X \\theta \\\\\n",
    "ii)& \\, \\nabla_{\\theta}(X^T \\theta^T y) = \\nabla_{\\theta}(X^T y \\theta^T) =  X^T y \\\\\n",
    "iii)& \\, \\nabla_{\\theta}(X \\theta y^T) = \\nabla_{\\theta}(X y^T \\theta) = \\nabla_{\\theta}(\\theta^T X^T y) = X^T y \\\\\n",
    "iv)& \\, \\nabla_{\\theta}(y^T y) = 0\n",
    "\\end{align}"
   ]
  },
  {
   "cell_type": "markdown",
   "metadata": {},
   "source": [
    "\\begin{equation}\n",
    "2 X^T X \\hat{\\theta}- 2X^Ty = 0\n",
    "\\end{equation}\n",
    "\n",
    "\\begin{equation}\n",
    "X^T X \\hat{\\theta} = X^Ty\n",
    "\\end{equation}\n",
    "\n",
    "\\begin{equation}\n",
    "(X^T X)^{-1} X^T X \\hat{\\theta} = (X^T X)^{-1} X^Ty\n",
    "\\end{equation}\n",
    "\n",
    "\\begin{equation}\n",
    "\\hat{\\theta} = (X^T X)^{-1} X^Ty\n",
    "\\end{equation}"
   ]
  },
  {
   "cell_type": "code",
   "execution_count": null,
   "metadata": {},
   "outputs": [],
   "source": []
  },
  {
   "cell_type": "code",
   "execution_count": null,
   "metadata": {},
   "outputs": [],
   "source": []
  },
  {
   "cell_type": "markdown",
   "metadata": {},
   "source": [
    "$$\\hat{\\theta} = (X^T X)^{-1}X^Ty$$"
   ]
  },
  {
   "cell_type": "code",
   "execution_count": 48,
   "metadata": {},
   "outputs": [
    {
     "data": {
      "image/png": "[encoded data removed]",
      "text/plain": [
       "<Figure size 576x432 with 1 Axes>"
      ]
     },
     "metadata": {
      "needs_background": "light"
     },
     "output_type": "display_data"
    }
   ],
   "source": [
    "X_b = np.column_stack((np.ones((100,1)), X)) # Cria a matriz X com o termo de bias\n",
    "theta = np.linalg.inv(X_b.T@X_b)@X_b.T@y\n",
    "\n",
    "# Fazendo previsões em dois pontos extremos para traçar uma reta\n",
    "\n",
    "X_new = np.array([[1, 0],\n",
    "                  [1, 2]])\n",
    "\n",
    "y_new = X_new@theta\n",
    "\n",
    "plt.plot(X, y, marker='o', linestyle='')\n",
    "plt.plot(X_new[:,1], y_new, 'r-')\n",
    "plt.show()"
   ]
  },
  {
   "cell_type": "code",
   "execution_count": null,
   "metadata": {},
   "outputs": [],
   "source": []
  }
 ],
 "metadata": {
  "kernelspec": {
   "display_name": "Python 3",
   "language": "python",
   "name": "python3"
  },
  "language_info": {
   "codemirror_mode": {
    "name": "ipython",
    "version": 3
   },
   "file_extension": ".py",
   "mimetype": "text/x-python",
   "name": "python",
   "nbconvert_exporter": "python",
   "pygments_lexer": "ipython3",
   "version": "3.8.10"
  },
  "varInspector": {
   "cols": {
    "lenName": 16,
    "lenType": 16,
    "lenVar": 40
   },
   "kernels_config": {
    "python": {
     "delete_cmd_postfix": "",
     "delete_cmd_prefix": "del ",
     "library": "var_list.py",
     "varRefreshCmd": "print(var_dic_list())"
    },
    "r": {
     "delete_cmd_postfix": ") ",
     "delete_cmd_prefix": "rm(",
     "library": "var_list.r",
     "varRefreshCmd": "cat(var_dic_list()) "
    }
   },
   "types_to_exclude": [
    "module",
    "function",
    "builtin_function_or_method",
    "instance",
    "_Feature"
   ],
   "window_display": false
  }
 },
 "nbformat": 4,
 "nbformat_minor": 4
}
