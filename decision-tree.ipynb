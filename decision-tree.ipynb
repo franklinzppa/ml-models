{
 "cells": [
  {
   "cell_type": "code",
   "execution_count": 1,
   "id": "e52ab49e",
   "metadata": {
    "ExecuteTime": {
     "end_time": "2023-02-04T22:32:58.842290Z",
     "start_time": "2023-02-04T22:32:57.767691Z"
    }
   },
   "outputs": [],
   "source": [
    "import numpy as np\n",
    "import matplotlib.pyplot as plt\n",
    "from sklearn.datasets import load_iris\n",
    "from sklearn.metrics import accuracy_score"
   ]
  },
  {
   "cell_type": "code",
   "execution_count": 2,
   "id": "7e9d3361",
   "metadata": {
    "ExecuteTime": {
     "end_time": "2023-02-04T22:32:58.852281Z",
     "start_time": "2023-02-04T22:32:58.845445Z"
    }
   },
   "outputs": [],
   "source": [
    "# Loading the Iris dataset\n",
    "\n",
    "iris = load_iris()\n",
    "X = iris.data[:, 2:] # Selecting the two last columns\n",
    "y = iris.target\n",
    "\n",
    "target_names = iris.target_names\n",
    "features_names = iris.feature_names"
   ]
  },
  {
   "cell_type": "code",
   "execution_count": 3,
   "id": "70d1032d",
   "metadata": {
    "ExecuteTime": {
     "end_time": "2023-02-04T22:32:59.135242Z",
     "start_time": "2023-02-04T22:32:58.854330Z"
    },
    "scrolled": true
   },
   "outputs": [
    {
     "data": {
      "image/png": "[encoded data removed]",
      "text/plain": [
       "<Figure size 432x288 with 1 Axes>"
      ]
     },
     "metadata": {
      "needs_background": "light"
     },
     "output_type": "display_data"
    }
   ],
   "source": [
    "# Plotting\n",
    "\n",
    "plt.scatter(X[y == 1][:,0], X[y == 1][:,1], label=target_names[1])\n",
    "plt.scatter(X[y == 2][:,0], X[y == 2][:,1], label=target_names[2])\n",
    "plt.scatter(X[y == 0][:,0], X[y == 0][:,1], label=target_names[0])\n",
    "plt.xlabel(features_names[2])\n",
    "plt.ylabel(features_names[3])\n",
    "plt.legend()\n",
    "plt.show()"
   ]
  },
  {
   "cell_type": "code",
   "execution_count": 4,
   "id": "4f0b29ba",
   "metadata": {
    "ExecuteTime": {
     "end_time": "2023-02-04T22:32:59.161260Z",
     "start_time": "2023-02-04T22:32:59.137542Z"
    }
   },
   "outputs": [],
   "source": [
    "class FrankTreeClassifier:\n",
    "    def __init__(self):\n",
    "        pass\n",
    "    \n",
    "    @staticmethod\n",
    "    def partition(y, return_label=False):\n",
    "        label, partition = np.unique(y, return_counts=True)\n",
    "        sorted_label, sorted_partition = (np.flip(label[np.argsort(partition)]), \n",
    "                                          np.flip(partition[np.argsort(partition)]))\n",
    "        if return_label == True:\n",
    "            return sorted_label, sorted_partition\n",
    "        else:\n",
    "            return sorted_partition\n",
    "    \n",
    "    @staticmethod\n",
    "    def gini(partition):\n",
    "        partition_sum = partition.sum()\n",
    "        g = 1 - ((partition/partition_sum)**2).sum()\n",
    "        return g\n",
    "    \n",
    "    \n",
    "    @staticmethod\n",
    "    def split(X, y, col, thr, return_X=False):\n",
    "        y_true = y[X[:, col] >= thr]\n",
    "        y_false = y[X[:, col] < thr]\n",
    "        if return_X == False:\n",
    "            return y_true, y_false\n",
    "        else:\n",
    "            X_true = X[X[:, col] >= thr]\n",
    "            X_false = X[X[:, col] < thr]\n",
    "            return X_true, X_false, y_true, y_false\n",
    "        \n",
    "    def weighted_mean_gini(self, partition_true, partition_false):\n",
    "        gini_true = self.gini(partition_true)\n",
    "        gini_false = self.gini(partition_false)\n",
    "        partition_true_sum = partition_true.sum()\n",
    "        partition_false_sum = partition_false.sum()\n",
    "        partition_total = partition_true_sum + partition_false_sum\n",
    "        wmean = ((gini_true*partition_true_sum) + (gini_false*partition_false_sum)) / partition_total\n",
    "        return wmean\n",
    "    \n",
    "    def make_tree(self, X, y):\n",
    "        \n",
    "        gini_old = self.gini(y)\n",
    "        information_gain_array = np.zeros(X.shape)\n",
    "        \n",
    "        # Search for best information gain\n",
    "        for row in range(X.shape[0]):\n",
    "            for col in range(X.shape[1]):\n",
    "                thr = X[row,col]\n",
    "                y_true, y_false = self.split(X, y, col, thr, return_X=False)\n",
    "                partition_true, partition_false = self.partition(y_true), self.partition(y_false)\n",
    "                gini_new = self.weighted_mean_gini(partition_true, partition_false)\n",
    "                information_gain = gini_old - gini_new\n",
    "                information_gain_array[row,col] = information_gain\n",
    "        \n",
    "        flat_index = information_gain_array.argmax()\n",
    "        max_gain_index = np.unravel_index(flat_index, information_gain_array.shape)\n",
    "        \n",
    "        # Question\n",
    "        col = max_gain_index[1]\n",
    "        thr = X[max_gain_index]\n",
    "        \n",
    "        # Arrays\n",
    "        X_true, X_false, y_true, y_false = self.split(X, y, col, thr, return_X=True)\n",
    "        splited_arrays = [[X_true, y_true], [X_false, y_false]] \n",
    "        \n",
    "        # Predictions\n",
    "        true_pred = self.partition(y_true, return_label=True)[0][0]\n",
    "        false_pred = self.partition(y_false, return_label=True)[0][0]\n",
    "        label_pred = [true_pred, false_pred]\n",
    "        \n",
    "        # Information gain\n",
    "        partition_true, partition_false = self.partition(y_true), self.partition(y_false)\n",
    "        gini_new = self.weighted_mean_gini(partition_true, partition_false)\n",
    "        information_gain = gini_old - gini_new\n",
    "        \n",
    "        return col, thr, splited_arrays, label_pred, information_gain\n",
    "        \n",
    "    \n",
    "    def fit(self, X, y):\n",
    "        # This is only a depth two tree, and the false split was not implemented\n",
    "        \n",
    "        self.X, self.y = X, y\n",
    "        self.questions_list = []\n",
    "        \n",
    "        # Depth one split\n",
    "        col, thr, splited_arrays, label_pred, information_gain = self.make_tree(self.X, self.y) \n",
    "        self.questions_list.append([col, thr, label_pred])\n",
    "        \n",
    "        # Depth two true split\n",
    "        self.X, self.y = splited_arrays[0]\n",
    "        col, thr, splited_arrays, label_pred, information_gain = self.make_tree(self.X, self.y) \n",
    "        self.questions_list.append([col, thr, label_pred])\n",
    "        \n",
    "        # There's no depth two false split to be done on this data\n",
    "        \n",
    "    \n",
    "    def predict(self, X): \n",
    "        # This is only a depth two predict without the depth two false split\n",
    "        \n",
    "        y_pred = np.zeros(X.shape[0])\n",
    "        \n",
    "        for i in range(y_pred.shape[0]):\n",
    "            if X[i, self.questions_list[0][0]] >= self.questions_list[0][1]:\n",
    "                if X[i, self.questions_list[1][0]] >= self.questions_list[1][1]:\n",
    "                     y_pred[i] = self.questions_list[1][2][0]\n",
    "                else:\n",
    "                     y_pred[i] = self.questions_list[1][2][1]\n",
    "            else:\n",
    "                y_pred[i] = self.questions_list[0][2][1]\n",
    "        \n",
    "        return y_pred"
   ]
  },
  {
   "cell_type": "code",
   "execution_count": 5,
   "id": "f2f9dcea",
   "metadata": {
    "ExecuteTime": {
     "end_time": "2023-02-04T22:32:59.242439Z",
     "start_time": "2023-02-04T22:32:59.164091Z"
    }
   },
   "outputs": [
    {
     "data": {
      "text/plain": [
       "0.96"
      ]
     },
     "execution_count": 5,
     "metadata": {},
     "output_type": "execute_result"
    }
   ],
   "source": [
    "tree = FrankTreeClassifier()\n",
    "tree.fit(X, y)\n",
    "y_pred = tree.predict(X)\n",
    "accuracy_score(y, y_pred)"
   ]
  },
  {
   "cell_type": "code",
   "execution_count": 6,
   "id": "d4595589",
   "metadata": {
    "ExecuteTime": {
     "end_time": "2023-02-04T22:32:59.514273Z",
     "start_time": "2023-02-04T22:32:59.244380Z"
    },
    "scrolled": true
   },
   "outputs": [
    {
     "data": {
      "image/png": "[encoded data removed]",
      "text/plain": [
       "<Figure size 432x288 with 1 Axes>"
      ]
     },
     "metadata": {
      "needs_background": "light"
     },
     "output_type": "display_data"
    }
   ],
   "source": [
    "# Plotting decision boundary\n",
    "\n",
    "plt.scatter(X[y == 0][:,0], X[y == 0][:,1], label=target_names[0])\n",
    "plt.scatter(X[y == 1][:,0], X[y == 1][:,1], label=target_names[1])\n",
    "plt.scatter(X[y == 2][:,0], X[y == 2][:,1], label=target_names[2])\n",
    "\n",
    "plt.axhline(y=tree.questions_list[0][1], c='orange', ls='--')\n",
    "plt.axhline(y=tree.questions_list[1][1], c='green', ls='--')\n",
    "\n",
    "plt.xlabel(features_names[2])\n",
    "plt.ylabel(features_names[3])\n",
    "plt.legend()\n",
    "plt.show()"
   ]
  },
  {
   "cell_type": "code",
   "execution_count": 7,
   "id": "ba87b887",
   "metadata": {
    "ExecuteTime": {
     "end_time": "2023-02-04T22:32:59.675578Z",
     "start_time": "2023-02-04T22:32:59.519754Z"
    }
   },
   "outputs": [
    {
     "data": {
      "text/plain": [
       "0.96"
      ]
     },
     "execution_count": 7,
     "metadata": {},
     "output_type": "execute_result"
    }
   ],
   "source": [
    "# Comparing with sklearn version. Got the same precision\n",
    "\n",
    "from sklearn.tree import DecisionTreeClassifier\n",
    "\n",
    "tree_clf = DecisionTreeClassifier(max_depth=2, random_state=42)\n",
    "tree_clf.fit(X, y)\n",
    "y_pred_sklearn = tree_clf.predict(X)\n",
    "\n",
    "accuracy_score(y, y_pred_sklearn)"
   ]
  },
  {
   "cell_type": "code",
   "execution_count": 8,
   "id": "95b56fb9",
   "metadata": {
    "ExecuteTime": {
     "end_time": "2023-02-04T22:32:59.687946Z",
     "start_time": "2023-02-04T22:32:59.679406Z"
    }
   },
   "outputs": [
    {
     "data": {
      "text/plain": [
       "array([ True,  True,  True,  True,  True,  True,  True,  True,  True,\n",
       "        True,  True,  True,  True,  True,  True,  True,  True,  True,\n",
       "        True,  True,  True,  True,  True,  True,  True,  True,  True,\n",
       "        True,  True,  True,  True,  True,  True,  True,  True,  True,\n",
       "        True,  True,  True,  True,  True,  True,  True,  True,  True,\n",
       "        True,  True,  True,  True,  True,  True,  True,  True,  True,\n",
       "        True,  True,  True,  True,  True,  True,  True,  True,  True,\n",
       "        True,  True,  True,  True,  True,  True,  True,  True,  True,\n",
       "        True,  True,  True,  True,  True,  True,  True,  True,  True,\n",
       "        True,  True,  True,  True,  True,  True,  True,  True,  True,\n",
       "        True,  True,  True,  True,  True,  True,  True,  True,  True,\n",
       "        True,  True,  True,  True,  True,  True,  True,  True,  True,\n",
       "        True,  True,  True,  True,  True,  True,  True,  True,  True,\n",
       "        True,  True,  True,  True,  True,  True,  True,  True,  True,\n",
       "        True,  True,  True,  True,  True,  True,  True,  True,  True,\n",
       "        True,  True,  True,  True,  True,  True,  True,  True,  True,\n",
       "        True,  True,  True,  True,  True,  True])"
      ]
     },
     "execution_count": 8,
     "metadata": {},
     "output_type": "execute_result"
    }
   ],
   "source": [
    "# Also got the same predictions\n",
    "\n",
    "y_pred_sklearn == y_pred"
   ]
  }
 ],
 "metadata": {
  "kernelspec": {
   "display_name": "Python 3",
   "language": "python",
   "name": "python3"
  },
  "language_info": {
   "codemirror_mode": {
    "name": "ipython",
    "version": 3
   },
   "file_extension": ".py",
   "mimetype": "text/x-python",
   "name": "python",
   "nbconvert_exporter": "python",
   "pygments_lexer": "ipython3",
   "version": "3.8.10"
  },
  "varInspector": {
   "cols": {
    "lenName": 16,
    "lenType": 16,
    "lenVar": 40
   },
   "kernels_config": {
    "python": {
     "delete_cmd_postfix": "",
     "delete_cmd_prefix": "del ",
     "library": "var_list.py",
     "varRefreshCmd": "print(var_dic_list())"
    },
    "r": {
     "delete_cmd_postfix": ") ",
     "delete_cmd_prefix": "rm(",
     "library": "var_list.r",
     "varRefreshCmd": "cat(var_dic_list()) "
    }
   },
   "types_to_exclude": [
    "module",
    "function",
    "builtin_function_or_method",
    "instance",
    "_Feature"
   ],
   "window_display": false
  }
 },
 "nbformat": 4,
 "nbformat_minor": 5
}
