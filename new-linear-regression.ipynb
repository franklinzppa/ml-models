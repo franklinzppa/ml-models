{
 "cells": [
  {
   "cell_type": "markdown",
   "id": "fc4e89ed",
   "metadata": {},
   "source": [
    "# Linear Regression"
   ]
  },
  {
   "cell_type": "markdown",
   "id": "3c3f346b",
   "metadata": {},
   "source": [
    "![](img/linear_regression.png \"Text to show on mouseover\")"
   ]
  },
  {
   "cell_type": "markdown",
   "id": "30f36598",
   "metadata": {},
   "source": [
    "Small intro text."
   ]
  },
  {
   "cell_type": "code",
   "execution_count": 1,
   "id": "0bd15c1c",
   "metadata": {
    "ExecuteTime": {
     "end_time": "2023-02-10T13:51:03.613490Z",
     "start_time": "2023-02-10T13:51:02.983947Z"
    }
   },
   "outputs": [],
   "source": [
    "# Importing\n",
    "\n",
    "import numpy as np\n",
    "import matplotlib.pyplot as plt\n",
    "\n",
    "# Plotting parameters\n",
    "\n",
    "plt.style.use('science')\n",
    "plt.rcParams['figure.figsize'] = (7,5)\n",
    "plt.rcParams['font.size'] = 15\n",
    "plt.rcParams['text.usetex'] = True"
   ]
  },
  {
   "cell_type": "code",
   "execution_count": 2,
   "id": "9fbc4baa",
   "metadata": {
    "ExecuteTime": {
     "end_time": "2023-02-10T13:51:04.187981Z",
     "start_time": "2023-02-10T13:51:03.616244Z"
    },
    "scrolled": false
   },
   "outputs": [
    {
     "data": {
      "image/png": "[encoded data removed]",
      "text/plain": [
       "<Figure size 432x288 with 1 Axes>"
      ]
     },
     "metadata": {
      "needs_background": "light"
     },
     "output_type": "display_data"
    }
   ],
   "source": [
    "# Generating data\n",
    "\n",
    "X = 2* np.random.rand(100, 1)\n",
    "y = 4 + 3*X + np.random.rand(100, 1)\n",
    "\n",
    "plt.scatter(X, y)\n",
    "plt.xlabel(\"X\")\n",
    "plt.ylabel(\"y\")\n",
    "plt.show()"
   ]
  },
  {
   "cell_type": "markdown",
   "id": "eded250c",
   "metadata": {},
   "source": [
    "## Normal Equation"
   ]
  },
  {
   "cell_type": "code",
   "execution_count": 11,
   "id": "764aab04",
   "metadata": {
    "ExecuteTime": {
     "end_time": "2023-02-10T13:54:01.388582Z",
     "start_time": "2023-02-10T13:54:01.382748Z"
    }
   },
   "outputs": [],
   "source": [
    "# Normal equation\n",
    "\n",
    "class NormalLinearRegression:\n",
    "    def __init__(self):\n",
    "        pass\n",
    "    \n",
    "    def fit(self, X, y):\n",
    "        X_b = np.c_[(np.ones((X.shape[0], X.shape[1])), X)]\n",
    "        self.theta_ = np.linalg.inv(X_b.T@X_b)@X_b.T@y\n",
    "    \n",
    "    def predict(self, X):\n",
    "        X_b = np.c_[(np.ones((X.shape[0], X.shape[1])), X)]\n",
    "        return X_b @ self.theta_"
   ]
  },
  {
   "cell_type": "code",
   "execution_count": 12,
   "id": "c7c9a79e",
   "metadata": {
    "ExecuteTime": {
     "end_time": "2023-02-10T13:54:01.566901Z",
     "start_time": "2023-02-10T13:54:01.562657Z"
    }
   },
   "outputs": [],
   "source": [
    "lin_reg = NormalLinearRegression()\n",
    "lin_reg.fit(X, y)"
   ]
  },
  {
   "cell_type": "code",
   "execution_count": 13,
   "id": "db4ed863",
   "metadata": {
    "ExecuteTime": {
     "end_time": "2023-02-10T13:54:01.722168Z",
     "start_time": "2023-02-10T13:54:01.715996Z"
    }
   },
   "outputs": [
    {
     "name": "stdout",
     "output_type": "stream",
     "text": [
      "[[4.51179385]\n",
      " [3.00210904]]\n"
     ]
    }
   ],
   "source": [
    "# Our parameters estimations is pretty close from the original (4,3) parameters\n",
    "\n",
    "print(lin_reg.theta_)"
   ]
  },
  {
   "cell_type": "code",
   "execution_count": 14,
   "id": "876c042e",
   "metadata": {
    "ExecuteTime": {
     "end_time": "2023-02-10T13:54:02.343783Z",
     "start_time": "2023-02-10T13:54:01.853891Z"
    },
    "scrolled": false
   },
   "outputs": [
    {
     "data": {
      "image/png": "[encoded data removed]",
      "text/plain": [
       "<Figure size 432x288 with 1 Axes>"
      ]
     },
     "metadata": {
      "needs_background": "light"
     },
     "output_type": "display_data"
    }
   ],
   "source": [
    "# Lets predict two points at the extremes to make a line plot\n",
    "\n",
    "X_new = np.array([[0],\n",
    "                  [2]])\n",
    "\n",
    "y_pred = lin_reg.predict(X_new)\n",
    "\n",
    "# Plot\n",
    "\n",
    "plt.scatter(X, y, label='Data')\n",
    "plt.plot(X_new, y_pred, c='r', label='Fit')\n",
    "plt.xlabel(\"X\")\n",
    "plt.ylabel(\"y\")\n",
    "plt.show()"
   ]
  },
  {
   "cell_type": "code",
   "execution_count": 15,
   "id": "332c8ceb",
   "metadata": {
    "ExecuteTime": {
     "end_time": "2023-02-10T13:55:37.034626Z",
     "start_time": "2023-02-10T13:55:37.031651Z"
    }
   },
   "outputs": [],
   "source": [
    "# This method doesn't work if X.T @ X is singular\n",
    "# In practice, sklearn uses SVD to compute a pseudo inverse which is faster and more reliable"
   ]
  },
  {
   "cell_type": "code",
   "execution_count": 25,
   "id": "9b43c2e2",
   "metadata": {
    "ExecuteTime": {
     "end_time": "2023-02-10T14:01:26.700232Z",
     "start_time": "2023-02-10T14:01:26.691572Z"
    }
   },
   "outputs": [],
   "source": [
    "# Comparing sklearn with our implementation\n",
    "\n",
    "from sklearn.linear_model import LinearRegression\n",
    "\n",
    "sk_lin_reg = LinearRegression()\n",
    "sk_lin_reg.fit(X, y)\n",
    "\n",
    "\n",
    "y_sk = sk_lin_reg.predict(X)\n",
    "y_frank = lin_reg.predict(X)"
   ]
  },
  {
   "cell_type": "code",
   "execution_count": 26,
   "id": "12483441",
   "metadata": {
    "ExecuteTime": {
     "end_time": "2023-02-10T14:01:26.842454Z",
     "start_time": "2023-02-10T14:01:26.833898Z"
    }
   },
   "outputs": [
    {
     "name": "stdout",
     "output_type": "stream",
     "text": [
      "0.09246558148806061\n",
      "0.9642220390818911\n"
     ]
    }
   ],
   "source": [
    "from sklearn.metrics import mean_squared_error, r2_score\n",
    "\n",
    "print(mean_squared_error(y, y_sk))\n",
    "print(r2_score(y, y_sk))"
   ]
  },
  {
   "cell_type": "code",
   "execution_count": 27,
   "id": "3e16b665",
   "metadata": {
    "ExecuteTime": {
     "end_time": "2023-02-10T14:01:26.998104Z",
     "start_time": "2023-02-10T14:01:26.991378Z"
    }
   },
   "outputs": [
    {
     "name": "stdout",
     "output_type": "stream",
     "text": [
      "0.09246558148806061\n",
      "0.9642220390818911\n"
     ]
    }
   ],
   "source": [
    "print(mean_squared_error(y, y_frank))\n",
    "print(r2_score(y, y_frank))"
   ]
  },
  {
   "cell_type": "code",
   "execution_count": 28,
   "id": "159e6654",
   "metadata": {
    "ExecuteTime": {
     "end_time": "2023-02-10T14:01:27.534768Z",
     "start_time": "2023-02-10T14:01:27.527479Z"
    }
   },
   "outputs": [],
   "source": [
    "# Gradient Descent"
   ]
  },
  {
   "cell_type": "code",
   "execution_count": null,
   "id": "d003d2fe",
   "metadata": {},
   "outputs": [],
   "source": []
  }
 ],
 "metadata": {
  "kernelspec": {
   "display_name": "Python 3",
   "language": "python",
   "name": "python3"
  },
  "language_info": {
   "codemirror_mode": {
    "name": "ipython",
    "version": 3
   },
   "file_extension": ".py",
   "mimetype": "text/x-python",
   "name": "python",
   "nbconvert_exporter": "python",
   "pygments_lexer": "ipython3",
   "version": "3.8.10"
  },
  "varInspector": {
   "cols": {
    "lenName": 16,
    "lenType": 16,
    "lenVar": 40
   },
   "kernels_config": {
    "python": {
     "delete_cmd_postfix": "",
     "delete_cmd_prefix": "del ",
     "library": "var_list.py",
     "varRefreshCmd": "print(var_dic_list())"
    },
    "r": {
     "delete_cmd_postfix": ") ",
     "delete_cmd_prefix": "rm(",
     "library": "var_list.r",
     "varRefreshCmd": "cat(var_dic_list()) "
    }
   },
   "types_to_exclude": [
    "module",
    "function",
    "builtin_function_or_method",
    "instance",
    "_Feature"
   ],
   "window_display": false
  }
 },
 "nbformat": 4,
 "nbformat_minor": 5
}
