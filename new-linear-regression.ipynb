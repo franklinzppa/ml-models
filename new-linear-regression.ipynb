{
 "cells": [
  {
   "cell_type": "markdown",
   "id": "7137ac20",
   "metadata": {},
   "source": [
    "# Linear Regression"
   ]
  },
  {
   "cell_type": "markdown",
   "id": "50bc23e1",
   "metadata": {},
   "source": [
    "![](img/linear_regression.png \"Text to show on mouseover\")"
   ]
  },
  {
   "cell_type": "code",
   "execution_count": 10,
   "id": "f586b445",
   "metadata": {
    "ExecuteTime": {
     "end_time": "2023-02-10T16:46:37.112255Z",
     "start_time": "2023-02-10T16:46:37.106453Z"
    }
   },
   "outputs": [],
   "source": [
    "# Importing\n",
    "\n",
    "import numpy as np\n",
    "import matplotlib.pyplot as plt\n",
    "from sklearn.linear_model import LinearRegression\n",
    "from sklearn.metrics import mean_squared_error, r2_score\n",
    "\n",
    "# Plotting parameters\n",
    "\n",
    "plt.style.use('science')\n",
    "plt.rcParams['figure.figsize'] = (7,5)\n",
    "plt.rcParams['font.size'] = 15\n",
    "plt.rcParams['text.usetex'] = True"
   ]
  },
  {
   "cell_type": "markdown",
   "id": "f7b63256",
   "metadata": {},
   "source": [
    "Our data will be of the form $y(x) = \\theta_0 + \\theta_1 x$ with some random noise. The objective of a linear model is to find the optimum $\\hat{\\theta}$ such that the MSE is minimum."
   ]
  },
  {
   "cell_type": "code",
   "execution_count": 11,
   "id": "c73c9807",
   "metadata": {
    "ExecuteTime": {
     "end_time": "2023-02-10T16:46:37.497590Z",
     "start_time": "2023-02-10T16:46:37.115571Z"
    },
    "scrolled": false
   },
   "outputs": [
    {
     "data": {
      "image/png": "[encoded data removed]",
      "text/plain": [
       "<Figure size 504x360 with 1 Axes>"
      ]
     },
     "metadata": {
      "needs_background": "light"
     },
     "output_type": "display_data"
    }
   ],
   "source": [
    "# Generating data\n",
    "\n",
    "X = 2* np.random.rand(100, 1)\n",
    "y = 4 + 3*X + np.random.rand(100, 1)\n",
    "\n",
    "plt.scatter(X, y)\n",
    "plt.xlabel(\"X\")\n",
    "plt.ylabel(\"y\")\n",
    "plt.show()"
   ]
  },
  {
   "cell_type": "markdown",
   "id": "6aad140e",
   "metadata": {},
   "source": [
    "## Normal Equation (Exact solution)"
   ]
  },
  {
   "cell_type": "code",
   "execution_count": 12,
   "id": "84d1d2f9",
   "metadata": {
    "ExecuteTime": {
     "end_time": "2023-02-10T16:46:37.510021Z",
     "start_time": "2023-02-10T16:46:37.501091Z"
    }
   },
   "outputs": [],
   "source": [
    "# Normal equation\n",
    "\n",
    "class NormalLinearRegression:\n",
    "    def __init__(self):\n",
    "        pass\n",
    "    \n",
    "    def fit(self, X, y):\n",
    "        X_b = np.c_[(np.ones((X.shape[0], X.shape[1])), X)]\n",
    "        self.theta_ = np.linalg.inv(X_b.T@X_b)@X_b.T@y\n",
    "    \n",
    "    def predict(self, X):\n",
    "        X_b = np.c_[(np.ones((X.shape[0], X.shape[1])), X)]\n",
    "        return X_b @ self.theta_"
   ]
  },
  {
   "cell_type": "code",
   "execution_count": 13,
   "id": "4f76943a",
   "metadata": {
    "ExecuteTime": {
     "end_time": "2023-02-10T16:46:37.524544Z",
     "start_time": "2023-02-10T16:46:37.516446Z"
    }
   },
   "outputs": [],
   "source": [
    "lin_reg = NormalLinearRegression()\n",
    "lin_reg.fit(X, y)"
   ]
  },
  {
   "cell_type": "code",
   "execution_count": 14,
   "id": "6adf2221",
   "metadata": {
    "ExecuteTime": {
     "end_time": "2023-02-10T16:46:37.529431Z",
     "start_time": "2023-02-10T16:46:37.526215Z"
    }
   },
   "outputs": [
    {
     "name": "stdout",
     "output_type": "stream",
     "text": [
      "[[4.51479933]\n",
      " [2.98588258]]\n"
     ]
    }
   ],
   "source": [
    "# Our parameters estimations is pretty close from the original (4,3) parameters\n",
    "\n",
    "print(lin_reg.theta_)"
   ]
  },
  {
   "cell_type": "code",
   "execution_count": 15,
   "id": "04ba5965",
   "metadata": {
    "ExecuteTime": {
     "end_time": "2023-02-10T16:46:37.894061Z",
     "start_time": "2023-02-10T16:46:37.531902Z"
    },
    "scrolled": false
   },
   "outputs": [
    {
     "data": {
      "image/png": "[encoded data removed]",
      "text/plain": [
       "<Figure size 504x360 with 1 Axes>"
      ]
     },
     "metadata": {
      "needs_background": "light"
     },
     "output_type": "display_data"
    }
   ],
   "source": [
    "# Lets predict two points at the extremes to make a line plot\n",
    "\n",
    "X_new = np.array([[0],\n",
    "                  [2]])\n",
    "\n",
    "y_pred = lin_reg.predict(X_new)\n",
    "\n",
    "# Plot\n",
    "\n",
    "plt.scatter(X, y, label='Data')\n",
    "plt.plot(X_new, y_pred, c='r', label='Fit')\n",
    "plt.xlabel(\"X\")\n",
    "plt.ylabel(\"y\")\n",
    "plt.show()"
   ]
  },
  {
   "cell_type": "markdown",
   "id": "9cf40046",
   "metadata": {},
   "source": [
    "This method doesn't work if $X^T X$ is singular. In practice, sklearn uses SVD to compute a pseudo inverse which is faster and more reliable."
   ]
  },
  {
   "cell_type": "code",
   "execution_count": 16,
   "id": "24258201",
   "metadata": {
    "ExecuteTime": {
     "end_time": "2023-02-10T16:46:37.913542Z",
     "start_time": "2023-02-10T16:46:37.896459Z"
    }
   },
   "outputs": [],
   "source": [
    "# Comparing sklearn with our implementation\n",
    "\n",
    "sk_lin_reg = LinearRegression()\n",
    "sk_lin_reg.fit(X, y)\n",
    "\n",
    "y_sk = sk_lin_reg.predict(X)\n",
    "y_frank = lin_reg.predict(X)"
   ]
  },
  {
   "cell_type": "code",
   "execution_count": 28,
   "id": "fe931a4b",
   "metadata": {
    "ExecuteTime": {
     "end_time": "2023-02-10T16:53:07.173029Z",
     "start_time": "2023-02-10T16:53:07.168039Z"
    }
   },
   "outputs": [
    {
     "name": "stdout",
     "output_type": "stream",
     "text": [
      "Sklearn\n",
      "RMSE: 0.08\n",
      "R2: 0.97\n"
     ]
    }
   ],
   "source": [
    "print('Sklearn')\n",
    "print(f'MSE: {mean_squared_error(y, y_sk):.2f}')\n",
    "print(f'R2: {r2_score(y, y_sk):.2f}')"
   ]
  },
  {
   "cell_type": "code",
   "execution_count": 30,
   "id": "d3d7d199",
   "metadata": {
    "ExecuteTime": {
     "end_time": "2023-02-10T16:53:35.328588Z",
     "start_time": "2023-02-10T16:53:35.322401Z"
    },
    "scrolled": true
   },
   "outputs": [
    {
     "name": "stdout",
     "output_type": "stream",
     "text": [
      "Frank\n",
      "RMSE: 0.08\n",
      "R2: 0.97\n"
     ]
    }
   ],
   "source": [
    "print('Frank')\n",
    "print(f'MSE: {mean_squared_error(y, y_frank):.2f}')\n",
    "print(f'R2: {r2_score(y, y_frank):.2f}')"
   ]
  },
  {
   "cell_type": "markdown",
   "id": "390d4dfe",
   "metadata": {},
   "source": [
    "## Stochastic Gradient Descent"
   ]
  },
  {
   "cell_type": "markdown",
   "id": "9bc8c28f",
   "metadata": {},
   "source": [
    "The stochastic gradient descent consists in initialize our parameters randomly and move towards a minimum MSE by removing the gradient of the cost function at the actual point."
   ]
  },
  {
   "cell_type": "code",
   "execution_count": 55,
   "id": "c08d0d37",
   "metadata": {
    "ExecuteTime": {
     "end_time": "2023-02-10T17:43:35.061572Z",
     "start_time": "2023-02-10T17:43:35.052847Z"
    }
   },
   "outputs": [],
   "source": [
    "# Gradient Descent\n",
    "\n",
    "class SGDLinearRegression:\n",
    "    def __init__(self, eta=1.0):\n",
    "        self.eta = eta\n",
    "        \n",
    "    def fit(self, X, y):\n",
    "        m_ = X.shape[0]\n",
    "        n_ = X.shape[1]\n",
    "        X_b_ = np.c_[np.ones(m_), X]\n",
    "        \n",
    "        self.theta_ = np.random.rand(n_ + 1)\n",
    "        \n",
    "        for i in range(50):\n",
    "            grad = (2/m_) * X_b_.T @ (X_b_ @ self.theta_ - y) \n",
    "            self.theta_ = self.theta_ - self.eta*(grad)\n",
    "        \n",
    "        return self\n",
    "    \n",
    "    def predict(self, X):\n",
    "        pass"
   ]
  },
  {
   "cell_type": "code",
   "execution_count": 56,
   "id": "a6ba5723",
   "metadata": {
    "ExecuteTime": {
     "end_time": "2023-02-10T17:43:35.535652Z",
     "start_time": "2023-02-10T17:43:35.517192Z"
    }
   },
   "outputs": [
    {
     "ename": "ValueError",
     "evalue": "operands could not be broadcast together with shapes (2,) (2,100) ",
     "output_type": "error",
     "traceback": [
      "\u001b[0;31m---------------------------------------------------------------------------\u001b[0m",
      "\u001b[0;31mValueError\u001b[0m                                Traceback (most recent call last)",
      "\u001b[0;32m<ipython-input-56-314fe5eab320>\u001b[0m in \u001b[0;36m<module>\u001b[0;34m\u001b[0m\n\u001b[1;32m      1\u001b[0m \u001b[0msgd_frank\u001b[0m \u001b[0;34m=\u001b[0m \u001b[0mSGDLinearRegression\u001b[0m\u001b[0;34m(\u001b[0m\u001b[0;34m)\u001b[0m\u001b[0;34m\u001b[0m\u001b[0;34m\u001b[0m\u001b[0m\n\u001b[0;32m----> 2\u001b[0;31m \u001b[0msgd_frank\u001b[0m\u001b[0;34m.\u001b[0m\u001b[0mfit\u001b[0m\u001b[0;34m(\u001b[0m\u001b[0mX\u001b[0m\u001b[0;34m,\u001b[0m \u001b[0my\u001b[0m\u001b[0;34m)\u001b[0m\u001b[0;34m\u001b[0m\u001b[0;34m\u001b[0m\u001b[0m\n\u001b[0m",
      "\u001b[0;32m<ipython-input-55-0a3f0873b2b3>\u001b[0m in \u001b[0;36mfit\u001b[0;34m(self, X, y)\u001b[0m\n\u001b[1;32m     14\u001b[0m         \u001b[0;32mfor\u001b[0m \u001b[0mi\u001b[0m \u001b[0;32min\u001b[0m \u001b[0mrange\u001b[0m\u001b[0;34m(\u001b[0m\u001b[0;36m50\u001b[0m\u001b[0;34m)\u001b[0m\u001b[0;34m:\u001b[0m\u001b[0;34m\u001b[0m\u001b[0;34m\u001b[0m\u001b[0m\n\u001b[1;32m     15\u001b[0m             \u001b[0mgrad\u001b[0m \u001b[0;34m=\u001b[0m \u001b[0;34m(\u001b[0m\u001b[0;36m2\u001b[0m\u001b[0;34m/\u001b[0m\u001b[0mm_\u001b[0m\u001b[0;34m)\u001b[0m \u001b[0;34m*\u001b[0m \u001b[0mX_b_\u001b[0m\u001b[0;34m.\u001b[0m\u001b[0mT\u001b[0m \u001b[0;34m@\u001b[0m \u001b[0;34m(\u001b[0m\u001b[0mX_b_\u001b[0m \u001b[0;34m@\u001b[0m \u001b[0mself\u001b[0m\u001b[0;34m.\u001b[0m\u001b[0mtheta_\u001b[0m \u001b[0;34m-\u001b[0m \u001b[0my\u001b[0m\u001b[0;34m)\u001b[0m\u001b[0;34m\u001b[0m\u001b[0;34m\u001b[0m\u001b[0m\n\u001b[0;32m---> 16\u001b[0;31m             \u001b[0mself\u001b[0m\u001b[0;34m.\u001b[0m\u001b[0mtheta_\u001b[0m \u001b[0;34m=\u001b[0m \u001b[0mself\u001b[0m\u001b[0;34m.\u001b[0m\u001b[0mtheta_\u001b[0m \u001b[0;34m-\u001b[0m \u001b[0mself\u001b[0m\u001b[0;34m.\u001b[0m\u001b[0meta\u001b[0m\u001b[0;34m*\u001b[0m\u001b[0;34m(\u001b[0m\u001b[0mgrad\u001b[0m\u001b[0;34m)\u001b[0m\u001b[0;34m\u001b[0m\u001b[0;34m\u001b[0m\u001b[0m\n\u001b[0m\u001b[1;32m     17\u001b[0m \u001b[0;34m\u001b[0m\u001b[0m\n\u001b[1;32m     18\u001b[0m         \u001b[0;32mreturn\u001b[0m \u001b[0mself\u001b[0m\u001b[0;34m\u001b[0m\u001b[0;34m\u001b[0m\u001b[0m\n",
      "\u001b[0;31mValueError\u001b[0m: operands could not be broadcast together with shapes (2,) (2,100) "
     ]
    }
   ],
   "source": [
    "sgd_frank = SGDLinearRegression()\n",
    "sgd_frank.fit(X, y)"
   ]
  },
  {
   "cell_type": "code",
   "execution_count": 37,
   "id": "8cce16dc",
   "metadata": {
    "ExecuteTime": {
     "end_time": "2023-02-10T17:39:30.292109Z",
     "start_time": "2023-02-10T17:39:30.287696Z"
    }
   },
   "outputs": [
    {
     "ename": "SyntaxError",
     "evalue": "invalid syntax (<ipython-input-37-e4c7f36eaccf>, line 1)",
     "output_type": "error",
     "traceback": [
      "\u001b[0;36m  File \u001b[0;32m\"<ipython-input-37-e4c7f36eaccf>\"\u001b[0;36m, line \u001b[0;32m1\u001b[0m\n\u001b[0;31m    from sklearn.linear_model import\u001b[0m\n\u001b[0m                                     ^\u001b[0m\n\u001b[0;31mSyntaxError\u001b[0m\u001b[0;31m:\u001b[0m invalid syntax\n"
     ]
    }
   ],
   "source": [
    "from sklearn.linear_model import "
   ]
  },
  {
   "cell_type": "code",
   "execution_count": null,
   "id": "197d9bc2",
   "metadata": {},
   "outputs": [],
   "source": []
  }
 ],
 "metadata": {
  "kernelspec": {
   "display_name": "Python 3",
   "language": "python",
   "name": "python3"
  },
  "language_info": {
   "codemirror_mode": {
    "name": "ipython",
    "version": 3
   },
   "file_extension": ".py",
   "mimetype": "text/x-python",
   "name": "python",
   "nbconvert_exporter": "python",
   "pygments_lexer": "ipython3",
   "version": "3.8.10"
  },
  "varInspector": {
   "cols": {
    "lenName": 16,
    "lenType": 16,
    "lenVar": 40
   },
   "kernels_config": {
    "python": {
     "delete_cmd_postfix": "",
     "delete_cmd_prefix": "del ",
     "library": "var_list.py",
     "varRefreshCmd": "print(var_dic_list())"
    },
    "r": {
     "delete_cmd_postfix": ") ",
     "delete_cmd_prefix": "rm(",
     "library": "var_list.r",
     "varRefreshCmd": "cat(var_dic_list()) "
    }
   },
   "types_to_exclude": [
    "module",
    "function",
    "builtin_function_or_method",
    "instance",
    "_Feature"
   ],
   "window_display": false
  }
 },
 "nbformat": 4,
 "nbformat_minor": 5
}
