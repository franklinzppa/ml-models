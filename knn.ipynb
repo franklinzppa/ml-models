{
 "cells": [
  {
   "cell_type": "code",
   "execution_count": 333,
   "id": "fbe57ad6",
   "metadata": {
    "ExecuteTime": {
     "end_time": "2023-01-29T03:32:32.139128Z",
     "start_time": "2023-01-29T03:32:32.133067Z"
    }
   },
   "outputs": [],
   "source": [
    "# Importing\n",
    "\n",
    "import numpy as np\n",
    "import matplotlib.pyplot as plt\n",
    "import seaborn as sns\n",
    "from sklearn.datasets import load_iris\n",
    "from sklearn.metrics import classification_report"
   ]
  },
  {
   "cell_type": "markdown",
   "id": "de1f64ef",
   "metadata": {},
   "source": [
    "# Algorithm"
   ]
  },
  {
   "cell_type": "code",
   "execution_count": 334,
   "id": "a3e490f1",
   "metadata": {
    "ExecuteTime": {
     "end_time": "2023-01-29T03:32:35.320972Z",
     "start_time": "2023-01-29T03:32:35.308999Z"
    }
   },
   "outputs": [],
   "source": [
    "def knn_frank(X, X_train, y_train, algorithm, k=5):\n",
    "    \"\"\"\n",
    "    Do a KNN prediction. \n",
    "    algorithm specifies can be 'clf' for classification or 'reg' for regression. \n",
    "    X are the instances to be predicted,\n",
    "    X_train and y_train are the features and targets used for training,\n",
    "    k is the number of neighbors.\n",
    "    Return a predict array.\n",
    "    \"\"\"\n",
    "    \n",
    "    M = X_train.shape[0]                # Get the number of instances in the training set\n",
    "    N = X.shape[0]                      # Get the number of instances to be predicted\n",
    "    \n",
    "    y_pred = np.zeros(N)                # Our predictions will be stored here\n",
    "    \n",
    "    for j in range(N):                  # Loop to predict all X_new[j] instances given\n",
    "        distances = np.zeros(M)         # Distances are to be stored here\n",
    "\n",
    "        for i in range(M):              # Loop to get the distances from instance X_new[j] to all the training X\n",
    "            distances[i] = np.linalg.norm((X[j] - X_train[i])) # Euclidean distance\n",
    "\n",
    "        sorted_indexes = np.argsort(distances)           # Get the indexes from sorted distances (low to high)\n",
    "\n",
    "        k_indexes = sorted_indexes[:k]                   # Get the k-th first (k-closest instances)\n",
    "        k_labels = y_train[k_indexes]                    # Get the labels from k-closests  \n",
    "\n",
    "        \n",
    "        if algorithm == 'clf':                                      # Check if it is a classification\n",
    "            label, count = np.unique(k_labels, return_counts=True)  # Count the labels from k-closest\n",
    "            y_pred[j] = label[count.argmax()]                       # Assign the most frequent label\n",
    "        \n",
    "        elif algorithm == 'reg':                                    # It is a regression\n",
    "            y_pred[j] = k_labels.mean()                             # Assign the mean\n",
    "        \n",
    "        else:\n",
    "            print('Select either algorithm to be clf or reg.')\n",
    "    \n",
    "    return y_pred"
   ]
  },
  {
   "cell_type": "markdown",
   "id": "eb9d9d4f",
   "metadata": {},
   "source": [
    "# KNN Classification"
   ]
  },
  {
   "cell_type": "code",
   "execution_count": 335,
   "id": "9daacceb",
   "metadata": {
    "ExecuteTime": {
     "end_time": "2023-01-29T03:32:37.606110Z",
     "start_time": "2023-01-29T03:32:37.598058Z"
    }
   },
   "outputs": [],
   "source": [
    "# Loading the Iris dataset\n",
    "\n",
    "iris = load_iris()\n",
    "X = iris.data[:, 2:] # Selecting the two last columns\n",
    "y = iris.target\n",
    "\n",
    "target_names = iris.target_names\n",
    "features_names = iris.feature_names"
   ]
  },
  {
   "cell_type": "code",
   "execution_count": 336,
   "id": "8b46f2dc",
   "metadata": {
    "ExecuteTime": {
     "end_time": "2023-01-29T03:32:39.490534Z",
     "start_time": "2023-01-29T03:32:39.484151Z"
    }
   },
   "outputs": [],
   "source": [
    "# Suppose we are out in the wild and find three new specimens\n",
    "\n",
    "X_new = np.array([[3.0, 0.90],\n",
    "                  [7.0, 1.75],\n",
    "                  [1.2, 1.00]\n",
    "                 ])"
   ]
  },
  {
   "cell_type": "code",
   "execution_count": 337,
   "id": "335a453e",
   "metadata": {
    "ExecuteTime": {
     "end_time": "2023-01-29T03:32:41.373403Z",
     "start_time": "2023-01-29T03:32:41.123944Z"
    },
    "scrolled": true
   },
   "outputs": [
    {
     "data": {
      "image/png": "[encoded data removed]",
      "text/plain": [
       "<Figure size 432x288 with 1 Axes>"
      ]
     },
     "metadata": {
      "needs_background": "light"
     },
     "output_type": "display_data"
    }
   ],
   "source": [
    "# Plotting\n",
    "\n",
    "plt.scatter(X[y == 0][:,0], X[y == 0][:,1], label=target_names[0])\n",
    "plt.scatter(X[y == 1][:,0], X[y == 1][:,1], label=target_names[1])\n",
    "plt.scatter(X[y == 2][:,0], X[y == 2][:,1], label=target_names[2])\n",
    "plt.scatter(X_new[:, 0], X_new[:, 1], marker='x', label='New instances')\n",
    "plt.xlabel(features_names[2])\n",
    "plt.ylabel(features_names[3])\n",
    "plt.legend()\n",
    "plt.show()"
   ]
  },
  {
   "cell_type": "code",
   "execution_count": 338,
   "id": "b8826812",
   "metadata": {
    "ExecuteTime": {
     "end_time": "2023-01-29T03:32:48.463076Z",
     "start_time": "2023-01-29T03:32:48.459971Z"
    }
   },
   "outputs": [],
   "source": [
    "# We expect our predicts to be: [1, 2, 0]"
   ]
  },
  {
   "cell_type": "code",
   "execution_count": 341,
   "id": "a107eb68",
   "metadata": {
    "ExecuteTime": {
     "end_time": "2023-01-29T03:33:58.925481Z",
     "start_time": "2023-01-29T03:33:58.915810Z"
    }
   },
   "outputs": [
    {
     "data": {
      "text/plain": [
       "array([1., 2., 0.])"
      ]
     },
     "execution_count": 341,
     "metadata": {},
     "output_type": "execute_result"
    }
   ],
   "source": [
    "# As expected ...\n",
    "\n",
    "knn_frank(X_new, X, y, algorithm='clf', k=5)"
   ]
  },
  {
   "cell_type": "code",
   "execution_count": 342,
   "id": "45640b89",
   "metadata": {
    "ExecuteTime": {
     "end_time": "2023-01-29T03:34:01.942130Z",
     "start_time": "2023-01-29T03:34:01.934939Z"
    }
   },
   "outputs": [
    {
     "data": {
      "text/plain": [
       "array([1, 2, 0])"
      ]
     },
     "execution_count": 342,
     "metadata": {},
     "output_type": "execute_result"
    }
   ],
   "source": [
    "# Compare with Sklearn's classifier version\n",
    "\n",
    "from sklearn.neighbors import KNeighborsClassifier\n",
    "\n",
    "knn_clf = KNeighborsClassifier(n_neighbors=5)\n",
    "knn_clf.fit(X, y)\n",
    "knn_clf.predict(X_new)"
   ]
  },
  {
   "cell_type": "code",
   "execution_count": 344,
   "id": "72989932",
   "metadata": {
    "ExecuteTime": {
     "end_time": "2023-01-29T03:34:58.057903Z",
     "start_time": "2023-01-29T03:34:57.863294Z"
    },
    "scrolled": false
   },
   "outputs": [
    {
     "name": "stdout",
     "output_type": "stream",
     "text": [
      "KNN-Frank metrics\n",
      "              precision    recall  f1-score   support\n",
      "\n",
      "           0       1.00      1.00      1.00        50\n",
      "           1       0.94      0.94      0.94        50\n",
      "           2       0.94      0.94      0.94        50\n",
      "\n",
      "    accuracy                           0.96       150\n",
      "   macro avg       0.96      0.96      0.96       150\n",
      "weighted avg       0.96      0.96      0.96       150\n",
      "\n",
      "----------------------------------------------------------------\n",
      "KNN-Sklearn metrics\n",
      "              precision    recall  f1-score   support\n",
      "\n",
      "           0       1.00      1.00      1.00        50\n",
      "           1       0.94      0.94      0.94        50\n",
      "           2       0.94      0.94      0.94        50\n",
      "\n",
      "    accuracy                           0.96       150\n",
      "   macro avg       0.96      0.96      0.96       150\n",
      "weighted avg       0.96      0.96      0.96       150\n",
      "\n"
     ]
    }
   ],
   "source": [
    "# Lets compare the metrics from the training\n",
    "\n",
    "y_pred_frank = knn_frank(X, X, y, algorithm='clf', k=5)\n",
    "\n",
    "knn_clf = KNeighborsClassifier(n_neighbors=5)\n",
    "knn_clf.fit(X, y)\n",
    "y_pred_sklearn = knn_clf.predict(X)\n",
    "\n",
    "print('KNN-Frank metrics')\n",
    "print(classification_report(y, y_pred_frank))\n",
    "print('----------------------------------------------------------------')\n",
    "print('KNN-Sklearn metrics')\n",
    "print(classification_report(y, y_pred_sklearn))"
   ]
  },
  {
   "cell_type": "code",
   "execution_count": null,
   "id": "576f3acf",
   "metadata": {},
   "outputs": [],
   "source": [
    "# Same result."
   ]
  },
  {
   "cell_type": "code",
   "execution_count": 345,
   "id": "0eccbf43",
   "metadata": {
    "ExecuteTime": {
     "end_time": "2023-01-29T03:36:00.394736Z",
     "start_time": "2023-01-29T03:35:39.001426Z"
    },
    "scrolled": true
   },
   "outputs": [],
   "source": [
    "# Making a Voronoi plot\n",
    "\n",
    "# Build feature space\n",
    "\n",
    "x_space = np.linspace(0.8, 7.1, 150)\n",
    "y_space = np.linspace(0.0, 2.7, 150)\n",
    "\n",
    "xx, yy = np.meshgrid(x_space, y_space)\n",
    "\n",
    "X_space = np.c_[xx.ravel(), yy.ravel()]\n",
    "\n",
    "# Predict all points in the grid\n",
    "\n",
    "y_pred_frank = knn_frank(X_space, X, y, algorithm='clf', k=5)\n",
    "\n",
    "knn_clf = KNeighborsClassifier(n_neighbors=5,  \n",
    "                               metric='euclidean',\n",
    "                               algorithm='brute'\n",
    "                              )\n",
    "knn_clf.fit(X, y)\n",
    "y_pred_sklearn = knn_clf.predict(X_space)"
   ]
  },
  {
   "cell_type": "code",
   "execution_count": 346,
   "id": "3e498629",
   "metadata": {
    "ExecuteTime": {
     "end_time": "2023-01-29T03:36:03.786639Z",
     "start_time": "2023-01-29T03:36:03.783615Z"
    }
   },
   "outputs": [],
   "source": [
    "# Performance is significantly slower when compared to the sklearn one"
   ]
  },
  {
   "cell_type": "code",
   "execution_count": 347,
   "id": "37b6121b",
   "metadata": {
    "ExecuteTime": {
     "end_time": "2023-01-29T03:36:04.587572Z",
     "start_time": "2023-01-29T03:36:04.080640Z"
    },
    "scrolled": true
   },
   "outputs": [
    {
     "data": {
      "image/png": "[encoded data removed]",
      "text/plain": [
       "<Figure size 1008x360 with 2 Axes>"
      ]
     },
     "metadata": {
      "needs_background": "light"
     },
     "output_type": "display_data"
    }
   ],
   "source": [
    "# Plotting\n",
    "\n",
    "plt.figure(figsize=(14,5))\n",
    "\n",
    "plt.subplot(1,2,1)\n",
    "plt.contourf(xx, yy, y_pred_frank.reshape(xx.shape), extent=(0.8, 7.1, 0.0, 2.7), cmap='Pastel2')\n",
    "plt.contour(xx, yy, y_pred_frank.reshape(xx.shape), extent=(0.8, 7.1, 0.0, 2.7), linewidths=1, colors='k')\n",
    "plt.scatter(X[y == 0][:,0], X[y == 0][:,1], label=target_names[0])\n",
    "plt.scatter(X[y == 1][:,0], X[y == 1][:,1], label=target_names[1])\n",
    "plt.scatter(X[y == 2][:,0], X[y == 2][:,1], label=target_names[2])\n",
    "plt.xlabel(features_names[2])\n",
    "plt.ylabel(features_names[3])\n",
    "plt.xlim(0.8, 7.1)\n",
    "plt.ylim(0.0, 2.7)\n",
    "plt.title('KNN-Frank')\n",
    "plt.legend()\n",
    "\n",
    "plt.subplot(1,2,2)\n",
    "plt.contourf(xx, yy, y_pred_sklearn.reshape(xx.shape), extent=(0.8, 7.1, 0.0, 2.7), cmap='Pastel2')\n",
    "plt.contour(xx, yy, y_pred_sklearn.reshape(xx.shape), extent=(0.8, 7.1, 0.0, 2.7), linewidths=1, colors='k')\n",
    "plt.scatter(X[y == 0][:,0], X[y == 0][:,1], label=target_names[0])\n",
    "plt.scatter(X[y == 1][:,0], X[y == 1][:,1], label=target_names[1])\n",
    "plt.scatter(X[y == 2][:,0], X[y == 2][:,1], label=target_names[2])\n",
    "plt.xlabel(features_names[2])\n",
    "plt.ylabel(features_names[3])\n",
    "plt.xlim(0.8, 7.1)\n",
    "plt.ylim(0.0, 2.7)\n",
    "plt.title('KNN-Sklearn')\n",
    "plt.legend()\n",
    "\n",
    "plt.show()"
   ]
  },
  {
   "cell_type": "code",
   "execution_count": 348,
   "id": "0806041e",
   "metadata": {
    "ExecuteTime": {
     "end_time": "2023-01-29T03:36:11.454025Z",
     "start_time": "2023-01-29T03:36:11.448302Z"
    }
   },
   "outputs": [],
   "source": [
    "# Pretty similar, but with some noise on the boundaries"
   ]
  },
  {
   "cell_type": "markdown",
   "id": "e344f59c",
   "metadata": {},
   "source": [
    "# KNN Regression"
   ]
  },
  {
   "cell_type": "code",
   "execution_count": 349,
   "id": "22abf646",
   "metadata": {
    "ExecuteTime": {
     "end_time": "2023-01-29T03:36:37.134843Z",
     "start_time": "2023-01-29T03:36:37.113618Z"
    }
   },
   "outputs": [],
   "source": [
    "# Loading data\n",
    "data = pd.read_csv('data/iq-brain.csv')\n",
    "\n",
    "# Some cleaning\n",
    "\n",
    "data[['AREA', 'CCSA', 'CIRC', 'WT']] = data.loc[:,['AREA', 'CCSA', 'CIRC', 'WT']].apply(\n",
    "    lambda x: x.str.replace(',', '.'))\n",
    "\n",
    "cat_cols = ['PAIR', 'SEX (1=M)', 'ORDER']\n",
    "num_cols = ['IQ', 'VOL', 'AREA', 'CCSA', 'CIRC', 'WT']\n",
    "\n",
    "data[cat_cols] = data[cat_cols].astype('object')\n",
    "data[num_cols] = data[num_cols].astype('float32')"
   ]
  },
  {
   "cell_type": "code",
   "execution_count": 352,
   "id": "09e0e608",
   "metadata": {
    "ExecuteTime": {
     "end_time": "2023-01-29T03:37:50.954707Z",
     "start_time": "2023-01-29T03:37:50.639499Z"
    }
   },
   "outputs": [
    {
     "data": {
      "image/png": "[encoded data removed]",
      "text/plain": [
       "<Figure size 432x288 with 2 Axes>"
      ]
     },
     "metadata": {
      "needs_background": "light"
     },
     "output_type": "display_data"
    },
    {
     "data": {
      "text/plain": [
       "IQ      1.000000\n",
       "CCSA    0.156252\n",
       "CIRC    0.137839\n",
       "WT     -0.002702\n",
       "VOL    -0.063392\n",
       "AREA   -0.291319\n",
       "Name: IQ, dtype: float64"
      ]
     },
     "execution_count": 352,
     "metadata": {},
     "output_type": "execute_result"
    }
   ],
   "source": [
    "# Checking correlation to get two good columns to do a regression\n",
    "\n",
    "sns.heatmap(data.corr(), annot=True)\n",
    "plt.show()\n",
    "\n",
    "data.corr()['IQ'].sort_values(ascending=False)"
   ]
  },
  {
   "cell_type": "code",
   "execution_count": 353,
   "id": "fe63d2c5",
   "metadata": {
    "ExecuteTime": {
     "end_time": "2023-01-29T03:38:16.137252Z",
     "start_time": "2023-01-29T03:38:16.130330Z"
    },
    "scrolled": true
   },
   "outputs": [],
   "source": [
    "# Lets use CCSA (Cortex Cross section area) and AREA.\n",
    "\n",
    "X = data[['AREA', 'CCSA']].to_numpy()\n",
    "y = data['IQ'].to_numpy()"
   ]
  },
  {
   "cell_type": "code",
   "execution_count": 355,
   "id": "58d72d0d",
   "metadata": {
    "ExecuteTime": {
     "end_time": "2023-01-29T03:38:51.590634Z",
     "start_time": "2023-01-29T03:38:51.305796Z"
    },
    "scrolled": true
   },
   "outputs": [
    {
     "data": {
      "image/png": "[encoded data removed]",
      "text/plain": [
       "<Figure size 1008x288 with 2 Axes>"
      ]
     },
     "metadata": {
      "needs_background": "light"
     },
     "output_type": "display_data"
    }
   ],
   "source": [
    "# Plotting those features against our target (IQ)\n",
    "\n",
    "plt.figure(figsize=(14,4))\n",
    "\n",
    "plt.subplot(1,2,1)\n",
    "plt.scatter(X[:,0], y)\n",
    "plt.xlabel('AREA')\n",
    "plt.ylabel('IQ')\n",
    "plt.grid()\n",
    "\n",
    "plt.subplot(1,2,2)\n",
    "plt.scatter(X[:,1], y)\n",
    "plt.xlabel('CCSA')\n",
    "plt.ylabel('IQ')\n",
    "plt.grid()\n",
    "\n",
    "plt.show()"
   ]
  },
  {
   "cell_type": "code",
   "execution_count": 361,
   "id": "e42bcff0",
   "metadata": {
    "ExecuteTime": {
     "end_time": "2023-01-29T03:42:06.802941Z",
     "start_time": "2023-01-29T03:42:06.797138Z"
    }
   },
   "outputs": [],
   "source": [
    "# Again, suppose we got those two new instances\n",
    "\n",
    "X_new = np.array([[2100.0, 8.40],\n",
    "                  [1800.0, 6.75]\n",
    "                  ])"
   ]
  },
  {
   "cell_type": "code",
   "execution_count": 362,
   "id": "ceb50918",
   "metadata": {
    "ExecuteTime": {
     "end_time": "2023-01-29T03:42:07.362166Z",
     "start_time": "2023-01-29T03:42:07.088687Z"
    }
   },
   "outputs": [
    {
     "data": {
      "image/png": "[encoded data removed]",
      "text/plain": [
       "<Figure size 432x288 with 2 Axes>"
      ]
     },
     "metadata": {
      "needs_background": "light"
     },
     "output_type": "display_data"
    }
   ],
   "source": [
    "plt.scatter(X[:,0], X[:,1], c=y)\n",
    "plt.scatter(X_new[:,0], X_new[:,1], marker='x', label='new instances')\n",
    "plt.xlabel('AREA')\n",
    "plt.ylabel('CCSA')\n",
    "plt.colorbar(label='IQ')\n",
    "plt.legend()\n",
    "plt.show()"
   ]
  },
  {
   "cell_type": "code",
   "execution_count": 363,
   "id": "e33f34a3",
   "metadata": {
    "ExecuteTime": {
     "end_time": "2023-01-29T03:42:09.873958Z",
     "start_time": "2023-01-29T03:42:09.861321Z"
    }
   },
   "outputs": [
    {
     "data": {
      "text/plain": [
       "array([ 98.59999847, 103.19999695])"
      ]
     },
     "execution_count": 363,
     "metadata": {},
     "output_type": "execute_result"
    }
   ],
   "source": [
    "knn_frank(X_new, X, y, algorithm='reg', k=5)"
   ]
  },
  {
   "cell_type": "code",
   "execution_count": 365,
   "id": "aba3730a",
   "metadata": {
    "ExecuteTime": {
     "end_time": "2023-01-29T03:43:01.758860Z",
     "start_time": "2023-01-29T03:43:01.748231Z"
    }
   },
   "outputs": [
    {
     "data": {
      "text/plain": [
       "array([ 98.6, 103.2], dtype=float32)"
      ]
     },
     "execution_count": 365,
     "metadata": {},
     "output_type": "execute_result"
    }
   ],
   "source": [
    "# Compare with Sklearn regressor\n",
    "\n",
    "from sklearn.neighbors import KNeighborsRegressor\n",
    "\n",
    "knn_reg = KNeighborsRegressor(n_neighbors=5)\n",
    "knn_reg.fit(X, y)\n",
    "knn_reg.predict(X_new)"
   ]
  },
  {
   "cell_type": "code",
   "execution_count": 370,
   "id": "7b05c0ae",
   "metadata": {
    "ExecuteTime": {
     "end_time": "2023-01-29T03:44:31.448706Z",
     "start_time": "2023-01-29T03:44:31.431096Z"
    }
   },
   "outputs": [
    {
     "name": "stdout",
     "output_type": "stream",
     "text": [
      "KNN-Frank RMSE: 11.511298777385678\n",
      "KNN-Sklearn RMSE: 11.511298179626465\n"
     ]
    }
   ],
   "source": [
    "# Lets compare metrics\n",
    "\n",
    "from sklearn.metrics import mean_squared_error\n",
    "\n",
    "knn_reg = KNeighborsRegressor(n_neighbors=5)\n",
    "knn_reg.fit(X, y)\n",
    "y_pred_sklearn = knn_reg.predict(X)\n",
    "\n",
    "y_pred_frank = knn_frank(X, X, y, algorithm='reg', k=5)\n",
    "\n",
    "print(f'KNN-Frank RMSE: {np.sqrt(mean_squared_error(y, y_pred_frank))}')\n",
    "print(f'KNN-Sklearn RMSE: {np.sqrt(mean_squared_error(y, y_pred_sklearn))}')"
   ]
  },
  {
   "cell_type": "code",
   "execution_count": null,
   "id": "8a6b63f8",
   "metadata": {},
   "outputs": [],
   "source": [
    "# On spot"
   ]
  },
  {
   "cell_type": "code",
   "execution_count": 380,
   "id": "51b8573a",
   "metadata": {
    "ExecuteTime": {
     "end_time": "2023-01-29T03:56:03.183656Z",
     "start_time": "2023-01-29T03:56:03.144563Z"
    }
   },
   "outputs": [],
   "source": [
    "# Lets try to make a regression between AREA and IQ\n",
    "\n",
    "X_space = np.linspace(1680, 2265, 100)\n",
    "y_space_pred = knn_frank(X_space, X[:,0], y, algorithm='reg', k=3)"
   ]
  },
  {
   "cell_type": "code",
   "execution_count": 381,
   "id": "e3f59899",
   "metadata": {
    "ExecuteTime": {
     "end_time": "2023-01-29T03:56:03.888148Z",
     "start_time": "2023-01-29T03:56:03.734999Z"
    }
   },
   "outputs": [
    {
     "data": {
      "image/png": "[encoded data removed]",
      "text/plain": [
       "<Figure size 432x288 with 1 Axes>"
      ]
     },
     "metadata": {
      "needs_background": "light"
     },
     "output_type": "display_data"
    }
   ],
   "source": [
    "plt.scatter(X[:,0], y)\n",
    "plt.plot(X_space, y_space_pred, 'r')\n",
    "plt.xlabel('AREA')\n",
    "plt.ylabel('IQ')\n",
    "plt.grid()\n",
    "plt.show()"
   ]
  },
  {
   "cell_type": "code",
   "execution_count": 176,
   "id": "7338306b",
   "metadata": {
    "ExecuteTime": {
     "end_time": "2023-01-28T22:17:21.191154Z",
     "start_time": "2023-01-28T22:17:21.186205Z"
    }
   },
   "outputs": [],
   "source": [
    "# Useful tips for KNN\n",
    "\n",
    "# k must be odd if it is a two class problem\n",
    "# k must not be a multiple of the number of classes\n",
    "# complexity scales with the number of instances\n",
    "# sometimes data should be normalized/scaled"
   ]
  }
 ],
 "metadata": {
  "kernelspec": {
   "display_name": "Python 3",
   "language": "python",
   "name": "python3"
  },
  "language_info": {
   "codemirror_mode": {
    "name": "ipython",
    "version": 3
   },
   "file_extension": ".py",
   "mimetype": "text/x-python",
   "name": "python",
   "nbconvert_exporter": "python",
   "pygments_lexer": "ipython3",
   "version": "3.8.10"
  },
  "varInspector": {
   "cols": {
    "lenName": 16,
    "lenType": 16,
    "lenVar": 40
   },
   "kernels_config": {
    "python": {
     "delete_cmd_postfix": "",
     "delete_cmd_prefix": "del ",
     "library": "var_list.py",
     "varRefreshCmd": "print(var_dic_list())"
    },
    "r": {
     "delete_cmd_postfix": ") ",
     "delete_cmd_prefix": "rm(",
     "library": "var_list.r",
     "varRefreshCmd": "cat(var_dic_list()) "
    }
   },
   "position": {
    "height": "425.839px",
    "left": "867.779px",
    "right": "20px",
    "top": "120px",
    "width": "349.995px"
   },
   "types_to_exclude": [
    "module",
    "function",
    "builtin_function_or_method",
    "instance",
    "_Feature"
   ],
   "window_display": false
  }
 },
 "nbformat": 4,
 "nbformat_minor": 5
}
