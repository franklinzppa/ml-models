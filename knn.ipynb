{
 "cells": [
  {
   "cell_type": "code",
   "execution_count": 29,
   "id": "7a062477",
   "metadata": {
    "ExecuteTime": {
     "end_time": "2023-01-27T23:05:57.137820Z",
     "start_time": "2023-01-27T23:05:57.132602Z"
    }
   },
   "outputs": [],
   "source": [
    "# Importing\n",
    "\n",
    "import numpy as np\n",
    "import pandas as pd\n",
    "import matplotlib.pyplot as plt\n",
    "from sklearn.datasets import load_iris"
   ]
  },
  {
   "cell_type": "code",
   "execution_count": 30,
   "id": "c33c3817",
   "metadata": {
    "ExecuteTime": {
     "end_time": "2023-01-27T23:05:57.322329Z",
     "start_time": "2023-01-27T23:05:57.313008Z"
    }
   },
   "outputs": [],
   "source": [
    "# Loading the Iris dataset\n",
    "\n",
    "X, y = load_iris(return_X_y=True, as_frame=True)"
   ]
  },
  {
   "cell_type": "code",
   "execution_count": 31,
   "id": "4e6a233b",
   "metadata": {
    "ExecuteTime": {
     "end_time": "2023-01-27T23:05:57.481352Z",
     "start_time": "2023-01-27T23:05:57.475566Z"
    }
   },
   "outputs": [],
   "source": [
    "# Selecting two features and converting X,y to arrays\n",
    "\n",
    "X = X[['petal length (cm)', 'petal width (cm)']].to_numpy()\n",
    "y = y.to_numpy()"
   ]
  },
  {
   "cell_type": "code",
   "execution_count": 41,
   "id": "5006f81f",
   "metadata": {
    "ExecuteTime": {
     "end_time": "2023-01-27T23:13:56.545176Z",
     "start_time": "2023-01-27T23:13:56.404703Z"
    }
   },
   "outputs": [
    {
     "data": {
      "image/png": "[encoded data removed]",
      "text/plain": [
       "<Figure size 432x288 with 1 Axes>"
      ]
     },
     "metadata": {
      "needs_background": "light"
     },
     "output_type": "display_data"
    }
   ],
   "source": [
    "# Plotting\n",
    "\n",
    "plt.scatter(X[:,0], X[:,1], c=y)\n",
    "plt.xlabel('petal length (cm)')\n",
    "plt.ylabel('petal width (cm)')\n",
    "plt.show()"
   ]
  },
  {
   "cell_type": "code",
   "execution_count": null,
   "id": "a3c3cfa4",
   "metadata": {},
   "outputs": [],
   "source": [
    "# Plotar classes separadas"
   ]
  },
  {
   "cell_type": "code",
   "execution_count": 119,
   "id": "e3e6eda0",
   "metadata": {
    "ExecuteTime": {
     "end_time": "2023-01-28T00:32:37.118501Z",
     "start_time": "2023-01-28T00:32:37.108688Z"
    }
   },
   "outputs": [],
   "source": [
    "def knn(X_new, X, y, k=5):\n",
    "    M = X.shape[0]\n",
    "    distances = np.zeros(M)\n",
    "\n",
    "    for i in range(M):\n",
    "        distances[i] = np.linalg.norm((X_new - X[i]))\n",
    "\n",
    "    sorted_indexes = np.argsort(distances)\n",
    "    sorted_distances = np.sort(distances)\n",
    "\n",
    "    k_indexes = sorted_indexes[:k]\n",
    "    k_labels = y[k_indexes]\n",
    "\n",
    "    label, count = np.unique(k_labels, return_counts=True)\n",
    "    y_pred = label[count.argmax()]\n",
    "    \n",
    "    return y_pred"
   ]
  },
  {
   "cell_type": "code",
   "execution_count": 120,
   "id": "16d55f2e",
   "metadata": {
    "ExecuteTime": {
     "end_time": "2023-01-28T00:32:37.264330Z",
     "start_time": "2023-01-28T00:32:37.261860Z"
    }
   },
   "outputs": [],
   "source": [
    "# Modificar para permitir a previsão de mais de uma instância ao mesmo tempo\n",
    "# Usar OOP herdando do sklearn"
   ]
  },
  {
   "cell_type": "code",
   "execution_count": 122,
   "id": "a53d0340",
   "metadata": {
    "ExecuteTime": {
     "end_time": "2023-01-28T00:32:47.760377Z",
     "start_time": "2023-01-28T00:32:47.750531Z"
    }
   },
   "outputs": [
    {
     "data": {
      "text/plain": [
       "2"
      ]
     },
     "execution_count": 122,
     "metadata": {},
     "output_type": "execute_result"
    }
   ],
   "source": [
    "X_new = np.array([6.5, 1.75])\n",
    "\n",
    "knn(X_new, X, y, k=5)"
   ]
  },
  {
   "cell_type": "code",
   "execution_count": null,
   "id": "f3183ed8",
   "metadata": {},
   "outputs": [],
   "source": [
    "# Comparar com implementação do sklearn"
   ]
  }
 ],
 "metadata": {
  "kernelspec": {
   "display_name": "Python 3",
   "language": "python",
   "name": "python3"
  },
  "language_info": {
   "codemirror_mode": {
    "name": "ipython",
    "version": 3
   },
   "file_extension": ".py",
   "mimetype": "text/x-python",
   "name": "python",
   "nbconvert_exporter": "python",
   "pygments_lexer": "ipython3",
   "version": "3.8.10"
  },
  "varInspector": {
   "cols": {
    "lenName": 16,
    "lenType": 16,
    "lenVar": 40
   },
   "kernels_config": {
    "python": {
     "delete_cmd_postfix": "",
     "delete_cmd_prefix": "del ",
     "library": "var_list.py",
     "varRefreshCmd": "print(var_dic_list())"
    },
    "r": {
     "delete_cmd_postfix": ") ",
     "delete_cmd_prefix": "rm(",
     "library": "var_list.r",
     "varRefreshCmd": "cat(var_dic_list()) "
    }
   },
   "types_to_exclude": [
    "module",
    "function",
    "builtin_function_or_method",
    "instance",
    "_Feature"
   ],
   "window_display": false
  }
 },
 "nbformat": 4,
 "nbformat_minor": 5
}
