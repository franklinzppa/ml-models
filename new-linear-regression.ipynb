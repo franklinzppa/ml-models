{
 "cells": [
  {
   "cell_type": "code",
   "execution_count": 83,
   "id": "8e9f2610",
   "metadata": {
    "ExecuteTime": {
     "end_time": "2023-02-09T23:53:07.993109Z",
     "start_time": "2023-02-09T23:53:07.988015Z"
    }
   },
   "outputs": [],
   "source": [
    "# Importing\n",
    "\n",
    "import numpy as np\n",
    "import matplotlib.pyplot as plt\n",
    "\n",
    "# Plotting parameters\n",
    "\n",
    "plt.style.use('science')\n",
    "plt.rcParams['figure.figsize'] = (7,5)\n",
    "plt.rcParams['font.size'] = 15\n",
    "plt.rcParams['text.usetex'] = True"
   ]
  },
  {
   "cell_type": "code",
   "execution_count": 84,
   "id": "a274dea4",
   "metadata": {
    "ExecuteTime": {
     "end_time": "2023-02-09T23:53:08.390645Z",
     "start_time": "2023-02-09T23:53:07.996226Z"
    },
    "scrolled": false
   },
   "outputs": [
    {
     "data": {
      "image/png": "[encoded data removed]",
      "text/plain": [
       "<Figure size 504x360 with 1 Axes>"
      ]
     },
     "metadata": {
      "needs_background": "light"
     },
     "output_type": "display_data"
    }
   ],
   "source": [
    "# Generating data\n",
    "\n",
    "X = 2* np.random.rand(100, 1)\n",
    "y = 4 + 3*X + np.random.rand(100, 1)\n",
    "\n",
    "plt.scatter(X, y)\n",
    "plt.xlabel(\"X\")\n",
    "plt.ylabel(\"y\")\n",
    "plt.show()"
   ]
  },
  {
   "cell_type": "markdown",
   "id": "cf1e0fb3",
   "metadata": {},
   "source": [
    "## Normal Equation"
   ]
  },
  {
   "cell_type": "code",
   "execution_count": 85,
   "id": "02dd2a3e",
   "metadata": {
    "ExecuteTime": {
     "end_time": "2023-02-09T23:53:08.404208Z",
     "start_time": "2023-02-09T23:53:08.394182Z"
    }
   },
   "outputs": [],
   "source": [
    "# Normal equation\n",
    "\n",
    "class NormalLinearRegression:\n",
    "    def __init__(self):\n",
    "        pass\n",
    "    \n",
    "    def fit(self, X, y):\n",
    "        X_b = np.c_[(np.ones((X.shape[0], X.shape[1])), X)]\n",
    "        self.theta_ = np.zeros(X.shape[1] + 1)\n",
    "        self.theta_ = np.linalg.inv(X_b.T@X_b)@X_b.T@y\n",
    "    \n",
    "    def predict(self, X):\n",
    "        X_b = np.c_[(np.ones((X.shape[0], X.shape[1])), X)]\n",
    "        return X_b @ theta"
   ]
  },
  {
   "cell_type": "code",
   "execution_count": 86,
   "id": "a435afa2",
   "metadata": {
    "ExecuteTime": {
     "end_time": "2023-02-09T23:53:08.413227Z",
     "start_time": "2023-02-09T23:53:08.407378Z"
    }
   },
   "outputs": [],
   "source": [
    "lin_reg = NormalLinearRegression()\n",
    "lin_reg.fit(X, y)"
   ]
  },
  {
   "cell_type": "code",
   "execution_count": 87,
   "id": "30e1498a",
   "metadata": {
    "ExecuteTime": {
     "end_time": "2023-02-09T23:53:08.425125Z",
     "start_time": "2023-02-09T23:53:08.416386Z"
    }
   },
   "outputs": [
    {
     "name": "stdout",
     "output_type": "stream",
     "text": [
      "[[4.56632068]\n",
      " [2.90298125]]\n"
     ]
    }
   ],
   "source": [
    "# Our parameters estimations is pretty close from the original (4,3) parameters\n",
    "\n",
    "print(lin_reg.theta_)"
   ]
  },
  {
   "cell_type": "code",
   "execution_count": 88,
   "id": "22ee3f10",
   "metadata": {
    "ExecuteTime": {
     "end_time": "2023-02-09T23:53:08.884214Z",
     "start_time": "2023-02-09T23:53:08.430932Z"
    },
    "scrolled": true
   },
   "outputs": [
    {
     "data": {
      "image/png": "[encoded data removed]",
      "text/plain": [
       "<Figure size 504x360 with 1 Axes>"
      ]
     },
     "metadata": {
      "needs_background": "light"
     },
     "output_type": "display_data"
    }
   ],
   "source": [
    "# Lets predict two points at the extremes to make a line plot\n",
    "\n",
    "X_new = np.array([[0],\n",
    "                  [2]])\n",
    "\n",
    "y_pred = lin_reg.predict(X_new)\n",
    "\n",
    "# Plot\n",
    "\n",
    "plt.scatter(X, y, label='Data')\n",
    "plt.plot(X_new, y_pred, c='r', label='Fit')\n",
    "plt.xlabel(\"X\")\n",
    "plt.ylabel(\"y\")\n",
    "plt.show()"
   ]
  },
  {
   "cell_type": "code",
   "execution_count": null,
   "id": "b254369b",
   "metadata": {},
   "outputs": [],
   "source": []
  },
  {
   "cell_type": "code",
   "execution_count": 89,
   "id": "0f39ce71",
   "metadata": {
    "ExecuteTime": {
     "end_time": "2023-02-09T23:53:08.893941Z",
     "start_time": "2023-02-09T23:53:08.890101Z"
    }
   },
   "outputs": [],
   "source": [
    "# Gradient Descent"
   ]
  }
 ],
 "metadata": {
  "kernelspec": {
   "display_name": "Python 3",
   "language": "python",
   "name": "python3"
  },
  "language_info": {
   "codemirror_mode": {
    "name": "ipython",
    "version": 3
   },
   "file_extension": ".py",
   "mimetype": "text/x-python",
   "name": "python",
   "nbconvert_exporter": "python",
   "pygments_lexer": "ipython3",
   "version": "3.8.10"
  },
  "varInspector": {
   "cols": {
    "lenName": 16,
    "lenType": 16,
    "lenVar": 40
   },
   "kernels_config": {
    "python": {
     "delete_cmd_postfix": "",
     "delete_cmd_prefix": "del ",
     "library": "var_list.py",
     "varRefreshCmd": "print(var_dic_list())"
    },
    "r": {
     "delete_cmd_postfix": ") ",
     "delete_cmd_prefix": "rm(",
     "library": "var_list.r",
     "varRefreshCmd": "cat(var_dic_list()) "
    }
   },
   "types_to_exclude": [
    "module",
    "function",
    "builtin_function_or_method",
    "instance",
    "_Feature"
   ],
   "window_display": false
  }
 },
 "nbformat": 4,
 "nbformat_minor": 5
}
