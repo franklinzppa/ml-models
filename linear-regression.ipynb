{
 "cells": [
  {
   "cell_type": "markdown",
   "id": "57411ffa",
   "metadata": {},
   "source": [
    "# Linear Regression"
   ]
  },
  {
   "cell_type": "markdown",
   "id": "070d2134",
   "metadata": {},
   "source": [
    "![](img/linear_regression.png \"Text to show on mouseover\")"
   ]
  },
  {
   "cell_type": "markdown",
   "id": "ade89e56",
   "metadata": {},
   "source": [
    "A Linear regression is a ML model with a hipothesis function of the form $h_\\theta(x) = \\theta_0 + \\theta_1 x$, where $\\theta$ are the model parameters to be found, such that the cost function (MSE) is minimum."
   ]
  },
  {
   "cell_type": "code",
   "execution_count": 67,
   "id": "8c7455ef",
   "metadata": {
    "ExecuteTime": {
     "end_time": "2023-02-10T21:29:16.755147Z",
     "start_time": "2023-02-10T21:29:16.750731Z"
    }
   },
   "outputs": [],
   "source": [
    "# Importing\n",
    "\n",
    "import numpy as np\n",
    "import matplotlib.pyplot as plt\n",
    "from sklearn.linear_model import LinearRegression\n",
    "from sklearn.metrics import mean_squared_error, r2_score\n",
    "\n",
    "# Plotting parameters\n",
    "\n",
    "plt.style.use('science')\n",
    "plt.rcParams['figure.figsize'] = (7,5)\n",
    "plt.rcParams['font.size'] = 15\n",
    "plt.rcParams['text.usetex'] = True"
   ]
  },
  {
   "cell_type": "code",
   "execution_count": 68,
   "id": "5ca7021a",
   "metadata": {
    "ExecuteTime": {
     "end_time": "2023-02-10T21:29:17.133322Z",
     "start_time": "2023-02-10T21:29:16.757597Z"
    },
    "scrolled": false
   },
   "outputs": [
    {
     "data": {
      "image/png": "[encoded data removed]",
      "text/plain": [
       "<Figure size 504x360 with 1 Axes>"
      ]
     },
     "metadata": {
      "needs_background": "light"
     },
     "output_type": "display_data"
    }
   ],
   "source": [
    "# Generating data\n",
    "\n",
    "X = 2* np.random.rand(100, 1)\n",
    "y = 4 + 3*X + np.random.rand(100, 1)\n",
    "\n",
    "plt.scatter(X, y)\n",
    "plt.xlabel(\"X\")\n",
    "plt.ylabel(\"y\")\n",
    "plt.show()"
   ]
  },
  {
   "cell_type": "markdown",
   "id": "96f1e8fb",
   "metadata": {},
   "source": [
    "## Normal Equation (Exact solution)"
   ]
  },
  {
   "cell_type": "code",
   "execution_count": 69,
   "id": "1b74884f",
   "metadata": {
    "ExecuteTime": {
     "end_time": "2023-02-10T21:29:17.145399Z",
     "start_time": "2023-02-10T21:29:17.137309Z"
    }
   },
   "outputs": [],
   "source": [
    "# Normal equation\n",
    "\n",
    "class NormalLinearRegression:\n",
    "    def __init__(self):\n",
    "        pass\n",
    "    \n",
    "    def fit(self, X, y):\n",
    "        X_b = np.c_[(np.ones((X.shape[0], X.shape[1])), X)]\n",
    "        self.theta_ = np.linalg.inv(X_b.T@X_b)@X_b.T@y\n",
    "        return self\n",
    "    \n",
    "    def predict(self, X):\n",
    "        X_b = np.c_[(np.ones((X.shape[0], X.shape[1])), X)]\n",
    "        return X_b @ self.theta_"
   ]
  },
  {
   "cell_type": "code",
   "execution_count": 70,
   "id": "537093fa",
   "metadata": {
    "ExecuteTime": {
     "end_time": "2023-02-10T21:29:17.155111Z",
     "start_time": "2023-02-10T21:29:17.149788Z"
    }
   },
   "outputs": [
    {
     "name": "stdout",
     "output_type": "stream",
     "text": [
      "[[4.46233752]\n",
      " [3.00778195]]\n"
     ]
    }
   ],
   "source": [
    "# Our parameters estimations is pretty close from the original  parameters\n",
    "lin_reg = NormalLinearRegression()\n",
    "lin_reg.fit(X, y)\n",
    "print(lin_reg.theta_)"
   ]
  },
  {
   "cell_type": "code",
   "execution_count": 71,
   "id": "c9a2cca8",
   "metadata": {
    "ExecuteTime": {
     "end_time": "2023-02-10T21:29:17.609320Z",
     "start_time": "2023-02-10T21:29:17.157273Z"
    },
    "scrolled": false
   },
   "outputs": [
    {
     "data": {
      "image/png": "[encoded data removed]",
      "text/plain": [
       "<Figure size 504x360 with 1 Axes>"
      ]
     },
     "metadata": {
      "needs_background": "light"
     },
     "output_type": "display_data"
    }
   ],
   "source": [
    "# Lets predict two points at the extremes to make a line plot\n",
    "X_new = np.array([[0],\n",
    "                  [2]])\n",
    "\n",
    "y_pred = lin_reg.predict(X_new)\n",
    "\n",
    "# Plot\n",
    "plt.scatter(X, y, label='Data')\n",
    "plt.plot(X_new, y_pred, c='r', label='Fit')\n",
    "plt.xlabel(\"X\")\n",
    "plt.ylabel(\"y\")\n",
    "plt.show()"
   ]
  },
  {
   "cell_type": "markdown",
   "id": "1520b331",
   "metadata": {},
   "source": [
    "This method doesn't work if $X^T X$ is singular. In practice, sklearn uses SVD to compute a pseudo inverse which is faster and more reliable."
   ]
  },
  {
   "cell_type": "code",
   "execution_count": 72,
   "id": "8a609e9c",
   "metadata": {
    "ExecuteTime": {
     "end_time": "2023-02-10T21:29:17.620393Z",
     "start_time": "2023-02-10T21:29:17.614638Z"
    }
   },
   "outputs": [],
   "source": [
    "# Comparing sklearn with our implementation\n",
    "\n",
    "sk_lin_reg = LinearRegression()\n",
    "sk_lin_reg.fit(X, y)\n",
    "\n",
    "y_sk = sk_lin_reg.predict(X)\n",
    "y_frank = lin_reg.predict(X)"
   ]
  },
  {
   "cell_type": "code",
   "execution_count": 73,
   "id": "bc21469c",
   "metadata": {
    "ExecuteTime": {
     "end_time": "2023-02-10T21:29:17.633502Z",
     "start_time": "2023-02-10T21:29:17.623259Z"
    }
   },
   "outputs": [
    {
     "name": "stdout",
     "output_type": "stream",
     "text": [
      "Sklearn\n",
      "MSE: 0.07\n",
      "R2: 0.98\n"
     ]
    }
   ],
   "source": [
    "print('Sklearn')\n",
    "print(f'MSE: {mean_squared_error(y, y_sk):.2f}')\n",
    "print(f'R2: {r2_score(y, y_sk):.2f}')"
   ]
  },
  {
   "cell_type": "code",
   "execution_count": 74,
   "id": "b05118eb",
   "metadata": {
    "ExecuteTime": {
     "end_time": "2023-02-10T21:29:17.646388Z",
     "start_time": "2023-02-10T21:29:17.639335Z"
    },
    "scrolled": true
   },
   "outputs": [
    {
     "name": "stdout",
     "output_type": "stream",
     "text": [
      "Frank\n",
      "MSE: 0.07\n",
      "R2: 0.98\n"
     ]
    }
   ],
   "source": [
    "print('Frank')\n",
    "print(f'MSE: {mean_squared_error(y, y_frank):.2f}')\n",
    "print(f'R2: {r2_score(y, y_frank):.2f}')"
   ]
  },
  {
   "cell_type": "markdown",
   "id": "1457ac1e",
   "metadata": {},
   "source": [
    "## Batch Gradient Descent"
   ]
  },
  {
   "cell_type": "markdown",
   "id": "9018121b",
   "metadata": {},
   "source": [
    "The Batch Gradient Descent consists in initialize our model parameters randomly and move towards a minimum MSE by subtracting the gradient at the actual point using all instances."
   ]
  },
  {
   "cell_type": "code",
   "execution_count": 75,
   "id": "41176ca3",
   "metadata": {
    "ExecuteTime": {
     "end_time": "2023-02-10T21:29:17.655738Z",
     "start_time": "2023-02-10T21:29:17.648999Z"
    }
   },
   "outputs": [],
   "source": [
    "# Gradient Descent\n",
    "\n",
    "class SGDLinearRegression:\n",
    "    def __init__(self, eta=0.1, max_iter=1000, tol=1e-3):\n",
    "        self.eta = eta\n",
    "        self.max_iter = max_iter\n",
    "        self.tol = tol\n",
    "        \n",
    "    def fit(self, X, y):\n",
    "        m_ = X.shape[0]\n",
    "        n_ = X.shape[1]\n",
    "        X_b_ = np.c_[np.ones(m_), X]\n",
    "        self.theta_ = np.random.rand(n_ + 1)\n",
    "        \n",
    "        for i in range(self.max_iter):\n",
    "            grad = (2/m_) * X_b_.T @ (X_b_ @ self.theta_ - y.ravel()) \n",
    "            self.theta_ = self.theta_ - self.eta*(grad)\n",
    "            if np.linalg.norm(grad) < self.tol:\n",
    "                self.i_ = i+1\n",
    "                break\n",
    "        \n",
    "        return self\n",
    "    \n",
    "    def predict(self, X):\n",
    "        X_b = np.c_[(np.ones((X.shape[0], X.shape[1])), X)]\n",
    "        return X_b @ self.theta_"
   ]
  },
  {
   "cell_type": "code",
   "execution_count": 76,
   "id": "1386807a",
   "metadata": {
    "ExecuteTime": {
     "end_time": "2023-02-10T21:29:17.669921Z",
     "start_time": "2023-02-10T21:29:17.657683Z"
    }
   },
   "outputs": [
    {
     "data": {
      "text/plain": [
       "array([4.46013726, 3.00966352])"
      ]
     },
     "execution_count": 76,
     "metadata": {},
     "output_type": "execute_result"
    }
   ],
   "source": [
    "sgd_frank = SGDLinearRegression()\n",
    "sgd_frank.fit(X, y)\n",
    "sgd_frank.theta_"
   ]
  }
 ],
 "metadata": {
  "kernelspec": {
   "display_name": "Python 3",
   "language": "python",
   "name": "python3"
  },
  "language_info": {
   "codemirror_mode": {
    "name": "ipython",
    "version": 3
   },
   "file_extension": ".py",
   "mimetype": "text/x-python",
   "name": "python",
   "nbconvert_exporter": "python",
   "pygments_lexer": "ipython3",
   "version": "3.8.10"
  },
  "varInspector": {
   "cols": {
    "lenName": 16,
    "lenType": 16,
    "lenVar": 40
   },
   "kernels_config": {
    "python": {
     "delete_cmd_postfix": "",
     "delete_cmd_prefix": "del ",
     "library": "var_list.py",
     "varRefreshCmd": "print(var_dic_list())"
    },
    "r": {
     "delete_cmd_postfix": ") ",
     "delete_cmd_prefix": "rm(",
     "library": "var_list.r",
     "varRefreshCmd": "cat(var_dic_list()) "
    }
   },
   "types_to_exclude": [
    "module",
    "function",
    "builtin_function_or_method",
    "instance",
    "_Feature"
   ],
   "window_display": false
  }
 },
 "nbformat": 4,
 "nbformat_minor": 5
}
