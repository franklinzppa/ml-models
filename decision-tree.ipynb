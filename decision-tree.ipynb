{
 "cells": [
  {
   "cell_type": "code",
   "execution_count": 1,
   "id": "37464ec7",
   "metadata": {
    "ExecuteTime": {
     "end_time": "2023-02-01T19:38:16.316423Z",
     "start_time": "2023-02-01T19:38:15.045385Z"
    }
   },
   "outputs": [],
   "source": [
    "import numpy as np\n",
    "import matplotlib.pyplot as plt\n",
    "from sklearn.datasets import load_iris"
   ]
  },
  {
   "cell_type": "code",
   "execution_count": 2,
   "id": "222b79af",
   "metadata": {
    "ExecuteTime": {
     "end_time": "2023-02-01T19:38:16.344095Z",
     "start_time": "2023-02-01T19:38:16.329675Z"
    }
   },
   "outputs": [],
   "source": [
    "# Loading the Iris dataset\n",
    "\n",
    "iris = load_iris()\n",
    "X = iris.data[:, 2:] # Selecting the two last columns\n",
    "y = iris.target\n",
    "\n",
    "target_names = iris.target_names\n",
    "features_names = iris.feature_names"
   ]
  },
  {
   "cell_type": "code",
   "execution_count": 15,
   "id": "2e5d4719",
   "metadata": {
    "ExecuteTime": {
     "end_time": "2023-02-01T19:44:15.003772Z",
     "start_time": "2023-02-01T19:44:15.000197Z"
    }
   },
   "outputs": [],
   "source": [
    "# Restrict ourselves to two classes\n",
    "\n",
    "X = X[np.logical_or(y == 1, y == 2)]\n",
    "y = y[np.logical_or(y == 1, y == 2)]"
   ]
  },
  {
   "cell_type": "code",
   "execution_count": 16,
   "id": "1a82fc72",
   "metadata": {
    "ExecuteTime": {
     "end_time": "2023-02-01T19:44:16.302064Z",
     "start_time": "2023-02-01T19:44:16.097229Z"
    },
    "scrolled": true
   },
   "outputs": [
    {
     "data": {
      "image/png": "[encoded data removed]",
      "text/plain": [
       "<Figure size 432x288 with 1 Axes>"
      ]
     },
     "metadata": {
      "needs_background": "light"
     },
     "output_type": "display_data"
    }
   ],
   "source": [
    "# Plotting\n",
    "\n",
    "plt.scatter(X[y == 1][:,0], X[y == 1][:,1], label=target_names[1])\n",
    "plt.scatter(X[y == 2][:,0], X[y == 2][:,1], label=target_names[2])\n",
    "plt.xlabel(features_names[2])\n",
    "plt.ylabel(features_names[3])\n",
    "plt.legend()\n",
    "plt.show()"
   ]
  },
  {
   "cell_type": "code",
   "execution_count": 103,
   "id": "75f6faea",
   "metadata": {
    "ExecuteTime": {
     "end_time": "2023-02-01T22:28:17.588516Z",
     "start_time": "2023-02-01T22:28:17.582320Z"
    }
   },
   "outputs": [],
   "source": [
    "def gini(partition):\n",
    "    partition_sum = partition.sum()\n",
    "    G = 1 - ((partition/partition_sum)**2).sum()\n",
    "    return G"
   ]
  },
  {
   "cell_type": "code",
   "execution_count": 132,
   "id": "b4aca2ef",
   "metadata": {
    "ExecuteTime": {
     "end_time": "2023-02-01T22:48:14.643397Z",
     "start_time": "2023-02-01T22:48:14.604017Z"
    }
   },
   "outputs": [],
   "source": [
    "# Loop through features and feature values, calculate information gain and find the best separation boundary\n",
    "\n",
    "gini_old = gini(y)\n",
    "information_gain_array = np.zeros(X.shape)\n",
    "\n",
    "for j in range(X.shape[1]):\n",
    "    for i in range(X.shape[0]):\n",
    "        thr = X[i,j]\n",
    "\n",
    "        true_branch = X[X[:,j] >= thr]\n",
    "        false_branch = X[X[:,j] < thr]\n",
    "\n",
    "        true_branch_labels = y[X[:,j] >= thr]\n",
    "        false_branch_labels = y[X[:,j] < thr]\n",
    "\n",
    "        _, node_value_true = np.unique(true_branch_labels, return_counts=True)\n",
    "        _, node_value_false = np.unique(false_branch_labels, return_counts=True)\n",
    "        \n",
    "        gini_true = gini(node_value_true)\n",
    "        n_gini_true = gini_true.sum() \n",
    "\n",
    "        gini_false = gini(node_value_false)\n",
    "        n_gini_false = gini_false.sum()\n",
    "\n",
    "        n_gini_total = n_gini_true + n_gini_false\n",
    "\n",
    "        weighted_mean_gini = (gini_true*n_gini_true + gini_false*n_gini_false)/n_gini_total\n",
    "        information_gain = gini_old - weighted_mean_gini\n",
    "        information_gain_array[i,j] = information_gain\n",
    "        \n",
    "flat_index = information_gain_array.argmax()\n",
    "max_gain_index = np.unravel_index(flat_index, information_gain_array.shape)"
   ]
  },
  {
   "cell_type": "code",
   "execution_count": 133,
   "id": "b3f7eb0f",
   "metadata": {
    "ExecuteTime": {
     "end_time": "2023-02-01T22:48:15.340720Z",
     "start_time": "2023-02-01T22:48:15.090649Z"
    }
   },
   "outputs": [
    {
     "data": {
      "image/png": "[encoded data removed]",
      "text/plain": [
       "<Figure size 432x288 with 1 Axes>"
      ]
     },
     "metadata": {
      "needs_background": "light"
     },
     "output_type": "display_data"
    }
   ],
   "source": [
    "plt.scatter(X[y == 1][:,0], X[y == 1][:,1], label=target_names[1])\n",
    "plt.scatter(X[y == 2][:,0], X[y == 2][:,1], label=target_names[2])\n",
    "plt.axhline(y=X[max_gain_index], c='r', ls='--')\n",
    "plt.xlabel(features_names[2])\n",
    "plt.ylabel(features_names[3])\n",
    "plt.legend()\n",
    "plt.show()"
   ]
  },
  {
   "cell_type": "code",
   "execution_count": null,
   "id": "b44a3c68",
   "metadata": {},
   "outputs": [],
   "source": [
    "# Creating a new branch for the False side\n",
    "\n"
   ]
  },
  {
   "cell_type": "code",
   "execution_count": null,
   "id": "5506751f",
   "metadata": {},
   "outputs": [],
   "source": [
    "# Creating a new branch for the True side\n",
    "\n"
   ]
  },
  {
   "cell_type": "code",
   "execution_count": null,
   "id": "9e396df3",
   "metadata": {},
   "outputs": [],
   "source": [
    "# Decisions trees data do not need to be scaled or centered"
   ]
  }
 ],
 "metadata": {
  "kernelspec": {
   "display_name": "Python 3",
   "language": "python",
   "name": "python3"
  },
  "language_info": {
   "codemirror_mode": {
    "name": "ipython",
    "version": 3
   },
   "file_extension": ".py",
   "mimetype": "text/x-python",
   "name": "python",
   "nbconvert_exporter": "python",
   "pygments_lexer": "ipython3",
   "version": "3.8.10"
  },
  "varInspector": {
   "cols": {
    "lenName": 16,
    "lenType": 16,
    "lenVar": 40
   },
   "kernels_config": {
    "python": {
     "delete_cmd_postfix": "",
     "delete_cmd_prefix": "del ",
     "library": "var_list.py",
     "varRefreshCmd": "print(var_dic_list())"
    },
    "r": {
     "delete_cmd_postfix": ") ",
     "delete_cmd_prefix": "rm(",
     "library": "var_list.r",
     "varRefreshCmd": "cat(var_dic_list()) "
    }
   },
   "types_to_exclude": [
    "module",
    "function",
    "builtin_function_or_method",
    "instance",
    "_Feature"
   ],
   "window_display": false
  }
 },
 "nbformat": 4,
 "nbformat_minor": 5
}
