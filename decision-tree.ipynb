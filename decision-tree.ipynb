{
 "cells": [
  {
   "cell_type": "code",
   "execution_count": 1,
   "id": "f11bb200",
   "metadata": {
    "ExecuteTime": {
     "end_time": "2023-01-31T23:03:48.514816Z",
     "start_time": "2023-01-31T23:03:47.195233Z"
    }
   },
   "outputs": [],
   "source": [
    "import numpy as np\n",
    "import matplotlib.pyplot as plt\n",
    "from sklearn.datasets import load_iris"
   ]
  },
  {
   "cell_type": "code",
   "execution_count": 2,
   "id": "0909cc91",
   "metadata": {
    "ExecuteTime": {
     "end_time": "2023-01-31T23:03:48.540902Z",
     "start_time": "2023-01-31T23:03:48.529786Z"
    }
   },
   "outputs": [],
   "source": [
    "# Loading the Iris dataset\n",
    "\n",
    "iris = load_iris()\n",
    "X = iris.data[:, 2:] # Selecting the two last columns\n",
    "y = iris.target\n",
    "\n",
    "target_names = iris.target_names\n",
    "features_names = iris.feature_names"
   ]
  },
  {
   "cell_type": "code",
   "execution_count": 3,
   "id": "6133fef8",
   "metadata": {
    "ExecuteTime": {
     "end_time": "2023-01-31T23:03:48.975650Z",
     "start_time": "2023-01-31T23:03:48.593492Z"
    }
   },
   "outputs": [
    {
     "data": {
      "image/png": "[encoded data removed]",
      "text/plain": [
       "<Figure size 432x288 with 1 Axes>"
      ]
     },
     "metadata": {
      "needs_background": "light"
     },
     "output_type": "display_data"
    }
   ],
   "source": [
    "# Plotting\n",
    "\n",
    "plt.scatter(X[y == 0][:,0], X[y == 0][:,1], label=target_names[0])\n",
    "plt.scatter(X[y == 1][:,0], X[y == 1][:,1], label=target_names[1])\n",
    "plt.scatter(X[y == 2][:,0], X[y == 2][:,1], label=target_names[2])\n",
    "plt.xlabel(features_names[2])\n",
    "plt.ylabel(features_names[3])\n",
    "plt.legend()\n",
    "plt.show()"
   ]
  },
  {
   "cell_type": "code",
   "execution_count": 13,
   "id": "4fa0ca33",
   "metadata": {
    "ExecuteTime": {
     "end_time": "2023-01-31T23:17:49.911188Z",
     "start_time": "2023-01-31T23:17:49.906447Z"
    }
   },
   "outputs": [
    {
     "name": "stdout",
     "output_type": "stream",
     "text": [
      "0.16803840877914955\n"
     ]
    }
   ],
   "source": [
    "# Gini impurity\n",
    "\n",
    "node_value = np.array([0, 49, 5])          # an example of node\n",
    "node_sum = node_value.sum()\n",
    "\n",
    "G = 1 - ((node_value/node_sum)**2).sum()   # G is 0.0 when a node contains only one class\n",
    "print(G)"
   ]
  },
  {
   "cell_type": "code",
   "execution_count": null,
   "id": "40151f8a",
   "metadata": {
    "ExecuteTime": {
     "end_time": "2023-01-31T23:16:04.143552Z",
     "start_time": "2023-01-31T23:16:04.136592Z"
    }
   },
   "outputs": [],
   "source": []
  },
  {
   "cell_type": "code",
   "execution_count": null,
   "id": "cf684d7c",
   "metadata": {},
   "outputs": [],
   "source": []
  },
  {
   "cell_type": "code",
   "execution_count": null,
   "id": "b989c23b",
   "metadata": {},
   "outputs": [],
   "source": []
  },
  {
   "cell_type": "code",
   "execution_count": null,
   "id": "0244aabd",
   "metadata": {},
   "outputs": [],
   "source": []
  },
  {
   "cell_type": "code",
   "execution_count": null,
   "id": "aa90fbc0",
   "metadata": {},
   "outputs": [],
   "source": []
  },
  {
   "cell_type": "code",
   "execution_count": null,
   "id": "8b7012b4",
   "metadata": {},
   "outputs": [],
   "source": [
    "# Decisions trees data do not need to be scaled or centered"
   ]
  }
 ],
 "metadata": {
  "kernelspec": {
   "display_name": "Python 3",
   "language": "python",
   "name": "python3"
  },
  "language_info": {
   "codemirror_mode": {
    "name": "ipython",
    "version": 3
   },
   "file_extension": ".py",
   "mimetype": "text/x-python",
   "name": "python",
   "nbconvert_exporter": "python",
   "pygments_lexer": "ipython3",
   "version": "3.8.10"
  },
  "varInspector": {
   "cols": {
    "lenName": 16,
    "lenType": 16,
    "lenVar": 40
   },
   "kernels_config": {
    "python": {
     "delete_cmd_postfix": "",
     "delete_cmd_prefix": "del ",
     "library": "var_list.py",
     "varRefreshCmd": "print(var_dic_list())"
    },
    "r": {
     "delete_cmd_postfix": ") ",
     "delete_cmd_prefix": "rm(",
     "library": "var_list.r",
     "varRefreshCmd": "cat(var_dic_list()) "
    }
   },
   "types_to_exclude": [
    "module",
    "function",
    "builtin_function_or_method",
    "instance",
    "_Feature"
   ],
   "window_display": false
  }
 },
 "nbformat": 4,
 "nbformat_minor": 5
}
